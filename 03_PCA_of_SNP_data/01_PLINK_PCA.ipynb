{
 "cells": [
  {
   "cell_type": "markdown",
   "metadata": {},
   "source": [
    "# Find principal components"
   ]
  },
  {
   "cell_type": "markdown",
   "metadata": {},
   "source": [
    "Using all SNPs"
   ]
  },
  {
   "cell_type": "code",
   "execution_count": null,
   "metadata": {},
   "outputs": [],
   "source": [
    "~/plink_linux_x86_64/plink --vcf /scratch2/NSF_GWAS/notebooks/InPlantaGWAS/SNPs/1323_VCF/gatk_filtering/1323_cohort.snp.pass.vcf.gz \\\n",
    "--mac 1 \\\n",
    "--allow-extra-chr \\\n",
    "--pca \\\n",
    "--out 1323_cohort_mincount1_defaultmissingrates.pca"
   ]
  },
  {
   "cell_type": "markdown",
   "metadata": {},
   "source": [
    "Using filtered SNPs (MAF > 0.05 here)"
   ]
  },
  {
   "cell_type": "code",
   "execution_count": null,
   "metadata": {},
   "outputs": [],
   "source": [
    "~/plink_linux_x86_64/plink --bfile /scratch2/NSF_GWAS/notebooks/InPlantaGWAS/01_SNP_format_conversions/1323_cohort_maf05_defaultmissingrates \\\n",
    "--allow-extra-chr \\\n",
    "--pca \\\n",
    "--out 1323_cohort_maf05_defaultmissingrates.pca"
   ]
  }
 ],
 "metadata": {
  "kernelspec": {
   "display_name": "Bash",
   "language": "bash",
   "name": "bash"
  },
  "language_info": {
   "codemirror_mode": "shell",
   "file_extension": ".sh",
   "mimetype": "text/x-sh",
   "name": "bash"
  }
 },
 "nbformat": 4,
 "nbformat_minor": 4
}
