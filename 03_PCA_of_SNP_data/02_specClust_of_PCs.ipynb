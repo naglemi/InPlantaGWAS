{
 "cells": [
  {
   "cell_type": "markdown",
   "metadata": {},
   "source": [
    "# Spectral clustering in R"
   ]
  },
  {
   "cell_type": "markdown",
   "metadata": {},
   "source": [
    "##### Purpose: Find clusters of genotypes based on their PCs from SNP data"
   ]
  },
  {
   "cell_type": "code",
   "execution_count": null,
   "metadata": {},
   "outputs": [],
   "source": [
    "# install.packages(\"kknn\")\n",
    "library(kknn)"
   ]
  },
  {
   "cell_type": "markdown",
   "metadata": {},
   "source": [
    "#### Load and examine PC data"
   ]
  },
  {
   "cell_type": "code",
   "execution_count": null,
   "metadata": {},
   "outputs": [],
   "source": [
    "PC_in <- read.csv(\"/scratch2/NSF_GWAS/notebooks/InPlantaGWAS/01_SNP_format_conversions/1323_cohort_maf05_defaultmissingrates.pca.eigenvec\",\n",
    "                  header = FALSE,\n",
    "                  sep =\" \")"
   ]
  },
  {
   "cell_type": "markdown",
   "metadata": {},
   "source": [
    "#### Cluster with `specClust`"
   ]
  },
  {
   "cell_type": "code",
   "execution_count": null,
   "metadata": {},
   "outputs": [],
   "source": [
    "cluster_data <- specClust(PC_in[,3:10]) # Cluster with top 8 PCs"
   ]
  },
  {
   "cell_type": "markdown",
   "metadata": {},
   "source": [
    "#### Prepare Google Map to view geography of clusters"
   ]
  },
  {
   "cell_type": "markdown",
   "metadata": {},
   "source": [
    "Must first prepare a file with longitude, latitude, and cluster ID"
   ]
  },
  {
   "cell_type": "code",
   "execution_count": null,
   "metadata": {},
   "outputs": [],
   "source": [
    "locations <- read.csv(\"../preGWAS_preliminary_experiments/BESC_LocationInfoAll_Final.txt\",\n",
    "                      sep = \"\\t\")"
   ]
  },
  {
   "cell_type": "code",
   "execution_count": null,
   "metadata": {},
   "outputs": [],
   "source": [
    "dim(PC_in)"
   ]
  },
  {
   "cell_type": "code",
   "execution_count": null,
   "metadata": {},
   "outputs": [],
   "source": [
    "length(cluster_data$cluster)"
   ]
  },
  {
   "cell_type": "code",
   "execution_count": null,
   "metadata": {},
   "outputs": [],
   "source": [
    "colnames(PC_in)[1] <- \"Genotype\"\n",
    "merged <- merge(PC_in, locations, by = \"Genotype\", all.x = TRUE)"
   ]
  },
  {
   "cell_type": "code",
   "execution_count": null,
   "metadata": {},
   "outputs": [],
   "source": [
    "merged$cluster <- cluster_data$cluster"
   ]
  },
  {
   "cell_type": "markdown",
   "metadata": {},
   "source": [
    "<div class=\"alert alert-block alert-warning\"> We do not have location data for some genotypes. Which ones? </div>\n"
   ]
  },
  {
   "cell_type": "code",
   "execution_count": null,
   "metadata": {},
   "outputs": [],
   "source": [
    "colnames(merged) <- c(\"Genotype\", \"Genotype_copy\",\n",
    "                     \"PC1\", \"PC2\", \"PC3\", \"PC4\", \"PC5\",\n",
    "                     \"PC6\", \"PC7\", \"PC8\", \"PC9\", \"PC10\",\n",
    "                     \"PC11\", \"PC12\", \"PC13\", \"PC14\", \"PC15\",\n",
    "                     \"PC16\", \"PC17\", \"PC18\", \"PC19\", \"PC20\",\n",
    "                     \"cluster\", \"Latitude\", \"Longitude\")"
   ]
  },
  {
   "cell_type": "code",
   "execution_count": null,
   "metadata": {},
   "outputs": [],
   "source": [
    "data.table::fwrite(merged, \"02-OUT_PCs_clusters_geography.csv\", col.names = TRUE,\n",
    "                   row.names = FALSE, quote = FALSE, sep=\",\")"
   ]
  }
 ],
 "metadata": {
  "kernelspec": {
   "display_name": "R",
   "language": "R",
   "name": "ir"
  },
  "language_info": {
   "codemirror_mode": "r",
   "file_extension": ".r",
   "mimetype": "text/x-r-source",
   "name": "R",
   "pygments_lexer": "r",
   "version": "4.1.3"
  }
 },
 "nbformat": 4,
 "nbformat_minor": 4
}
