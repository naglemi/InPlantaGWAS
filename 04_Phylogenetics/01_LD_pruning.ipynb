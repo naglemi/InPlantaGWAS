{
 "cells": [
  {
   "cell_type": "markdown",
   "metadata": {},
   "source": [
    "# LD pruning"
   ]
  },
  {
   "cell_type": "markdown",
   "metadata": {
    "tags": []
   },
   "source": [
    "LD pruning to produce smaller SNP sets that are sufficient to estimate population structure in `STRUCTURE` without heavy computational burden"
   ]
  },
  {
   "cell_type": "markdown",
   "metadata": {},
   "source": [
    "#### Step 1. Produce lists of variants pruned for LD"
   ]
  },
  {
   "cell_type": "markdown",
   "metadata": {},
   "source": [
    "`indep-pairwise` parameters explained well here: https://authors.library.caltech.edu/100952/1/Chang_2020p49.pdf"
   ]
  },
  {
   "cell_type": "code",
   "execution_count": null,
   "metadata": {
    "tags": []
   },
   "outputs": [],
   "source": [
    "~/plink_linux_x86_64/plink --bfile /scratch2/NSF_GWAS/notebooks/InPlantaGWAS/00_SNP_format_conversions/1323_cohort_maf0.05_defaultmissingrates.snp.pass \\\n",
    "--indep-pairwise 100kb 10 0.05 \\\n",
    "--maf 0.05 \\\n",
    "--geno 0.1 \\\n",
    "--allow-extra-chr \\\n",
    "--out 1323_cohort_indep_maf05_geno10_indep-pairwise_100kb_10_0.05_prune"
   ]
  },
  {
   "cell_type": "code",
   "execution_count": null,
   "metadata": {},
   "outputs": [],
   "source": [
    "~/plink_linux_x86_64/plink --bfile /scratch2/NSF_GWAS/notebooks/InPlantaGWAS/00_SNP_format_conversions/1323_cohort_maf0.05_defaultmissingrates.snp.pass \\\n",
    "--indep-pairwise 10kb 10 0.05 \\\n",
    "--maf 0.05 \\\n",
    "--geno 0.1 \\\n",
    "--allow-extra-chr \\\n",
    "--out 1323_cohort_indep_maf05_geno10_indep-pairwise_10kb_10_0.05_prune"
   ]
  },
  {
   "cell_type": "markdown",
   "metadata": {},
   "source": [
    "#### Step 2. Extract SNPs based on LD prune file and make `STRUCTURE` input file"
   ]
  },
  {
   "cell_type": "code",
   "execution_count": null,
   "metadata": {},
   "outputs": [],
   "source": [
    "~/plink_linux_x86_64/plink \\\n",
    "--bfile /scratch2/NSF_GWAS/notebooks/InPlantaGWAS/00_SNP_format_conversions/1323_cohort_maf0.05_defaultmissingrates.snp.pass \\\n",
    "--make-bed \\\n",
    "--extract 1323_cohort_indep_maf05_geno10_indep-pairwise_100kb_10_0.05_prune.prune.in \\\n",
    "--allow-extra-chr \\\n",
    "--out 1323_cohort_indep_maf05_geno10_indep-pairwise_100kb_10_0.05_prune"
   ]
  },
  {
   "cell_type": "code",
   "execution_count": null,
   "metadata": {},
   "outputs": [],
   "source": [
    "~/plink_linux_x86_64/plink \\\n",
    "--bfile /scratch2/NSF_GWAS/notebooks/InPlantaGWAS/00_SNP_format_conversions/1323_cohort_maf0.05_defaultmissingrates.snp.pass \\\n",
    "--make-bed \\\n",
    "--extract 1323_cohort_indep_maf05_geno10_indep-pairwise_10kb_10_0.05_prune.prune.in \\\n",
    "--allow-extra-chr \\\n",
    "--out 1323_cohort_indep_maf05_geno10_indep-pairwise_10kb_10_0.05_prune"
   ]
  },
  {
   "cell_type": "markdown",
   "metadata": {
    "heading_collapsed": "true"
   },
   "source": [
    "##### Prepare a version with MAF 0.05"
   ]
  },
  {
   "cell_type": "code",
   "execution_count": null,
   "metadata": {},
   "outputs": [],
   "source": [
    "~/plink_linux_x86_64/plink \\\n",
    "--bfile /scratch2/NSF_GWAS/notebooks/InPlantaGWAS/00_SNP_format_conversions/1323_cohort_maf0.05_defaultmissingrates.snp.pass \\\n",
    "--make-bed \\\n",
    "--extract 1323_cohort_indep_500_5_2_prune.prune.in \\\n",
    "--allow-extra-chr \\\n",
    "--out 1323_cohort_maf0.05_defaultmissingrates_indep_500_5_2_prune"
   ]
  },
  {
   "cell_type": "code",
   "execution_count": null,
   "metadata": {},
   "outputs": [],
   "source": [
    "~/plink_linux_x86_64/plink \\\n",
    "--bfile /scratch2/NSF_GWAS/notebooks/InPlantaGWAS/00_SNP_format_conversions/1323_cohort_maf0.05_defaultmissingrates.snp.pass \\\n",
    "--make-bed \\\n",
    "--extract 1323_cohort_indep_maf05_indep-pairwise_10kb_1kb_0.05_prune.prune.in \\\n",
    "--allow-extra-chr \\\n",
    "--out 1323_cohort_maf0.05_defaultmissingrates_indep-pairwise_10kb_1kb_0.05_prune"
   ]
  },
  {
   "cell_type": "markdown",
   "metadata": {},
   "source": [
    "#### Produce a report of LD, including across chromosomes, for randomly selected SNPs"
   ]
  },
  {
   "cell_type": "code",
   "execution_count": null,
   "metadata": {},
   "outputs": [],
   "source": [
    "plink \\\n",
    "--bfile /mnt/data/NSF_GWAS/notebooks/InPlantaGWAS/01_SNP_format_conversions/1323_cohort_maf01_geno10_contiguous.snp.pass \\\n",
    "--thin 0.01 \\\n",
    "--r2 inter-chr \\\n",
    "--allow-extra-chr \\\n",
    "--out 1323_cohort_maf01_geno10_contiguous_r2_thin01"
   ]
  },
  {
   "cell_type": "code",
   "execution_count": null,
   "metadata": {},
   "outputs": [],
   "source": []
  }
 ],
 "metadata": {
  "kernelspec": {
   "display_name": "Bash",
   "language": "bash",
   "name": "bash"
  },
  "language_info": {
   "codemirror_mode": "shell",
   "file_extension": ".sh",
   "mimetype": "text/x-sh",
   "name": "bash"
  }
 },
 "nbformat": 4,
 "nbformat_minor": 4
}
