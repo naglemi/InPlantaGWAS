{
 "cells": [
  {
   "cell_type": "markdown",
   "metadata": {},
   "source": [
    "# Produce phylograms cross-referencing data from `fastStructure` and geographical locations of clones"
   ]
  },
  {
   "cell_type": "markdown",
   "metadata": {},
   "source": [
    "## Install and load `phytools` R package"
   ]
  },
  {
   "cell_type": "code",
   "execution_count": null,
   "metadata": {},
   "outputs": [],
   "source": [
    "# install.packages(\"phytools\")"
   ]
  },
  {
   "cell_type": "code",
   "execution_count": null,
   "metadata": {},
   "outputs": [],
   "source": [
    "library(phytools)"
   ]
  },
  {
   "cell_type": "markdown",
   "metadata": {},
   "source": [
    "## Load our data and format as needed"
   ]
  },
  {
   "cell_type": "markdown",
   "metadata": {},
   "source": [
    "### Load phylogram data from `SNPhylo`"
   ]
  },
  {
   "cell_type": "code",
   "execution_count": null,
   "metadata": {},
   "outputs": [],
   "source": [
    "tree <- read.tree(\"~/GUIs/01.6_Phylogenetics/SNPhylo/outputa4.ml.tree\")"
   ]
  },
  {
   "cell_type": "code",
   "execution_count": null,
   "metadata": {},
   "outputs": [],
   "source": [
    "tiplabels <- tree$tip.label"
   ]
  },
  {
   "cell_type": "code",
   "execution_count": null,
   "metadata": {},
   "outputs": [],
   "source": [
    "length(tiplabels)"
   ]
  },
  {
   "cell_type": "code",
   "execution_count": null,
   "metadata": {},
   "outputs": [],
   "source": [
    "head(tiplabels)"
   ]
  },
  {
   "cell_type": "markdown",
   "metadata": {},
   "source": [
    "<div class=\"alert alert-block alert-warning\"> Note that tip labels from `SNPhylo` output are genotype name, repeated after _, truncated to 10 characters </div>"
   ]
  },
  {
   "cell_type": "markdown",
   "metadata": {},
   "source": [
    "### Load and format geographical data"
   ]
  },
  {
   "cell_type": "code",
   "execution_count": null,
   "metadata": {},
   "outputs": [],
   "source": [
    "geo <- read.csv(\"BESC_LocationInfoAll_Final.txt\", row.names = 1, sep = \"\\t\")"
   ]
  },
  {
   "cell_type": "markdown",
   "metadata": {},
   "source": [
    "Change rownames to match with labels from `SNPhylo`"
   ]
  },
  {
   "cell_type": "code",
   "execution_count": null,
   "metadata": {},
   "outputs": [],
   "source": [
    "rownames(geo) <- paste0(rownames(geo), \"_\", rownames(geo))\n",
    "\n",
    "rownames(geo) <- stringr::str_trunc(rownames(geo), width = 10, ellipsis = \"\")\n",
    "\n",
    "rownames(geo) <- gsub(\"Nisqually\", \"NISQUALLY\", rownames(geo))"
   ]
  },
  {
   "cell_type": "code",
   "execution_count": null,
   "metadata": {},
   "outputs": [],
   "source": [
    "setdiff(rownames(geo), tiplabels)"
   ]
  },
  {
   "cell_type": "code",
   "execution_count": null,
   "metadata": {},
   "outputs": [],
   "source": [
    "setdiff(tiplabels, rownames(geo))"
   ]
  },
  {
   "cell_type": "code",
   "execution_count": null,
   "metadata": {},
   "outputs": [],
   "source": [
    "dim(geo)"
   ]
  },
  {
   "cell_type": "code",
   "execution_count": null,
   "metadata": {},
   "outputs": [],
   "source": [
    "geo <- geo[which(rownames(geo) %in% tiplabels), ]"
   ]
  },
  {
   "cell_type": "code",
   "execution_count": null,
   "metadata": {},
   "outputs": [],
   "source": [
    "dim(geo)"
   ]
  },
  {
   "cell_type": "code",
   "execution_count": null,
   "metadata": {},
   "outputs": [],
   "source": [
    "colnames(geo) <- c(\"lat\", \"long\")"
   ]
  },
  {
   "cell_type": "code",
   "execution_count": null,
   "metadata": {},
   "outputs": [],
   "source": [
    "geo_lat_only <- geo\n",
    "geo_lat_only$long <- NULL\n",
    "\n",
    "geo_long_only <- geo\n",
    "geo_long_only$lat <- NULL"
   ]
  },
  {
   "cell_type": "code",
   "execution_count": null,
   "metadata": {},
   "outputs": [],
   "source": [
    "# geo <- as.matrix(geo)"
   ]
  },
  {
   "cell_type": "code",
   "execution_count": null,
   "metadata": {},
   "outputs": [],
   "source": [
    "# geo_lat_only <- as.matrix(geo_lat_only)\n",
    "# geo_long_only <- as.matrix(geo_long_only)"
   ]
  },
  {
   "cell_type": "markdown",
   "metadata": {},
   "source": [
    "### Load and format `fastStructure` data"
   ]
  },
  {
   "cell_type": "markdown",
   "metadata": {},
   "source": [
    "#### Load `fastStructure` data"
   ]
  },
  {
   "cell_type": "code",
   "execution_count": null,
   "metadata": {},
   "outputs": [],
   "source": [
    "structure7 <- read.csv(\"fastStructure_mean_results/SNPs72kfiltered_mean.7.meanQ\", header = FALSE, sep =\"\\t\")"
   ]
  },
  {
   "cell_type": "code",
   "execution_count": null,
   "metadata": {},
   "outputs": [],
   "source": [
    "head(structure7)"
   ]
  },
  {
   "cell_type": "code",
   "execution_count": null,
   "metadata": {},
   "outputs": [],
   "source": [
    "structure6 <- read.csv(\"fastStructure_mean_results/SNPs72kfiltered_mean.6.meanQ\", header = FALSE, sep =\"\\t\")"
   ]
  },
  {
   "cell_type": "markdown",
   "metadata": {},
   "source": [
    "#### Add rownames for genotype name to `fastStructure` data and convert to matrix"
   ]
  },
  {
   "cell_type": "markdown",
   "metadata": {},
   "source": [
    "##### Obtain correctly ordered row names"
   ]
  },
  {
   "cell_type": "code",
   "execution_count": null,
   "metadata": {},
   "outputs": [],
   "source": [
    "genotype_names <- data.table::fread(\"id_list_1323geno.txt\", header = TRUE, sep = \"\\t\")"
   ]
  },
  {
   "cell_type": "code",
   "execution_count": null,
   "metadata": {},
   "outputs": [],
   "source": [
    "genotype_names <- colnames(genotype_names)[10:ncol(genotype_names)]"
   ]
  },
  {
   "cell_type": "code",
   "execution_count": null,
   "metadata": {},
   "outputs": [],
   "source": [
    "head(genotype_names)"
   ]
  },
  {
   "cell_type": "markdown",
   "metadata": {},
   "source": [
    "##### Add the rownames to `fastStructure` dataframe, then convert to matrix"
   ]
  },
  {
   "cell_type": "code",
   "execution_count": null,
   "metadata": {},
   "outputs": [],
   "source": [
    "dim(structure7)"
   ]
  },
  {
   "cell_type": "code",
   "execution_count": null,
   "metadata": {},
   "outputs": [],
   "source": [
    "length(genotype_names)"
   ]
  },
  {
   "cell_type": "code",
   "execution_count": null,
   "metadata": {},
   "outputs": [],
   "source": [
    "rownames(structure7) <- rownames(structure6) <- genotype_names"
   ]
  },
  {
   "cell_type": "code",
   "execution_count": null,
   "metadata": {},
   "outputs": [],
   "source": [
    "structure7 <- as.matrix(structure7)\n",
    "structure6 <- as.matrix(structure6)"
   ]
  },
  {
   "cell_type": "code",
   "execution_count": null,
   "metadata": {},
   "outputs": [],
   "source": [
    "head(structure7)"
   ]
  },
  {
   "cell_type": "markdown",
   "metadata": {},
   "source": [
    "##### Format rownames as needed to reflect duplication, 10-character limit in `fastStructure` results"
   ]
  },
  {
   "cell_type": "code",
   "execution_count": null,
   "metadata": {},
   "outputs": [],
   "source": [
    "rownames(structure7) <- paste0(rownames(structure7), \"_\", rownames(structure7))\n",
    "rownames(structure7) <- stringr::str_trunc(rownames(structure7), width = 10, ellipsis = \"\")\n",
    "\n",
    "rownames(structure6) <- paste0(rownames(structure6), \"_\", rownames(structure6))\n",
    "rownames(structure6) <- stringr::str_trunc(rownames(structure6), width = 10, ellipsis = \"\")"
   ]
  },
  {
   "cell_type": "markdown",
   "metadata": {},
   "source": [
    "##### Produce a vector/matrix of the \"dominant\" cluster for each genotype"
   ]
  },
  {
   "cell_type": "code",
   "execution_count": null,
   "metadata": {},
   "outputs": [],
   "source": [
    "dominant_subpop_k6 <- as.matrix(colnames(structure6)[apply(structure6,1,which.max)])\n",
    "rownames(dominant_subpop_k6) <- rownames(structure6)\n",
    "dominant_subpop_k6 <- gsub(\"V\", \"\", dominant_subpop_k6)"
   ]
  },
  {
   "cell_type": "code",
   "execution_count": null,
   "metadata": {},
   "outputs": [],
   "source": [
    "dominant_subpop_k7 <- as.matrix(colnames(structure7)[apply(structure7,1,which.max)])\n",
    "rownames(dominant_subpop_k7) <- rownames(structure7)\n",
    "dominant_subpop_k7 <- gsub(\"V\", \"\", dominant_subpop_k7)"
   ]
  },
  {
   "cell_type": "markdown",
   "metadata": {},
   "source": [
    "### Load and format PCs from SNPs"
   ]
  },
  {
   "cell_type": "code",
   "execution_count": null,
   "metadata": {},
   "outputs": [],
   "source": [
    "PC_in <- read.csv(\"1323_cohort_maf05_defaultmissingrates.pca.eigenvec\", header = FALSE, sep =\" \")"
   ]
  },
  {
   "cell_type": "code",
   "execution_count": null,
   "metadata": {},
   "outputs": [],
   "source": [
    "head(PC_in)"
   ]
  },
  {
   "cell_type": "code",
   "execution_count": null,
   "metadata": {},
   "outputs": [],
   "source": [
    "PC_matrix <- as.matrix(PC_in[,3:22])"
   ]
  },
  {
   "cell_type": "code",
   "execution_count": null,
   "metadata": {},
   "outputs": [],
   "source": [
    "rownames(PC_matrix) <- PC_in$V1"
   ]
  },
  {
   "cell_type": "code",
   "execution_count": null,
   "metadata": {},
   "outputs": [],
   "source": [
    "rownames(PC_matrix) <- paste0(rownames(PC_matrix), \"_\", rownames(PC_matrix))\n",
    "\n",
    "rownames(PC_matrix) <- stringr::str_trunc(rownames(PC_matrix), width = 10, ellipsis = \"\")\n",
    "\n",
    "rownames(PC_matrix) <- gsub(\"Nisqually\", \"NISQUALLY\", rownames(PC_matrix))"
   ]
  },
  {
   "cell_type": "code",
   "execution_count": null,
   "metadata": {},
   "outputs": [],
   "source": [
    "colnames(PC_matrix) <- paste0(\"PC\", 1:20)"
   ]
  },
  {
   "cell_type": "code",
   "execution_count": null,
   "metadata": {},
   "outputs": [],
   "source": [
    "# head(PC_matrix)"
   ]
  },
  {
   "cell_type": "markdown",
   "metadata": {},
   "source": [
    "## Make plots"
   ]
  },
  {
   "cell_type": "markdown",
   "metadata": {},
   "source": [
    "We will use code in this `phytools` exercise: http://phytools.org/mexico2018/ex/12/Plotting-methods.html"
   ]
  },
  {
   "cell_type": "markdown",
   "metadata": {},
   "source": [
    "### Phylogram with map"
   ]
  },
  {
   "cell_type": "code",
   "execution_count": null,
   "metadata": {},
   "outputs": [],
   "source": [
    "nams <- map(\"world\", namesonly=TRUE, plot=FALSE)"
   ]
  },
  {
   "cell_type": "code",
   "execution_count": null,
   "metadata": {},
   "outputs": [],
   "source": [
    "options(repr.plot.width=30, repr.plot.height=30)"
   ]
  },
  {
   "cell_type": "code",
   "execution_count": null,
   "metadata": {
    "tags": []
   },
   "outputs": [],
   "source": [
    "obj<-phylo.to.map(tree,geo,plot=FALSE, regions=c(\".*usa\", \"Canada\"),\n",
    "                  xlim = c(min(geo$long), max(geo$long)),\n",
    "                  ylim = c(min(geo$lat), max(geo$lat)), direction=\"rightwards\")"
   ]
  },
  {
   "cell_type": "code",
   "execution_count": null,
   "metadata": {},
   "outputs": [],
   "source": [
    "# options(repr.plot.width=60, repr.plot.height=60)"
   ]
  },
  {
   "cell_type": "code",
   "execution_count": null,
   "metadata": {},
   "outputs": [],
   "source": [
    "# plot(obj, direction=\"rightwards\", cex.points=c(0,1),\n",
    "#     lwd=c(3,1),ftype=\"off\", asp=1.3, pts=FALSE)"
   ]
  },
  {
   "cell_type": "markdown",
   "metadata": {},
   "source": [
    "#### Prune tree"
   ]
  },
  {
   "cell_type": "code",
   "execution_count": null,
   "metadata": {},
   "outputs": [],
   "source": [
    "# obj<-phylo.to.map(drop.leaves(tree),geo,plot=FALSE,\n",
    "#                   regions=c(\".*usa\", \"Canada\"),\n",
    "#                   xlim = c(min(geo$long), max(geo$long)),\n",
    "#                   ylim = c(min(geo$lat), max(geo$lat)),\n",
    "#                   direction=\"rightwards\")"
   ]
  },
  {
   "cell_type": "code",
   "execution_count": null,
   "metadata": {},
   "outputs": [],
   "source": [
    "# plot(obj, direction=\"rightwards\", cex.points=c(0,1),\n",
    "#     lwd=c(3,1),ftype=\"off\", asp=1.3, pts=FALSE)"
   ]
  },
  {
   "cell_type": "code",
   "execution_count": null,
   "metadata": {},
   "outputs": [],
   "source": [
    "pruned_tree <- drop.leaves(tree, keep.tip.labels=TRUE)"
   ]
  },
  {
   "cell_type": "markdown",
   "metadata": {},
   "source": [
    "Problem: We can't see all genotypes in a clade due to character limit"
   ]
  },
  {
   "cell_type": "markdown",
   "metadata": {},
   "source": [
    "##### Attempt using `drop.tip`"
   ]
  },
  {
   "cell_type": "code",
   "execution_count": null,
   "metadata": {},
   "outputs": [],
   "source": [
    "set.seed(5)\n",
    "tips_to_keep <- 130\n",
    "prune_tree <- drop.tip(tree, tip=sample(tree$tip.label, length(tree$tip.label) - tips_to_keep))"
   ]
  },
  {
   "cell_type": "code",
   "execution_count": null,
   "metadata": {},
   "outputs": [],
   "source": [
    "options(repr.plot.width=20, repr.plot.height=20)"
   ]
  },
  {
   "cell_type": "code",
   "execution_count": null,
   "metadata": {},
   "outputs": [],
   "source": [
    "dominant_subpop_subset_k6 <- dominant_subpop_k6[which(rownames(dominant_subpop_k6) %in% prune_tree$tip.label), ]\n",
    "dominant_subpop_subset_k7 <- dominant_subpop_k7[which(rownames(dominant_subpop_k7) %in% prune_tree$tip.label), ]"
   ]
  },
  {
   "cell_type": "markdown",
   "metadata": {},
   "source": [
    "###### K=6"
   ]
  },
  {
   "cell_type": "code",
   "execution_count": null,
   "metadata": {
    "tags": []
   },
   "outputs": [],
   "source": [
    "cols <- gplots::col2hex(dominant_subpop_subset_k6)\n",
    "names(cols) <- names(dominant_subpop_subset_k6)\n",
    "obj<-phylo.to.map(prune_tree,geo[which(rownames(geo) %in% prune_tree$tip.label), ],\n",
    "                  colors = cols,\n",
    "                  plot=FALSE, regions=c(\".*usa\", \"Canada\"),\n",
    "                  xlim = c(min(geo$long), max(geo$long)),\n",
    "                  ylim = c(min(geo$lat), max(geo$lat)), direction=\"rightwards\", rotate = TRUE)"
   ]
  },
  {
   "cell_type": "code",
   "execution_count": null,
   "metadata": {},
   "outputs": [],
   "source": [
    "plot(obj, direction=\"rightwards\", cex.points=c(0,1),\n",
    "     lwd=c(3,1),ftype=\"off\", asp=1.3, pts=FALSE, colors = cols)"
   ]
  },
  {
   "cell_type": "markdown",
   "metadata": {},
   "source": [
    "###### K=7"
   ]
  },
  {
   "cell_type": "code",
   "execution_count": null,
   "metadata": {},
   "outputs": [],
   "source": [
    "plot(obj, direction=\"rightwards\", cex.points=c(0,1),\n",
    "     lwd=c(3,1),ftype=\"off\", asp=1.3, pts=FALSE, colors = cols)"
   ]
  },
  {
   "cell_type": "code",
   "execution_count": null,
   "metadata": {},
   "outputs": [],
   "source": [
    "obj<-phylo.to.map(prune_tree,geo[which(rownames(geo) %in% prune_tree$tip.label), ],\n",
    "                  colors = cols,\n",
    "                  plot=FALSE, regions=c(\".*usa\", \"Canada\"),\n",
    "                  xlim = c(min(geo$long), max(geo$long)),\n",
    "                  ylim = c(min(geo$lat), max(geo$lat)), direction=\"rightwards\", rotate = TRUE)"
   ]
  },
  {
   "cell_type": "code",
   "execution_count": null,
   "metadata": {},
   "outputs": [],
   "source": [
    "plot(obj, direction=\"rightwards\", cex.points=c(0,1),\n",
    "     lwd=c(3,1),ftype=\"off\", asp=1.3, pts=FALSE, colors = cols)"
   ]
  },
  {
   "cell_type": "markdown",
   "metadata": {},
   "source": [
    "#### Convert genotype names to letter code"
   ]
  },
  {
   "cell_type": "code",
   "execution_count": null,
   "metadata": {},
   "outputs": [],
   "source": [
    "head(tree$tip.label)"
   ]
  },
  {
   "cell_type": "markdown",
   "metadata": {},
   "source": [
    "### Heatmaps for subpopulation"
   ]
  },
  {
   "cell_type": "markdown",
   "metadata": {},
   "source": [
    "#### Without pruning"
   ]
  },
  {
   "cell_type": "code",
   "execution_count": null,
   "metadata": {},
   "outputs": [],
   "source": [
    "options(repr.plot.width=30, repr.plot.height=60)"
   ]
  },
  {
   "cell_type": "markdown",
   "metadata": {},
   "source": [
    "#### With pruning"
   ]
  },
  {
   "cell_type": "markdown",
   "metadata": {},
   "source": [
    "###### K = 7"
   ]
  },
  {
   "cell_type": "code",
   "execution_count": null,
   "metadata": {},
   "outputs": [],
   "source": [
    "colnames(structure7) <- c(\"Subpop. 1\", \"Subpop. 2\", \"Subpop. 3\", \"Subpop. 4\", \"Subpop. 5\", \"Subpop. 6\", \"Subpop. 7\")"
   ]
  },
  {
   "cell_type": "code",
   "execution_count": null,
   "metadata": {},
   "outputs": [],
   "source": [
    "phylo.heatmap(prune_tree,structure7,standardize=FALSE, labels = TRUE, pts = FALSE, split=c(0.8,0.2),\n",
    "              fsize=c(0.01, 3, 1),\n",
    "              type = \"phylogram\",\n",
    "              color = rainbow(200))"
   ]
  },
  {
   "cell_type": "markdown",
   "metadata": {},
   "source": [
    "###### K = 6"
   ]
  },
  {
   "cell_type": "code",
   "execution_count": null,
   "metadata": {},
   "outputs": [],
   "source": [
    "colnames(structure6) <- colnames(structure7)[1:6]"
   ]
  },
  {
   "cell_type": "code",
   "execution_count": null,
   "metadata": {},
   "outputs": [],
   "source": [
    "phylo.heatmap(prune_tree,structure6,standardize=FALSE, labels = TRUE, pts = FALSE, split=c(0.8,0.2),\n",
    "              fsize=c(0.01, 3, 1),\n",
    "              type = \"phylogram\",\n",
    "              color = rainbow(200))"
   ]
  },
  {
   "cell_type": "markdown",
   "metadata": {},
   "source": [
    "### Heatmaps for PCs"
   ]
  },
  {
   "cell_type": "code",
   "execution_count": null,
   "metadata": {},
   "outputs": [],
   "source": [
    "phylo.heatmap(prune_tree,\n",
    "              (1 / \n",
    "               (1+ exp(1)^-PC_matrix[, 1:6])\n",
    "              ) * 10,\n",
    "              standardize=FALSE, labels = TRUE, pts = FALSE, split=c(0.8,0.2),\n",
    "              fsize=c(0.01, 3, 1.5),\n",
    "              type = \"phylogram\",\n",
    "              color = rainbow(200)[20:180])"
   ]
  }
 ],
 "metadata": {
  "kernelspec": {
   "display_name": "R",
   "language": "R",
   "name": "ir"
  },
  "language_info": {
   "codemirror_mode": "r",
   "file_extension": ".r",
   "mimetype": "text/x-r-source",
   "name": "R",
   "pygments_lexer": "r",
   "version": "4.1.3"
  },
  "toc-autonumbering": true
 },
 "nbformat": 4,
 "nbformat_minor": 4
}
