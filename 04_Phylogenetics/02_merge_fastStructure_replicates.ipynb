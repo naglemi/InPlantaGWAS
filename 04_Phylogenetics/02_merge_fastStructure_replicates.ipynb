{
 "cells": [
  {
   "cell_type": "markdown",
   "metadata": {},
   "source": [
    "# Merge `fastStructure` results across replicates"
   ]
  },
  {
   "cell_type": "markdown",
   "metadata": {},
   "source": [
    "In this notebook, I make two types of plots (distruct plots and likelihood plots) using 10 replicates for each K from 3-13, with the 73k SNP set. These will help inform the ideal # of subpopulations for downstream analysis."
   ]
  },
  {
   "cell_type": "markdown",
   "metadata": {
    "toc-hr-collapsed": true
   },
   "source": [
    "## Build list of files of interest with meanQ, produce mean matrices"
   ]
  },
  {
   "cell_type": "code",
   "execution_count": null,
   "metadata": {},
   "outputs": [],
   "source": [
    "files <- list.files(\"~/proj/fastStructure/\", pattern = \"SNPs72k\", full.names = TRUE)\n",
    "files <- files[grepl(\"meanQ\", files)]"
   ]
  },
  {
   "cell_type": "code",
   "execution_count": null,
   "metadata": {},
   "outputs": [],
   "source": [
    "library(stringr)\n",
    "file_df <- str_split_fixed(files, \"\\\\.\", 3)\n"
   ]
  },
  {
   "cell_type": "code",
   "execution_count": null,
   "metadata": {},
   "outputs": [],
   "source": [
    "filepaths_and_K <- as.data.frame(cbind(files, file_df[,2]))\n",
    "colnames(filepaths_and_K) <- c(\"filepath\", \"K\")"
   ]
  },
  {
   "cell_type": "code",
   "execution_count": null,
   "metadata": {},
   "outputs": [],
   "source": [
    "dir.create(\"fastStructure_mean_results\")"
   ]
  },
  {
   "cell_type": "code",
   "execution_count": null,
   "metadata": {},
   "outputs": [],
   "source": [
    "library(data.table)"
   ]
  },
  {
   "cell_type": "code",
   "execution_count": null,
   "metadata": {},
   "outputs": [],
   "source": [
    "library(pophelper)"
   ]
  },
  {
   "cell_type": "code",
   "execution_count": null,
   "metadata": {},
   "outputs": [],
   "source": [
    "for(i in levels(factor(filepaths_and_K$K))){\n",
    "    files_this_K <- filepaths_and_K[which(filepaths_and_K$K == i), ]\n",
    "    #print(files_this_K)\n",
    "    \n",
    "    list_of_matrices <- c()\n",
    "    \n",
    "    for(j in 1:nrow(files_this_K)){\n",
    "        list_of_matrices[[j]] <- read.table(files_this_K$filepath[j])\n",
    "    }\n",
    "    \n",
    "    # Calculate elementwise mean matrix from a list of matrices\n",
    "    # https://stackoverflow.com/questions/19218475/element-wise-mean-over-list-of-matrices\n",
    "    mean_matrix <- Reduce(\"+\", list_of_matrices) / length(list_of_matrices)\n",
    "    \n",
    "    outpath <- paste0(\"fastStructure_mean_results/SNPs72kfiltered_mean.\",\n",
    "                      i,\n",
    "                      \".meanQ\")\n",
    "    \n",
    "    print(paste(\"Writing to \", outpath))\n",
    "    \n",
    "    fwrite(mean_matrix,\n",
    "           outpath,\n",
    "           sep = \"\\t\",\n",
    "           row.names = FALSE,\n",
    "           col.names = FALSE)\n",
    "    \n",
    "    plotQ(readQ(outpath),\n",
    "          exportpath=getwd(),\n",
    "          sortind=\"all\")\n",
    "    \n",
    "}"
   ]
  },
  {
   "cell_type": "markdown",
   "metadata": {},
   "source": [
    "## Plot mean and stdev of likelihood across replicates and values of K"
   ]
  },
  {
   "cell_type": "code",
   "execution_count": null,
   "metadata": {},
   "outputs": [],
   "source": [
    "files <- list.files(\"~/proj/fastStructure/\", pattern = \"SNPs72k\", full.names = TRUE)\n",
    "files <- files[grepl(\"log\", files)]\n",
    "\n",
    "filepaths_and_K <- as.data.frame(cbind(files, file_df[,2]))\n",
    "colnames(filepaths_and_K) <- c(\"filepath\", \"K\")"
   ]
  },
  {
   "cell_type": "code",
   "execution_count": null,
   "metadata": {},
   "outputs": [],
   "source": [
    "df <- data.frame(matrix(NA,\n",
    "                        nrow = length(levels(factor(filepaths_and_K$K))),\n",
    "                        ncol = 3))\n",
    "\n",
    "colnames(df) <- c(\"K\", \"L_mean\", \"L_sd\")"
   ]
  },
  {
   "cell_type": "code",
   "execution_count": null,
   "metadata": {},
   "outputs": [],
   "source": [
    "for(i in 1:length(levels(factor(filepaths_and_K$K)))){\n",
    "    files_this_K <- filepaths_and_K[which(filepaths_and_K$K == levels(factor(filepaths_and_K$K))[i]), ]\n",
    "    #print(files_this_K)\n",
    "    \n",
    "    list_of_likelihoods <- c()\n",
    "    \n",
    "    for(j in 1:nrow(files_this_K)){\n",
    "        \n",
    "        lines <- readLines(files_this_K$filepath[j])\n",
    "        \n",
    "        line_with_likelihood <- lines[grepl(\"Marginal Likelihood = \", lines)]\n",
    "        \n",
    "        likelihood <- as.numeric(as.character(\n",
    "            str_split_fixed(line_with_likelihood, \" \", 4)[,4]))\n",
    "        \n",
    "        list_of_likelihoods[[j]] <- likelihood\n",
    "        \n",
    "\n",
    "    }\n",
    "    \n",
    "    # Calculate mean likelihood for these replicates\n",
    "    mean_likelihoods <- mean(unlist(list_of_likelihoods))\n",
    "    sd_likelihoods <- sd(unlist(list_of_likelihoods))\n",
    "    \n",
    "    df$K[i] <- levels(factor(filepaths_and_K$K))[i]\n",
    "    df$L_mean[i] <- mean_likelihoods\n",
    "    df$L_sd[i] <- sd_likelihoods\n",
    "    \n",
    "#     print(i)\n",
    "#     print(mean_likelihoods)\n",
    "#     print(sd_likelihoods)\n",
    "    \n",
    "    \n",
    "}"
   ]
  },
  {
   "cell_type": "code",
   "execution_count": null,
   "metadata": {},
   "outputs": [],
   "source": [
    "attach(df)"
   ]
  },
  {
   "cell_type": "code",
   "execution_count": null,
   "metadata": {},
   "outputs": [],
   "source": [
    "plot(K, `L_mean`,\n",
    "     ylim=range(c(`L_mean`-L_sd,\n",
    "                  `L_mean` + L_sd)),\n",
    "     pch=19, xlab=\"K (# subpopulations)\", ylab=\"log(L(X|K))\",\n",
    "     main=\"Log Marginal likelihood of data given K subpopulations\"\n",
    ")\n",
    "\n",
    "arrows(x0 = as.numeric(as.character(K)),\n",
    "       y0 = `L_mean` - L_sd,\n",
    "       x1 = as.numeric(as.character(K)),\n",
    "       y1 = `L_mean` + L_sd,\n",
    "       length=0.05,\n",
    "       angle=90,\n",
    "       code=3)"
   ]
  },
  {
   "cell_type": "code",
   "execution_count": null,
   "metadata": {},
   "outputs": [],
   "source": []
  }
 ],
 "metadata": {
  "kernelspec": {
   "display_name": "R",
   "language": "R",
   "name": "ir"
  },
  "language_info": {
   "codemirror_mode": "r",
   "file_extension": ".r",
   "mimetype": "text/x-r-source",
   "name": "R",
   "pygments_lexer": "r",
   "version": "4.1.3"
  },
  "toc-autonumbering": true
 },
 "nbformat": 4,
 "nbformat_minor": 4
}
