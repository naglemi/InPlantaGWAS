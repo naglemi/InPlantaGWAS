{
 "cells": [
  {
   "cell_type": "markdown",
   "metadata": {},
   "source": [
    "# Build spreadsheet and summary statistics of top associations, implicated by peak window p-value method"
   ]
  },
  {
   "cell_type": "code",
   "execution_count": null,
   "metadata": {},
   "outputs": [],
   "source": [
    "library(data.table)"
   ]
  },
  {
   "cell_type": "code",
   "execution_count": null,
   "metadata": {},
   "outputs": [],
   "source": [
    "library(dplyr)"
   ]
  },
  {
   "cell_type": "markdown",
   "metadata": {},
   "source": [
    "## List file with all results for each trait in in planta regeneration GWAS"
   ]
  },
  {
   "cell_type": "markdown",
   "metadata": {},
   "source": [
    "### Read"
   ]
  },
  {
   "cell_type": "code",
   "execution_count": null,
   "metadata": {},
   "outputs": [],
   "source": [
    "in_planta_files <- list.files(\"/mnt/data/NSF_GWAS/notebooks/InPlantaGWAS/11_Data_mining/Results_GMMAT_ART/MethodsStacked/\",\n",
    "                              recursive = TRUE,\n",
    "                              pattern = \"csv\",\n",
    "                              full.names = TRUE)"
   ]
  },
  {
   "cell_type": "code",
   "execution_count": null,
   "metadata": {},
   "outputs": [],
   "source": [
    "all_files <- c(in_planta_files)"
   ]
  },
  {
   "cell_type": "markdown",
   "metadata": {},
   "source": [
    "### Merge"
   ]
  },
  {
   "cell_type": "code",
   "execution_count": null,
   "metadata": {},
   "outputs": [],
   "source": [
    "files_combined <- fread(all_files[1])"
   ]
  },
  {
   "cell_type": "code",
   "execution_count": null,
   "metadata": {
    "tags": []
   },
   "outputs": [],
   "source": [
    "for(file in all_files){\n",
    "    file_in <- fread(file)\n",
    "    files_combined <- dplyr::bind_rows(files_combined, file_in)\n",
    "}"
   ]
  },
  {
   "cell_type": "markdown",
   "metadata": {},
   "source": [
    "## Filter out results we didn't select due to not being optimal"
   ]
  },
  {
   "cell_type": "markdown",
   "metadata": {},
   "source": [
    "### Problems fitting models for certain traits with GMMAT runs with MAF 0.01"
   ]
  },
  {
   "cell_type": "code",
   "execution_count": null,
   "metadata": {},
   "outputs": [],
   "source": [
    "trait_w_crazy_gmmat_maf01 <- \n",
    "c(\"callus_2w\",\n",
    "  \"Shoot_PC2\",\n",
    "  \"CallusShoot_PC1\",\n",
    "  \"callus_3w\",\n",
    "  \"Callus_PC1\",\n",
    "  \"shoot_2w\")"
   ]
  },
  {
   "cell_type": "code",
   "execution_count": null,
   "metadata": {},
   "outputs": [],
   "source": [
    "for(this_crazy_result in trait_w_crazy_gmmat_maf01){\n",
    "    files_combined <- \n",
    "    files_combined[!which(\n",
    "    files_combined$batch_i == \"GMMAT_binarized_logitlink-batch2_maf01_geno10\" &\n",
    "    files_combined$raw_trait_name == this_crazy_result), ]\n",
    "    \n",
    "    files_combined <- \n",
    "    files_combined[!which(\n",
    "    files_combined$batch_i == \"GMMAT_nothreshold_duplicates_binarized.binary_logitlink-batch4_maf01_geno10\" &\n",
    "    files_combined$raw_trait_name == this_crazy_result), ]\n",
    "    \n",
    "    files_combined <- \n",
    "    files_combined[!which(\n",
    "    files_combined$batch_i == \"GMMAT_binarized_logitlink-batch4_maf01_geno10\" &\n",
    "    files_combined$raw_trait_name == this_crazy_result), ]\n",
    "    \n",
    "    files_combined <- \n",
    "    files_combined[!which(\n",
    "    files_combined$batch_i == \"GMMAT_threshold-0.198412874212136.binary_logitlink-batch4_maf01_geno10\" &\n",
    "    files_combined$raw_trait_name == this_crazy_result), ]\n",
    "    \n",
    "    files_combined <- \n",
    "    files_combined[!which(\n",
    "    files_combined$batch_i == \"GMMAT_threshold0.364036344426957.binary_logitlink-batch4_maf01_geno10\" &\n",
    "    files_combined$raw_trait_name == this_crazy_result), ]\n",
    "    \n",
    "    files_combined <- \n",
    "    files_combined[!which(\n",
    "    files_combined$batch_i == \"GMMAT_threshold0.708565670955823.binary_logitlink-batch4_maf01_geno10\" &\n",
    "    files_combined$raw_trait_name == this_crazy_result), ]\n",
    "    print(dim(files_combined))\n",
    "}"
   ]
  },
  {
   "cell_type": "code",
   "execution_count": null,
   "metadata": {},
   "outputs": [],
   "source": [
    "h2_table <- fread(\"/mnt/data/NSF_GWAS/notebooks/InPlantaGWAS/11_Data_mining/sorted_h2_table_with_raw_names_added.csv\")"
   ]
  },
  {
   "cell_type": "markdown",
   "metadata": {},
   "source": [
    "Find max heritability for each raw trait. We're doing this because sometimes traits are studied in multiple ways and heritability is higher for one than the other. We'll keep if max h2 is above 0.1"
   ]
  },
  {
   "cell_type": "code",
   "execution_count": null,
   "metadata": {},
   "outputs": [],
   "source": [
    "max_h2_table <- aggregate(h2_table$h2 ~ h2_table$raw_trait_name, FUN = \"max\")"
   ]
  },
  {
   "cell_type": "code",
   "execution_count": null,
   "metadata": {},
   "outputs": [],
   "source": [
    "colnames(max_h2_table) <- c(\"raw_trait_name\", \"max_h2\")"
   ]
  },
  {
   "cell_type": "code",
   "execution_count": null,
   "metadata": {},
   "outputs": [],
   "source": [
    "nonheritable <- max_h2_table$raw_trait_name[which(max_h2_table$max_h2 < 0.1)]"
   ]
  },
  {
   "cell_type": "code",
   "execution_count": null,
   "metadata": {},
   "outputs": [],
   "source": [
    "for(this_trait in nonheritable){\n",
    "    files_combined <- files_combined[!which(files_combined$raw_trait_name == this_trait), ]\n",
    "    print(dim(files_combined))\n",
    "}"
   ]
  },
  {
   "cell_type": "markdown",
   "metadata": {},
   "source": [
    "### Don't keep copied, duplicate GMMAT results"
   ]
  },
  {
   "cell_type": "markdown",
   "metadata": {},
   "source": [
    "We can do this quickly and easily by making batch name match and removing unique elements"
   ]
  },
  {
   "cell_type": "code",
   "execution_count": null,
   "metadata": {},
   "outputs": [],
   "source": [
    "files_combined$batch_i[which(\n",
    "    files_combined$batch_i == \"GMMAT_binarized_logitlink-GMMAT\")] <- \n",
    "\"GMMAT_binarized_logitlink-batch4_maf01_geno10\""
   ]
  },
  {
   "cell_type": "code",
   "execution_count": null,
   "metadata": {},
   "outputs": [],
   "source": [
    "files_combined <- unique(files_combined)"
   ]
  },
  {
   "cell_type": "code",
   "execution_count": null,
   "metadata": {},
   "outputs": [],
   "source": [
    "nrow(files_combined)"
   ]
  },
  {
   "cell_type": "code",
   "execution_count": null,
   "metadata": {},
   "outputs": [],
   "source": []
  },
  {
   "cell_type": "code",
   "execution_count": null,
   "metadata": {},
   "outputs": [],
   "source": []
  },
  {
   "cell_type": "markdown",
   "metadata": {},
   "source": [
    "## Merge in lincRNA and a priori info"
   ]
  },
  {
   "cell_type": "code",
   "execution_count": null,
   "metadata": {},
   "outputs": [],
   "source": [
    "getwd()"
   ]
  },
  {
   "cell_type": "code",
   "execution_count": null,
   "metadata": {},
   "outputs": [],
   "source": [
    "apriori <- fread(\"../../InVitroRegenGWAS/07_Data_mining/6-IN_Hu_Tuskan_a_priori_QTLs.csv\",\n",
    "                 header = FALSE)"
   ]
  },
  {
   "cell_type": "code",
   "execution_count": null,
   "metadata": {},
   "outputs": [],
   "source": [
    "lincrna <- fread(\"../../InVitroRegenGWAS/07_Data_mining/6_IN_GreeNC_lincRNA.csv\",\n",
    "                 header = FALSE)"
   ]
  },
  {
   "cell_type": "code",
   "execution_count": null,
   "metadata": {},
   "outputs": [],
   "source": [
    "colnames(lincrna) <- c(\"latest_transcript\",\n",
    "                       \"is_lincRNA\")"
   ]
  },
  {
   "cell_type": "code",
   "execution_count": null,
   "metadata": {},
   "outputs": [],
   "source": [
    "colnames(apriori) <- c(\"attributes.Name\",\n",
    "                       \"a_priori\")"
   ]
  },
  {
   "cell_type": "code",
   "execution_count": null,
   "metadata": {},
   "outputs": [],
   "source": [
    "files_combined <- merge(files_combined, lincrna,\n",
    "                        by = \"latest_transcript\",\n",
    "                        all.x = TRUE)"
   ]
  },
  {
   "cell_type": "code",
   "execution_count": null,
   "metadata": {},
   "outputs": [],
   "source": [
    "files_combined <- merge(files_combined, apriori,\n",
    "                        by = \"attributes.Name\",\n",
    "                        all.x = TRUE)"
   ]
  },
  {
   "cell_type": "code",
   "execution_count": null,
   "metadata": {},
   "outputs": [],
   "source": [
    "files_combined <- unique(files_combined)"
   ]
  },
  {
   "cell_type": "markdown",
   "metadata": {},
   "source": [
    "## Merge with data on peak p-values for windows and restrict to top X windows for downstream summary stats"
   ]
  },
  {
   "cell_type": "markdown",
   "metadata": {},
   "source": [
    "### Load ART results and get ready to merge"
   ]
  },
  {
   "cell_type": "code",
   "execution_count": null,
   "metadata": {},
   "outputs": [],
   "source": [
    "peak_p <- fread(\"6-OUT_Peak_P_a1_500bp_window.csv\")"
   ]
  },
  {
   "cell_type": "code",
   "execution_count": null,
   "metadata": {},
   "outputs": [],
   "source": [
    "colnames(peak_p)[1:2] <- c(\"CHR\", \"POS\")\n",
    "colnames(peak_p)[7:8] <- c(\"batch_i\", \"Method\")"
   ]
  },
  {
   "cell_type": "code",
   "execution_count": null,
   "metadata": {},
   "outputs": [],
   "source": [
    "peak_p$file_path <- NULL"
   ]
  },
  {
   "cell_type": "code",
   "execution_count": null,
   "metadata": {},
   "outputs": [],
   "source": [
    "df <- data.frame()"
   ]
  },
  {
   "cell_type": "code",
   "execution_count": null,
   "metadata": {},
   "outputs": [],
   "source": [
    "peak_p$QTLID <- paste0(peak_p$window_peak, \"_\", peak_p$batch)"
   ]
  },
  {
   "cell_type": "code",
   "execution_count": null,
   "metadata": {},
   "outputs": [],
   "source": [
    "for(i in 1:nrow(peak_p)){\n",
    "    thisQTLID <- peak_p$QTLID[i]\n",
    "    peak_p_this_QTLID <- peak_p[which(peak_p$QTLID == thisQTLID), ]\n",
    "    max_n_SNPs <- max(peak_p_this_QTLID$n_SNPs)\n",
    "    if(peak_p$n_SNPs[i] == max_n_SNPs){\n",
    "        df <- dplyr::bind_rows(df, peak_p[i, ])\n",
    "    }\n",
    "}"
   ]
  },
  {
   "cell_type": "code",
   "execution_count": null,
   "metadata": {},
   "outputs": [],
   "source": [
    "df <- unique(df)"
   ]
  },
  {
   "cell_type": "code",
   "execution_count": null,
   "metadata": {},
   "outputs": [],
   "source": [
    "peak_p <- df"
   ]
  },
  {
   "cell_type": "code",
   "execution_count": null,
   "metadata": {},
   "outputs": [],
   "source": [
    "data_reloaded <- files_combined"
   ]
  },
  {
   "cell_type": "code",
   "execution_count": null,
   "metadata": {},
   "outputs": [],
   "source": [
    "data_reloaded <- merge(data_reloaded, peak_p, by = c(\"CHR\", \"POS\", \"batch_i\", \"Method\", \"raw_trait_name\"))"
   ]
  },
  {
   "cell_type": "code",
   "execution_count": null,
   "metadata": {},
   "outputs": [],
   "source": [
    "library(foreach)\n",
    "library(stringr)"
   ]
  },
  {
   "cell_type": "code",
   "execution_count": null,
   "metadata": {},
   "outputs": [],
   "source": [
    "data <- data_reloaded"
   ]
  },
  {
   "cell_type": "markdown",
   "metadata": {},
   "source": [
    "### Exclude shoot at week 2 because GEMMA results look strange and distribution is extremely sparse"
   ]
  },
  {
   "cell_type": "markdown",
   "metadata": {},
   "source": [
    "### Add heritability data to table"
   ]
  },
  {
   "cell_type": "markdown",
   "metadata": {},
   "source": [
    "Add heritability to our earlier output and save it out"
   ]
  },
  {
   "cell_type": "code",
   "execution_count": null,
   "metadata": {},
   "outputs": [],
   "source": [
    "data_reloaded <- merge(data_reloaded, max_h2_table, by = \"raw_trait_name\", all.x = TRUE)"
   ]
  },
  {
   "cell_type": "code",
   "execution_count": null,
   "metadata": {},
   "outputs": [],
   "source": [
    "fwrite(data_reloaded, \"8-OUT_QTLs_pass2_GMMAT_ART_only.csv\")"
   ]
  },
  {
   "cell_type": "code",
   "execution_count": null,
   "metadata": {},
   "outputs": [],
   "source": []
  },
  {
   "cell_type": "code",
   "execution_count": null,
   "metadata": {},
   "outputs": [],
   "source": []
  }
 ],
 "metadata": {
  "kernelspec": {
   "display_name": "R",
   "language": "R",
   "name": "ir"
  },
  "language_info": {
   "codemirror_mode": "r",
   "file_extension": ".r",
   "mimetype": "text/x-r-source",
   "name": "R",
   "pygments_lexer": "r",
   "version": "4.1.3"
  },
  "toc-autonumbering": true
 },
 "nbformat": 4,
 "nbformat_minor": 4
}
