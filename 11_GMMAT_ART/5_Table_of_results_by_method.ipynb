{
 "cells": [
  {
   "cell_type": "markdown",
   "metadata": {},
   "source": [
    "# Build spreadsheet of all results from all methods"
   ]
  },
  {
   "cell_type": "code",
   "execution_count": null,
   "metadata": {},
   "outputs": [],
   "source": [
    "library(data.table)\n",
    "library(tools)\n",
    "library(stringr)\n",
    "library(tidyr)"
   ]
  },
  {
   "cell_type": "markdown",
   "metadata": {},
   "source": [
    "## Start with list of raw traits"
   ]
  },
  {
   "cell_type": "code",
   "execution_count": null,
   "metadata": {},
   "outputs": [],
   "source": [
    "traits <- list.files(\"../05_Parsing_phenodata/pheno_files/\",\n",
    "                     pattern = \"\\\\.header\",\n",
    "                     full.names = TRUE,\n",
    "                     recursive = TRUE)\n",
    "\n",
    "traits <- traits[-grep(\"copies\", traits)]\n",
    "traits <- traits[-grep(\"binarized\", traits)]\n",
    "traits <- traits[-grep(\"boxcox\", traits)]\n",
    "traits <- traits[-grep(\"rbinv\", traits)]\n",
    "traits <- traits[-grep(\"threshold\", traits)]\n",
    "traits <- traits[-grep(\"diameter\", traits)]\n",
    "traits <- traits[-grep(\"lntrans\", traits)]\n",
    "traits <- traits[-grep(\"wk2_wk5\", traits)] # These are duplicates of 2w_5w versions"
   ]
  },
  {
   "cell_type": "code",
   "execution_count": null,
   "metadata": {},
   "outputs": [],
   "source": [
    "data <- as.data.table(traits)\n",
    "colnames(data) <- \"raw_trait_path\""
   ]
  },
  {
   "cell_type": "code",
   "execution_count": null,
   "metadata": {},
   "outputs": [],
   "source": [
    "data$raw_trait <- basename(file_path_sans_ext(file_path_sans_ext(data$raw_trait_path)))"
   ]
  },
  {
   "cell_type": "markdown",
   "metadata": {},
   "source": [
    "## Add traits from GMMAT"
   ]
  },
  {
   "cell_type": "code",
   "execution_count": null,
   "metadata": {},
   "outputs": [],
   "source": [
    "gmmat_list <- list.files(\"../08_GMMAT/Results/batch5_maf01_geno10_ART/\", full.names = TRUE, recursive = TRUE, pattern = \"glmm\")"
   ]
  },
  {
   "cell_type": "code",
   "execution_count": null,
   "metadata": {},
   "outputs": [],
   "source": [
    "gmmat_table <- as.data.frame(gmmat_list)\n",
    "colnames(gmmat_table)[1] <- \"gmmat_path\""
   ]
  },
  {
   "cell_type": "markdown",
   "metadata": {},
   "source": [
    "### Parse out raw traits from file names/paths"
   ]
  },
  {
   "cell_type": "code",
   "execution_count": null,
   "metadata": {},
   "outputs": [],
   "source": [
    "gmmat_table$raw_trait <- file_path_sans_ext(file_path_sans_ext(gmmat_table$gmmat_path))"
   ]
  },
  {
   "cell_type": "code",
   "execution_count": null,
   "metadata": {},
   "outputs": [],
   "source": [
    "batch_criteria_A <- str_split_fixed(gmmat_table$gmmat_path, \"/\", 6)[,5]"
   ]
  },
  {
   "cell_type": "code",
   "execution_count": null,
   "metadata": {},
   "outputs": [],
   "source": [
    "batches <- c(\"_binarized_logitlink\",\n",
    "             \"_nothreshold_duplicates_binarized.binary_logitlink\",\n",
    "             \"_threshold-0.198412874212136.binary_logitlink\",\n",
    "            \"_threshold0.708565670955823.binary_logitlink\",\n",
    "            \"_threshold0.364036344426957.binary_logitlink\",\n",
    "            \"_threshold-0.198412874212136.binary_logitlink\",\n",
    "             \"_threshold-0.198412874212136__duplicates_binarized.binary_logitlink\",\n",
    "             \"_threshold0.000918436893207641__duplicates_binarized.binary_logitlink\",\n",
    "             \"_threshold0.000918436893207641.binary_logitlink\",\n",
    "             \"_threshold-0.0145550368327804.binary_logitlink\",\n",
    "                \"_threshold-0.0145550368327804__duplicates_binarized.binary_logitlink\"\n",
    "            )"
   ]
  },
  {
   "cell_type": "code",
   "execution_count": null,
   "metadata": {},
   "outputs": [],
   "source": [
    "gmmat_table$batch <- NA"
   ]
  },
  {
   "cell_type": "code",
   "execution_count": null,
   "metadata": {},
   "outputs": [],
   "source": [
    "for(batch in batches){\n",
    "    \n",
    "    lines_this_batch <- which(grepl(batch, gmmat_table$raw_trait))\n",
    "    \n",
    "    gmmat_table$batch[lines_this_batch] <- batch\n",
    "    \n",
    "    gmmat_table$raw_trait[lines_this_batch] <- gsub(batch,\n",
    "                                  \"\",\n",
    "                                  gmmat_table$raw_trait[lines_this_batch])\n",
    "    \n",
    "    gmmat_table$raw_trait[lines_this_batch] <- basename(gmmat_table$raw_trait[lines_this_batch])\n",
    "    \n",
    "    gmmat_table$batch[lines_this_batch] <- paste0(\"GMMAT\", batch, \"-\", batch_criteria_A[lines_this_batch])\n",
    "}"
   ]
  },
  {
   "cell_type": "markdown",
   "metadata": {},
   "source": [
    "### Store fix prefix instead of filename"
   ]
  },
  {
   "cell_type": "markdown",
   "metadata": {},
   "source": [
    "<div class=\"alert alert-block alert-warning\"> We need the file prefix instead of file name because there are two files (score and Wald) for each run... and this would get in the way of us having one row per trait as we need.</div>\n"
   ]
  },
  {
   "cell_type": "code",
   "execution_count": null,
   "metadata": {},
   "outputs": [],
   "source": [
    "gmmat_table$gmmat_path <- file_path_sans_ext(file_path_sans_ext(gmmat_table$gmmat_path))"
   ]
  },
  {
   "cell_type": "code",
   "execution_count": null,
   "metadata": {},
   "outputs": [],
   "source": [
    "gmmat_table <- unique(gmmat_table)"
   ]
  },
  {
   "cell_type": "markdown",
   "metadata": {},
   "source": [
    "### Turn long data wide"
   ]
  },
  {
   "cell_type": "markdown",
   "metadata": {},
   "source": [
    "On first attempt, got this error for tidyr::spread"
   ]
  },
  {
   "cell_type": "raw",
   "metadata": {},
   "source": [
    "Error: Each row of output must be identified by a unique combination of keys.\n",
    "Keys are shared for 10 rows:\n",
    "* 67, 68\n",
    "* 69, 70\n",
    "* 71, 72\n",
    "* 73, 74\n",
    "* 75, 76\n",
    "\n",
    "Traceback:\n",
    "\n",
    "1. tidyr::spread(gmmat_table, batch, gmmat_path)\n",
    "2. spread.data.frame(gmmat_table, batch, gmmat_path)\n",
    "3. abort(glue(\"Each row of output must be identified by a unique combination of keys.\", \n",
    " .     \"\\nKeys are shared for {shared} rows:\", \"\\n{rows}\"))\n",
    "4. signal_abort(cnd)"
   ]
  },
  {
   "cell_type": "markdown",
   "metadata": {},
   "source": [
    "Inspect data"
   ]
  },
  {
   "cell_type": "code",
   "execution_count": null,
   "metadata": {},
   "outputs": [],
   "source": [
    "data.table::fwrite(gmmat_table, \"5-OUT_GMMAT_table.csv\")"
   ]
  },
  {
   "cell_type": "code",
   "execution_count": null,
   "metadata": {},
   "outputs": [],
   "source": [
    "gmmat_table_wide <- tidyr::spread(gmmat_table, batch, gmmat_path)"
   ]
  },
  {
   "cell_type": "markdown",
   "metadata": {},
   "source": [
    "## Merge all tables"
   ]
  },
  {
   "cell_type": "code",
   "execution_count": null,
   "metadata": {},
   "outputs": [],
   "source": [
    "merged <- merge(data, gmmat_table_wide, by = \"raw_trait\",\n",
    "                all = TRUE)"
   ]
  },
  {
   "cell_type": "markdown",
   "metadata": {},
   "source": [
    "Clean up these column names a little"
   ]
  },
  {
   "cell_type": "code",
   "execution_count": null,
   "metadata": {},
   "outputs": [],
   "source": [
    "colnames(merged) <- file_path_sans_ext(file_path_sans_ext(colnames(merged)))"
   ]
  },
  {
   "cell_type": "code",
   "execution_count": null,
   "metadata": {},
   "outputs": [],
   "source": [
    "fwrite(merged, \"5-OUT_Table_results_by_method.csv\")"
   ]
  },
  {
   "cell_type": "code",
   "execution_count": null,
   "metadata": {},
   "outputs": [],
   "source": []
  }
 ],
 "metadata": {
  "kernelspec": {
   "display_name": "R",
   "language": "R",
   "name": "ir"
  },
  "language_info": {
   "codemirror_mode": "r",
   "file_extension": ".r",
   "mimetype": "text/x-r-source",
   "name": "R",
   "pygments_lexer": "r",
   "version": "4.1.3"
  },
  "toc-autonumbering": true
 },
 "nbformat": 4,
 "nbformat_minor": 4
}
