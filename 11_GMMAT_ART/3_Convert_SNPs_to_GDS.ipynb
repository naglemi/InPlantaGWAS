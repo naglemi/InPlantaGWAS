{
 "cells": [
  {
   "cell_type": "markdown",
   "metadata": {},
   "source": [
    "# Convert SNP file from `PLINK` binary to GDS"
   ]
  },
  {
   "cell_type": "code",
   "execution_count": null,
   "metadata": {},
   "outputs": [],
   "source": [
    "library(SNPRelate)"
   ]
  },
  {
   "cell_type": "code",
   "execution_count": null,
   "metadata": {},
   "outputs": [],
   "source": [
    "library(SeqArray)"
   ]
  },
  {
   "cell_type": "markdown",
   "metadata": {},
   "source": [
    "## Convert directly from `PLINK` binaries to `SeqArray` GDS"
   ]
  },
  {
   "cell_type": "code",
   "execution_count": null,
   "metadata": {},
   "outputs": [],
   "source": [
    "SeqArray::seqBED2GDS(\"subset_maf01_geno10_contiguous_within_500bp_inplanta_regen_ART_hits.bed\",\n",
    "                     \"subset_maf01_geno10_contiguous_within_500bp_inplanta_regen_ART_hits.fam\",\n",
    "                     \"subset_maf01_geno10_contiguous_within_500bp_inplanta_regen_ART_hits.bim\",\n",
    "                     \"subset_maf01_geno10_contiguous_within_500bp_inplanta_regen_ART_hits_a3.gds\")"
   ]
  }
 ],
 "metadata": {
  "kernelspec": {
   "display_name": "R",
   "language": "R",
   "name": "ir"
  },
  "language_info": {
   "codemirror_mode": "r",
   "file_extension": ".r",
   "mimetype": "text/x-r-source",
   "name": "R",
   "pygments_lexer": "r",
   "version": "4.1.3"
  }
 },
 "nbformat": 4,
 "nbformat_minor": 4
}
