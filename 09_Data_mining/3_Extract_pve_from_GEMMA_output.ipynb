{
 "cells": [
  {
   "cell_type": "markdown",
   "metadata": {},
   "source": [
    "# Extract percentage of variance explained from GEMMA log"
   ]
  },
  {
   "cell_type": "code",
   "execution_count": 1,
   "metadata": {},
   "outputs": [],
   "source": [
    "library(gt)\n",
    "library(tools)"
   ]
  },
  {
   "cell_type": "code",
   "execution_count": 2,
   "metadata": {},
   "outputs": [],
   "source": [
    "library(stringr)\n",
    "library(tidyr)\n",
    "library(foreach)"
   ]
  },
  {
   "cell_type": "markdown",
   "metadata": {},
   "source": [
    "<div class=\"alert alert-block alert-info\"> Purpose: Compare results from different transformations and covariates, learning about statistical power (and Type II rates?). We will select specific transformations and covariates after reviewing these tables along with various plots produced in other notebooks or by `qtlutils`.</div>"
   ]
  },
  {
   "cell_type": "code",
   "execution_count": 4,
   "metadata": {},
   "outputs": [
    {
     "data": {
      "text/html": [
       "149"
      ],
      "text/latex": [
       "149"
      ],
      "text/markdown": [
       "149"
      ],
      "text/plain": [
       "[1] 149"
      ]
     },
     "metadata": {},
     "output_type": "display_data"
    }
   ],
   "source": [
    "length(files)"
   ]
  },
  {
   "cell_type": "code",
   "execution_count": 5,
   "metadata": {},
   "outputs": [],
   "source": [
    "files <- files[!grepl(\"_boxcox_outa1\", files)]"
   ]
  },
  {
   "cell_type": "code",
   "execution_count": 6,
   "metadata": {},
   "outputs": [],
   "source": [
    "files <- files[!grepl(\"1323_cohort\", files)]"
   ]
  },
  {
   "cell_type": "code",
   "execution_count": 8,
   "metadata": {},
   "outputs": [],
   "source": [
    "h2_table <- foreach(file = files, .combine = \"rbind\") %do% {\n",
    "    h2_and_se <- str_split_fixed(read.csv(file)[23:24, ], \"= \", 2)[,2]\n",
    "    h2_and_se_formatted <- paste0(h2_and_se[1], \" +/- \", h2_and_se[2])\n",
    "    \n",
    "    trait <- file_path_sans_ext(file_path_sans_ext(basename(file)))\n",
    "    #cat(\"\\n\")\n",
    "    return(c(trait, h2_and_se[1], h2_and_se[2], h2_and_se_formatted))\n",
    "}"
   ]
  },
  {
   "cell_type": "code",
   "execution_count": 9,
   "metadata": {},
   "outputs": [],
   "source": [
    "colnames(h2_table) <- c(\"trait\", \"h2\", \"se\", \"h2_and_se\")"
   ]
  },
  {
   "cell_type": "code",
   "execution_count": 10,
   "metadata": {},
   "outputs": [],
   "source": [
    "h2_table <- as.data.frame(h2_table)"
   ]
  },
  {
   "cell_type": "code",
   "execution_count": 11,
   "metadata": {},
   "outputs": [
    {
     "name": "stderr",
     "output_type": "stream",
     "text": [
      "Warning message in eval(expr, envir, enclos):\n",
      "“NAs introduced by coercion”\n"
     ]
    }
   ],
   "source": [
    "h2_table$h2 <- as.numeric(h2_table$h2)"
   ]
  },
  {
   "cell_type": "code",
   "execution_count": 12,
   "metadata": {},
   "outputs": [],
   "source": [
    "h2_table <- h2_table[order(h2_table$h2, decreasing = TRUE), ]"
   ]
  },
  {
   "cell_type": "code",
   "execution_count": 13,
   "metadata": {},
   "outputs": [],
   "source": [
    "data.table::fwrite(h2_table, \"sorted_h2_table.csv\")"
   ]
  },
  {
   "cell_type": "code",
   "execution_count": 7,
   "metadata": {},
   "outputs": [],
   "source": [
    "traits <- levels(factor(h2_table[,1]))"
   ]
  },
  {
   "cell_type": "code",
   "execution_count": 9,
   "metadata": {},
   "outputs": [],
   "source": [
    "h2_table <- as.data.frame(h2_table)"
   ]
  },
  {
   "cell_type": "code",
   "execution_count": 10,
   "metadata": {},
   "outputs": [],
   "source": [
    "colnames(h2_table) <- c(\"trait\", \"transformation\", \"covariate\", \"h2\")"
   ]
  },
  {
   "cell_type": "code",
   "execution_count": 16,
   "metadata": {},
   "outputs": [],
   "source": [
    "for(trait in traits){\n",
    "    data <- h2_table[which(h2_table$trait == trait), ]\n",
    "\n",
    "    data <- spread(data,\n",
    "           key = covariate,\n",
    "           value = h2)\n",
    "    p <- gt(data)\n",
    "    \n",
    "    \n",
    "    p <- \n",
    "    p %>%\n",
    "    tab_header(\n",
    "    title = md(trait),\n",
    "    subtitle = md(\"Narrow-sense heritability calculated by GEMMA\"))\n",
    "    \n",
    "    ## Save  out\n",
    "    \n",
    "    outname <- paste0(\"Results/h2/\",\n",
    "                      trait, \"_h2table.png\")\n",
    "    gtsave(p, outname)\n",
    "}"
   ]
  },
  {
   "cell_type": "code",
   "execution_count": 15,
   "metadata": {},
   "outputs": [],
   "source": []
  },
  {
   "cell_type": "code",
   "execution_count": 13,
   "metadata": {},
   "outputs": [],
   "source": []
  },
  {
   "cell_type": "code",
   "execution_count": null,
   "metadata": {},
   "outputs": [],
   "source": []
  }
 ],
 "metadata": {
  "kernelspec": {
   "display_name": "R",
   "language": "R",
   "name": "ir"
  },
  "language_info": {
   "codemirror_mode": "r",
   "file_extension": ".r",
   "mimetype": "text/x-r-source",
   "name": "R",
   "pygments_lexer": "r",
   "version": "4.1.3"
  }
 },
 "nbformat": 4,
 "nbformat_minor": 4
}
