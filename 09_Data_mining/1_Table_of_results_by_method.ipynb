{
 "cells": [
  {
   "cell_type": "markdown",
   "metadata": {},
   "source": [
    "# Build spreadsheet of all results from all methods"
   ]
  },
  {
   "cell_type": "code",
   "execution_count": null,
   "metadata": {},
   "outputs": [],
   "source": [
    "library(data.table)\n",
    "library(tools)\n",
    "library(stringr)\n",
    "library(tidyr)"
   ]
  },
  {
   "cell_type": "markdown",
   "metadata": {},
   "source": [
    "## Start with list of raw traits"
   ]
  },
  {
   "cell_type": "code",
   "execution_count": null,
   "metadata": {},
   "outputs": [],
   "source": [
    "traits <- list.files(\"../05_Parsing_phenodata/pheno_files/\",\n",
    "                     pattern = \"\\\\.header\",\n",
    "                     full.names = TRUE,\n",
    "                     recursive = TRUE)\n",
    "\n",
    "traits <- traits[-grep(\"copies\", traits)]\n",
    "traits <- traits[-grep(\"binarized\", traits)]\n",
    "traits <- traits[-grep(\"boxcox\", traits)]\n",
    "traits <- traits[-grep(\"rbinv\", traits)]\n",
    "traits <- traits[-grep(\"threshold\", traits)]\n",
    "traits <- traits[-grep(\"diameter\", traits)]\n",
    "traits <- traits[-grep(\"lntrans\", traits)]\n",
    "traits <- traits[-grep(\"wk2_wk5\", traits)] # These are duplicates of 2w_5w versions\n",
    "traits <- traits[-grep(\"PC5\", traits)]\n",
    "traits <- traits[-grep(\"PC6\", traits)]\n",
    "traits <- traits[-grep(\"PC11\", traits)]\n",
    "traits <- traits[-grep(\"PC12\", traits)]\n",
    "traits <- traits[-grep(\"PC13\", traits)]"
   ]
  },
  {
   "cell_type": "code",
   "execution_count": null,
   "metadata": {},
   "outputs": [],
   "source": [
    "data <- as.data.table(traits)\n",
    "colnames(data) <- \"raw_trait_path\""
   ]
  },
  {
   "cell_type": "code",
   "execution_count": null,
   "metadata": {},
   "outputs": [],
   "source": [
    "data$raw_trait <- basename(file_path_sans_ext(file_path_sans_ext(data$raw_trait_path)))"
   ]
  },
  {
   "cell_type": "markdown",
   "metadata": {},
   "source": [
    "## Add traits from GEMMA"
   ]
  },
  {
   "cell_type": "code",
   "execution_count": null,
   "metadata": {},
   "outputs": [],
   "source": [
    "gemma_list <- list.files(\"../07_GEMMA/output/\",\n",
    "                         pattern = \"assoc\",\n",
    "                         full.names = TRUE)"
   ]
  },
  {
   "cell_type": "code",
   "execution_count": null,
   "metadata": {},
   "outputs": [],
   "source": [
    "gemma_table <- as.data.frame(gemma_list)\n",
    "colnames(gemma_table)[1] <- \"gemma_path\""
   ]
  },
  {
   "cell_type": "markdown",
   "metadata": {},
   "source": [
    "### Parse out batch and trait IDs from filenames"
   ]
  },
  {
   "cell_type": "code",
   "execution_count": null,
   "metadata": {},
   "outputs": [],
   "source": [
    "gemma_table$raw_trait <- file_path_sans_ext(file_path_sans_ext(gemma_table$gemma_path))"
   ]
  },
  {
   "cell_type": "code",
   "execution_count": null,
   "metadata": {},
   "outputs": [],
   "source": [
    "batches <- c(\"_nothreshold_unique_keepoutliers_rbinv_outa3\",\n",
    "             \"_boxcox_outa1\",\n",
    "             \"_nothreshold_nodupfilter_keepoutliers_boxcox_outa2\",\n",
    "             \"_nothreshold_nodupfilter_keepoutliers_boxcox_outa3\",\n",
    "             \"_nothreshold_unique_keepoutliers_boxcox_outa3\",\n",
    "             \"_nothreshold_unique_rmoutliers_boxcox_outa3\",\n",
    "             \"_untransformed_outa1\",\n",
    "             \"_nothreshold_unique_keepoutliers_rbinv_outa2\",\n",
    "             \"_nothreshold_unique_keepoutliers_rbinv_outa3\",\n",
    "             \"_nothreshold_unique_rmoutliers_boxcox_outa2\",\n",
    "             \"_nothreshold_unique_keepoutliers_boxcox_outa2\",\n",
    "             \"__unique_rmoutliers_boxcox_outa2\",\n",
    "             \"__unique_rmoutliers_boxcox_outa3\"\n",
    "#              \"_threshold-0.198412874212136__unique_rmoutliers_boxcox_outa3\",\n",
    "#              \"_threshold0.708565670955823__unique_rmoutliers_boxcox_outa2\",\n",
    "#              \"_threshold0.364036344426957__unique_rmoutliers_boxcox_outa2\",\n",
    "#              \"_threshold-0.0145550368327804__unique_rmoutliers_boxcox_outa3\",\n",
    "#              \"_threshold0.00047973016093833__unique_rmoutliers_boxcox_outa3\",\n",
    "#              \"_threshold0.000918436893207641__unique_rmoutliers_boxcox_outa3\"\n",
    "             )"
   ]
  },
  {
   "cell_type": "code",
   "execution_count": null,
   "metadata": {},
   "outputs": [],
   "source": [
    "gemma_table$batch <- NA # Must initialize this column"
   ]
  },
  {
   "cell_type": "code",
   "execution_count": null,
   "metadata": {},
   "outputs": [],
   "source": [
    "for(batch in batches){\n",
    "    print(batch)\n",
    "    lines_this_batch <- which(grepl(batch, gemma_table$raw_trait))\n",
    "    \n",
    "    gemma_table$batch[lines_this_batch] <- batch\n",
    "    \n",
    "    gemma_table$raw_trait[lines_this_batch] <- gsub(batch,\n",
    "                                                    \"\",\n",
    "                                                    gemma_table$raw_trait[lines_this_batch])\n",
    "\n",
    "    gemma_table$raw_trait[lines_this_batch] <- basename(gemma_table$raw_trait[lines_this_batch])\n",
    "}"
   ]
  },
  {
   "cell_type": "code",
   "execution_count": null,
   "metadata": {},
   "outputs": [],
   "source": [
    "lines_with_threshold <- which(grepl(\"_threshold\", gemma_table$raw_trait))"
   ]
  },
  {
   "cell_type": "code",
   "execution_count": null,
   "metadata": {},
   "outputs": [],
   "source": [
    "parsed_threshold_names <- str_split_fixed(gemma_table[lines_with_threshold, ]$gemma_path, \"_threshold\", 2)"
   ]
  },
  {
   "cell_type": "code",
   "execution_count": null,
   "metadata": {},
   "outputs": [],
   "source": [
    "gemma_table[lines_with_threshold, ]$batch <- \n",
    "file_path_sans_ext(\n",
    "    file_path_sans_ext(\n",
    "        paste0(\"_threshold\", parsed_threshold_names[, 2])\n",
    "        )\n",
    "    )"
   ]
  },
  {
   "cell_type": "code",
   "execution_count": null,
   "metadata": {},
   "outputs": [],
   "source": [
    "gemma_table[lines_with_threshold, ]$raw_trait <- basename(parsed_threshold_names[, 1])"
   ]
  },
  {
   "cell_type": "markdown",
   "metadata": {},
   "source": [
    "### Turn long data wide"
   ]
  },
  {
   "cell_type": "code",
   "execution_count": null,
   "metadata": {},
   "outputs": [],
   "source": [
    "gemma_table$batch <- paste0(\"GEMMA\", gemma_table$batch)"
   ]
  },
  {
   "cell_type": "code",
   "execution_count": null,
   "metadata": {},
   "outputs": [],
   "source": [
    "gemma_table_wide <- tidyr::spread(gemma_table, batch, gemma_path)"
   ]
  },
  {
   "cell_type": "markdown",
   "metadata": {},
   "source": [
    "## Add traits from GMMAT"
   ]
  },
  {
   "cell_type": "code",
   "execution_count": null,
   "metadata": {},
   "outputs": [],
   "source": [
    "gmmat_list <- list.files(\"../08_GMMAT/Results/\", full.names = TRUE, recursive = TRUE, pattern = \"glmm\")"
   ]
  },
  {
   "cell_type": "code",
   "execution_count": null,
   "metadata": {},
   "outputs": [],
   "source": [
    "gmmat_table <- as.data.frame(gmmat_list)\n",
    "colnames(gmmat_table)[1] <- \"gmmat_path\""
   ]
  },
  {
   "cell_type": "markdown",
   "metadata": {},
   "source": [
    "### Parse out raw traits from file names/paths"
   ]
  },
  {
   "cell_type": "code",
   "execution_count": null,
   "metadata": {},
   "outputs": [],
   "source": [
    "gmmat_table$raw_trait <- file_path_sans_ext(file_path_sans_ext(gmmat_table$gmmat_path))"
   ]
  },
  {
   "cell_type": "code",
   "execution_count": null,
   "metadata": {},
   "outputs": [],
   "source": [
    "head(gmmat_table$raw_trait)"
   ]
  },
  {
   "cell_type": "code",
   "execution_count": null,
   "metadata": {},
   "outputs": [],
   "source": [
    "batch_criteria_A <- str_split_fixed(gmmat_table$gmmat_path, \"/\", 6)[,5]"
   ]
  },
  {
   "cell_type": "code",
   "execution_count": null,
   "metadata": {},
   "outputs": [],
   "source": [
    "batches <- c(\"_binarized_logitlink\",\n",
    "             \"_nothreshold_duplicates_binarized.binary_logitlink\",\n",
    "             \"_threshold-0.198412874212136.binary_logitlink\",\n",
    "             \"_threshold0.708565670955823.binary_logitlink\",\n",
    "             \"_threshold0.364036344426957.binary_logitlink\",\n",
    "             \"_threshold-0.198412874212136.binary_logitlink\")"
   ]
  },
  {
   "cell_type": "code",
   "execution_count": null,
   "metadata": {},
   "outputs": [],
   "source": [
    "gmmat_table$batch <- NA"
   ]
  },
  {
   "cell_type": "code",
   "execution_count": null,
   "metadata": {},
   "outputs": [],
   "source": [
    "for(batch in batches){\n",
    "    \n",
    "    lines_this_batch <- which(grepl(batch, gmmat_table$raw_trait))\n",
    "    \n",
    "    gmmat_table$batch[lines_this_batch] <- batch\n",
    "    \n",
    "    gmmat_table$raw_trait[lines_this_batch] <- gsub(batch,\n",
    "                                  \"\",\n",
    "                                  gmmat_table$raw_trait[lines_this_batch])\n",
    "    \n",
    "    gmmat_table$raw_trait[lines_this_batch] <- basename(gmmat_table$raw_trait[lines_this_batch])\n",
    "    \n",
    "    gmmat_table$batch[lines_this_batch] <- paste0(\"GMMAT\", batch, \"-\", batch_criteria_A[lines_this_batch])\n",
    "}"
   ]
  },
  {
   "cell_type": "markdown",
   "metadata": {},
   "source": [
    "### Store file prefix instead of filename"
   ]
  },
  {
   "cell_type": "markdown",
   "metadata": {},
   "source": [
    "<div class=\"alert alert-block alert-warning\"> We need the file prefix instead of file name because there are two files (score and Wald) for each run... and this would get in the way of us having one row per trait as we need.</div>\n"
   ]
  },
  {
   "cell_type": "code",
   "execution_count": null,
   "metadata": {},
   "outputs": [],
   "source": [
    "gmmat_table$gmmat_path <- file_path_sans_ext(file_path_sans_ext(gmmat_table$gmmat_path))"
   ]
  },
  {
   "cell_type": "code",
   "execution_count": null,
   "metadata": {},
   "outputs": [],
   "source": [
    "gmmat_table <- unique(gmmat_table)"
   ]
  },
  {
   "cell_type": "code",
   "execution_count": null,
   "metadata": {},
   "outputs": [],
   "source": [
    "data.table::fwrite(gmmat_table, \"1_GMMAT_table.csv\")"
   ]
  },
  {
   "cell_type": "markdown",
   "metadata": {},
   "source": [
    "### Turn long data wide"
   ]
  },
  {
   "cell_type": "code",
   "execution_count": null,
   "metadata": {},
   "outputs": [],
   "source": [
    "gmmat_table_wide <- tidyr::spread(gmmat_table, batch, gmmat_path)"
   ]
  },
  {
   "cell_type": "code",
   "execution_count": null,
   "metadata": {},
   "outputs": [],
   "source": [
    "colnames(gmmat_table_wide) <- gsub(\"\\\\.\", \"--\", colnames(gmmat_table_wide))"
   ]
  },
  {
   "cell_type": "markdown",
   "metadata": {},
   "source": [
    "## Add traits from MTMCSKAT"
   ]
  },
  {
   "cell_type": "markdown",
   "metadata": {},
   "source": [
    "### Build list with one file for each scaffold and trait/batch combo"
   ]
  },
  {
   "cell_type": "markdown",
   "metadata": {},
   "source": [
    "#### Make lists of all files"
   ]
  },
  {
   "cell_type": "code",
   "execution_count": null,
   "metadata": {},
   "outputs": [],
   "source": [
    "skat_list.1 <- \n",
    "list.files(\"/mnt/data/NSF_GWAS/Results/SKAT/mtskat_with_PCs_added_over_callus_and_PCs\",\n",
    "           full.names = TRUE,\n",
    "           recursive = TRUE,\n",
    "           pattern = \"csv\")\n",
    "\n",
    "skat_list.2 <- \n",
    "list.files(\"/mnt/data/NSF_GWAS/Results/SKAT/mtskat_noPC_over_callus_shoot_and_PCs\",\n",
    "           full.names = TRUE,\n",
    "           recursive = TRUE,\n",
    "           pattern = \"csv\")"
   ]
  },
  {
   "cell_type": "code",
   "execution_count": null,
   "metadata": {},
   "outputs": [],
   "source": [
    "skat_list.3 <- \n",
    "list.files(\"/mnt/data/NSF_GWAS/Results/SKAT/mtmcskat_SLURMS_6PC/\",\n",
    "           full.names = TRUE,\n",
    "           recursive = TRUE,\n",
    "           pattern = \"csv\")\n",
    "\n",
    "skat_list.4 <- \n",
    "list.files(\"/mnt/data/NSF_GWAS/Results/SKAT/mtmcskat_SLURMS_7K/\",\n",
    "           full.names = TRUE,\n",
    "           recursive = TRUE,\n",
    "           pattern = \"csv\")"
   ]
  },
  {
   "cell_type": "code",
   "execution_count": null,
   "metadata": {},
   "outputs": [],
   "source": [
    "skat_list <- c(skat_list.1, skat_list.2, skat_list.3, skat_list.4)"
   ]
  },
  {
   "cell_type": "markdown",
   "metadata": {},
   "source": [
    "#### Parse trait and covariates out from files"
   ]
  },
  {
   "cell_type": "code",
   "execution_count": null,
   "metadata": {},
   "outputs": [],
   "source": [
    "skat_table_by_scaff <- as.data.frame(skat_list)\n",
    "colnames(skat_table_by_scaff)[1] <- \"skat_path\""
   ]
  },
  {
   "cell_type": "code",
   "execution_count": null,
   "metadata": {},
   "outputs": [],
   "source": [
    "skat_table_by_scaff$raw_trait <- \n",
    "file_path_sans_ext(\n",
    "    file_path_sans_ext(\n",
    "        str_split_fixed(\n",
    "            basename(skat_table_by_scaff$skat_path),\n",
    "            \"-\",\n",
    "            3)[,2]\n",
    "    \n",
    "))"
   ]
  },
  {
   "cell_type": "code",
   "execution_count": null,
   "metadata": {},
   "outputs": [],
   "source": [
    "skat_table_by_scaff$batch <-\n",
    "str_split_fixed(skat_table_by_scaff$skat_path,\n",
    "               \"/\",\n",
    "               8)[,7]\n",
    "head(skat_table_by_scaff)"
   ]
  },
  {
   "cell_type": "code",
   "execution_count": null,
   "metadata": {},
   "outputs": [],
   "source": [
    "chr_list <- str_split_fixed(skat_table_by_scaff$skat_path, \"_Chr\", 2)[,2]\n",
    "chr_list <- str_split_fixed(chr_list, \"\\\\.\", 2)[,1] \n",
    "length(chr_list)"
   ]
  },
  {
   "cell_type": "markdown",
   "metadata": {},
   "source": [
    "### Collapse down to list for each trait/batch, aggregating over scaffolds"
   ]
  },
  {
   "cell_type": "markdown",
   "metadata": {},
   "source": [
    "#### Produce long table"
   ]
  },
  {
   "cell_type": "code",
   "execution_count": null,
   "metadata": {},
   "outputs": [],
   "source": [
    "skat_table_by_scaff$skat_prefix <- str_split_fixed(basename(skat_table_by_scaff$skat_path), \"_Chr\", 2)[,1]"
   ]
  },
  {
   "cell_type": "code",
   "execution_count": null,
   "metadata": {},
   "outputs": [],
   "source": [
    "skat_table_by_scaff$skat_prefix <- paste0(dirname(skat_table_by_scaff$skat_path), \"/\",\n",
    "                                          skat_table_by_scaff$skat_prefix)"
   ]
  },
  {
   "cell_type": "code",
   "execution_count": null,
   "metadata": {},
   "outputs": [],
   "source": [
    "skat_table <- skat_table_by_scaff"
   ]
  },
  {
   "cell_type": "code",
   "execution_count": null,
   "metadata": {},
   "outputs": [],
   "source": [
    "skat_table$skat_path <- NULL"
   ]
  },
  {
   "cell_type": "code",
   "execution_count": null,
   "metadata": {},
   "outputs": [],
   "source": [
    "skat_table <- unique(skat_table)"
   ]
  },
  {
   "cell_type": "markdown",
   "metadata": {},
   "source": [
    "#### Make wide"
   ]
  },
  {
   "cell_type": "code",
   "execution_count": null,
   "metadata": {},
   "outputs": [],
   "source": [
    "skat_table_wide <- tidyr::spread(skat_table, batch, skat_prefix)"
   ]
  },
  {
   "cell_type": "markdown",
   "metadata": {},
   "source": [
    "## Merge all tables"
   ]
  },
  {
   "cell_type": "code",
   "execution_count": null,
   "metadata": {},
   "outputs": [],
   "source": [
    "merged <- merge(data, gemma_table_wide, by = \"raw_trait\",\n",
    "                all = TRUE)"
   ]
  },
  {
   "cell_type": "code",
   "execution_count": null,
   "metadata": {},
   "outputs": [],
   "source": [
    "merged <- merge(merged, gmmat_table_wide, by = \"raw_trait\",\n",
    "                all = TRUE)"
   ]
  },
  {
   "cell_type": "code",
   "execution_count": null,
   "metadata": {},
   "outputs": [],
   "source": [
    "merged <- merge(merged, skat_table_wide, by = \"raw_trait\",\n",
    "                all = TRUE)"
   ]
  },
  {
   "cell_type": "markdown",
   "metadata": {},
   "source": [
    "Clean up these column names a little"
   ]
  },
  {
   "cell_type": "code",
   "execution_count": null,
   "metadata": {},
   "outputs": [],
   "source": [
    "colnames(merged) <- file_path_sans_ext(file_path_sans_ext(colnames(merged)))"
   ]
  },
  {
   "cell_type": "code",
   "execution_count": null,
   "metadata": {},
   "outputs": [],
   "source": [
    "fwrite(merged, \"1_Table_results_by_method_a2.1_keep_full_gmmat_batchname.csv\")"
   ]
  },
  {
   "cell_type": "code",
   "execution_count": null,
   "metadata": {},
   "outputs": [],
   "source": []
  },
  {
   "cell_type": "code",
   "execution_count": null,
   "metadata": {},
   "outputs": [],
   "source": []
  }
 ],
 "metadata": {
  "kernelspec": {
   "display_name": "R",
   "language": "R",
   "name": "ir"
  },
  "language_info": {
   "codemirror_mode": "r",
   "file_extension": ".r",
   "mimetype": "text/x-r-source",
   "name": "R",
   "pygments_lexer": "r",
   "version": "4.1.3"
  },
  "toc-autonumbering": true
 },
 "nbformat": 4,
 "nbformat_minor": 4
}
