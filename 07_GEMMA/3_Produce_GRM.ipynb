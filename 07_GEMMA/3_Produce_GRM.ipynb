{
 "cells": [
  {
   "cell_type": "markdown",
   "metadata": {},
   "source": [
    "# Produce a kinship matrix (AKA Genetic Relatedness Matrix)"
   ]
  },
  {
   "cell_type": "markdown",
   "metadata": {},
   "source": [
    "GEMMA uses a kinship matrix to control for the polygenic effect. We must calculate a kinship matrix for this GWAS population before running GEMMA. This operation only needs to be performed once for the SNP set. GEMMA itself can be used to produce this kinship matrix, as we will do in this notebook."
   ]
  },
  {
   "cell_type": "markdown",
   "metadata": {},
   "source": [
    "## Build kinship matrix"
   ]
  },
  {
   "cell_type": "code",
   "execution_count": null,
   "metadata": {},
   "outputs": [],
   "source": [
    "conda activate gemma"
   ]
  },
  {
   "cell_type": "markdown",
   "metadata": {
    "heading_collapsed": "true"
   },
   "source": [
    "### MAF threshold of 5% and default missing rates"
   ]
  },
  {
   "cell_type": "code",
   "execution_count": null,
   "metadata": {},
   "outputs": [],
   "source": [
    "gemma -bfile ../01_SNP_format_conversions/1323_cohort_maf0.05_defaultmissingrates.snp.pass \\\n",
    "-gk 1 \\\n",
    "-o 1323_cohort_maf05_defaultmissingrates"
   ]
  },
  {
   "cell_type": "markdown",
   "metadata": {},
   "source": [
    "The first time I ran this, it produced the error:"
   ]
  },
  {
   "cell_type": "raw",
   "metadata": {},
   "source": [
    "GEMMA 0.98.3 (2020-11-28) by Xiang Zhou and team (C) 2012-2020\n",
    "Reading Files ... \n",
    "ERROR: Enforce failed for number of analyzed individuals equals 0. in src/param.cpp at line 2073 in ProcessCvtPhen"
   ]
  },
  {
   "cell_type": "markdown",
   "metadata": {},
   "source": [
    "This error is explained here. It is resolved by replacing NA (-9) values with phenotype data or dummy data. Phenotype data has no effect on computation of kinship matrix, so this is fine."
   ]
  },
  {
   "cell_type": "markdown",
   "metadata": {},
   "source": [
    "We wish to have a kinship matrix computed for the whole GWAS population. Not all phenotypes have the same number of individuaols, so it would not make sense to use the # of genotypes with nonmissing phenotypes. Thus, we will modify the .fam (which does not include phenotype data currently) to include a 1 for every phenotype."
   ]
  },
  {
   "cell_type": "markdown",
   "metadata": {},
   "source": [
    "I will do this in notebook 2 in this folder, then run again. Note, I renumbered notebooks to maintain sequential order. This will now be notebook 3."
   ]
  },
  {
   "cell_type": "markdown",
   "metadata": {},
   "source": [
    "Here is the `.fam` file used:"
   ]
  },
  {
   "cell_type": "code",
   "execution_count": null,
   "metadata": {},
   "outputs": [],
   "source": [
    "head ../01_SNP_format_conversions/1323_cohort_maf0.05_defaultmissingrates.snp.pass.fam"
   ]
  },
  {
   "cell_type": "markdown",
   "metadata": {},
   "source": [
    "### MAF threshold of 1%"
   ]
  },
  {
   "cell_type": "code",
   "execution_count": null,
   "metadata": {},
   "outputs": [],
   "source": [
    "gemma -bfile ../01_SNP_format_conversions/1323_cohort_maf01_geno10.snp.pass \\\n",
    "-gk 1 \\\n",
    "-o 1323_cohort_maf01_geno10"
   ]
  },
  {
   "cell_type": "code",
   "execution_count": null,
   "metadata": {},
   "outputs": [],
   "source": []
  }
 ],
 "metadata": {
  "kernelspec": {
   "display_name": "Bash",
   "language": "bash",
   "name": "bash"
  },
  "language_info": {
   "codemirror_mode": "shell",
   "file_extension": ".sh",
   "mimetype": "text/x-sh",
   "name": "bash"
  }
 },
 "nbformat": 4,
 "nbformat_minor": 4
}
