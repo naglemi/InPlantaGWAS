{
 "cells": [
  {
   "cell_type": "markdown",
   "metadata": {},
   "source": [
    "# Run `GEMMA` ***in parallel*** using SNPs filtered at MAF 0.01 and select transformation(s) for each trait"
   ]
  },
  {
   "cell_type": "markdown",
   "metadata": {},
   "source": [
    "We will use the GNU parallel framework to multithread `GEMMA` over phenotypes.<br>\n",
    "Tange, O. (2020, November 22). GNU Parallel 20201122 ('Biden').\n",
    "  Zenodo. https://doi.org/10.5281/zenodo.4284075"
   ]
  },
  {
   "cell_type": "markdown",
   "metadata": {},
   "source": [
    "## Run `GEMMA` over traits that have undergone tailored transformations"
   ]
  },
  {
   "cell_type": "markdown",
   "metadata": {},
   "source": [
    "### Stem regeneration GWAS"
   ]
  },
  {
   "cell_type": "code",
   "execution_count": null,
   "metadata": {},
   "outputs": [],
   "source": [
    "job_list_name=jobs/stem_regen_gemma_commands_a3batch1.jobs"
   ]
  },
  {
   "cell_type": "code",
   "execution_count": null,
   "metadata": {},
   "outputs": [],
   "source": [
    "rm -rf $job_list_name"
   ]
  },
  {
   "cell_type": "markdown",
   "metadata": {},
   "source": [
    "##### Prepare batch for timepoints 2, 3 (missing phase indicator only for Ph 8 to avoid singular matrix; all phases have these two timepoints)"
   ]
  },
  {
   "cell_type": "code",
   "execution_count": null,
   "metadata": {},
   "outputs": [],
   "source": [
    "for file in `cat all_root_stem_traits_with_desired_transformations_no_blanklines.txt | grep -i \"stem_regen\" | grep -i \"2w\"`\n",
    "do\n",
    " wc -l ../05_Parsing_phenodata/$file\n",
    " outname=$(echo $file | sed -e \"s/\\\\.noheader\\\\.pheno/_outa3/g\")\n",
    " outname=$(basename $outname)\n",
    " echo \"gemma -bfile ../01_SNP_format_conversions/1323_cohort_maf01_geno10.snp.pass \\\n",
    "-p ../05_Parsing_phenodata/$file \\\n",
    "-k output/1323_cohort_maf01_geno10.cXX.txt \\\n",
    "-c covariates/Stem_regen_diam_and_phases_sansPh8.cov \\\n",
    "-lmm 1 \\\n",
    "-n 3 \\\n",
    "-miss 0.1 \\\n",
    "-o $outname\" >> $job_list_name\n",
    "done"
   ]
  },
  {
   "cell_type": "code",
   "execution_count": null,
   "metadata": {},
   "outputs": [],
   "source": [
    "for file in `cat all_root_stem_traits_with_desired_transformations_no_blanklines.txt | grep -i \"stem_regen\" | grep -i \"3w\"`\n",
    "do\n",
    " wc -l ../05_Parsing_phenodata/$file\n",
    " outname=$(echo $file | sed -e \"s/\\\\.noheader\\\\.pheno/_outa3/g\")\n",
    " outname=$(basename $outname)\n",
    " echo \"gemma -bfile ../01_SNP_format_conversions/1323_cohort_maf01_geno10.snp.pass \\\n",
    "-p ../05_Parsing_phenodata/$file \\\n",
    "-k output/1323_cohort_maf01_geno10.cXX.txt \\\n",
    "-c covariates/Stem_regen_diam_and_phases_sansPh8.cov \\\n",
    "-lmm 1 \\\n",
    "-n 3 \\\n",
    "-miss 0.1 \\\n",
    "-o $outname\" >> $job_list_name\n",
    "done"
   ]
  },
  {
   "cell_type": "markdown",
   "metadata": {},
   "source": [
    "##### Prepare batch for timepoint 5 using covariate file that excludes indicator variables for Phases 1 (in addition to Phase 8 already excluded)"
   ]
  },
  {
   "cell_type": "markdown",
   "metadata": {},
   "source": [
    "This includes data for growth rates, produced by subtracting area at wk5 from that at wk2."
   ]
  },
  {
   "cell_type": "code",
   "execution_count": null,
   "metadata": {},
   "outputs": [],
   "source": [
    "for file in `cat all_root_stem_traits_with_desired_transformations_no_blanklines.txt | grep -i \"stem_regen\" | grep -i \"5w\"`\n",
    "do\n",
    " wc -l ../05_Parsing_phenodata/$file\n",
    " outname=$(echo $file | sed -e \"s/\\\\.noheader\\\\.pheno/_outa3/g\")\n",
    " outname=$(basename $outname)\n",
    " echo \"gemma -bfile ../01_SNP_format_conversions/1323_cohort_maf01_geno10.snp.pass \\\n",
    "-p ../05_Parsing_phenodata/$file \\\n",
    "-k output/1323_cohort_maf01_geno10.cXX.txt \\\n",
    "-c covariates/Stem_regen_diam_and_phases_sansPh1Ph8.cov \\\n",
    "-lmm 1 \\\n",
    "-n 3 \\\n",
    "-miss 0.1 \\\n",
    "-o $outname\" >> $job_list_name\n",
    "done"
   ]
  },
  {
   "cell_type": "markdown",
   "metadata": {},
   "source": [
    "##### Prepare batch for timepoint 4 that excludes indicator variables for Phase 3 as well"
   ]
  },
  {
   "cell_type": "code",
   "execution_count": null,
   "metadata": {},
   "outputs": [],
   "source": [
    "for file in `cat all_root_stem_traits_with_desired_transformations_no_blanklines.txt | grep -i \"stem_regen\" | grep -i \"4w\"`\n",
    "do\n",
    " wc -l ../05_Parsing_phenodata/$file\n",
    " outname=$(echo $file | sed -e \"s/\\\\.noheader\\\\.pheno/_outa3/g\")\n",
    " outname=$(basename $outname)\n",
    " echo \"gemma -bfile ../01_SNP_format_conversions/1323_cohort_maf01_geno10.snp.pass \\\n",
    "-p ../05_Parsing_phenodata/$file \\\n",
    "-k output/1323_cohort_maf01_geno10.cXX.txt \\\n",
    "-c covariates/Stem_regen_diam_and_phases_sansPh1Ph3Ph8.cov \\\n",
    "-lmm 1 \\\n",
    "-n 3 \\\n",
    "-miss 0.1 \\\n",
    "-o $outname\" >> $job_list_name\n",
    "done"
   ]
  },
  {
   "cell_type": "markdown",
   "metadata": {},
   "source": [
    "##### Also add PC traits to this batch"
   ]
  },
  {
   "cell_type": "markdown",
   "metadata": {},
   "source": [
    "Since PCs cannot be computed for anything with NA, they do not include genotypes missing data from Ph1 or Ph3."
   ]
  },
  {
   "cell_type": "code",
   "execution_count": null,
   "metadata": {},
   "outputs": [],
   "source": [
    "for file in `cat all_root_stem_traits_with_desired_transformations_no_blanklines.txt | grep -i \"stem_regen\" | grep -i \"PC\"`\n",
    "do\n",
    " wc -l ../05_Parsing_phenodata/$file\n",
    " outname=$(echo $file | sed -e \"s/\\\\.noheader\\\\.pheno/_outa3/g\")\n",
    " outname=$(basename $outname)\n",
    " echo \"gemma -bfile ../01_SNP_format_conversions/1323_cohort_maf01_geno10.snp.pass \\\n",
    "-p ../05_Parsing_phenodata/$file \\\n",
    "-k output/1323_cohort_maf01_geno10.cXX.txt \\\n",
    "-c covariates/Stem_regen_diam_and_phases_sansPh1Ph3Ph8.cov \\\n",
    "-lmm 1 \\\n",
    "-n 3 \\\n",
    "-miss 0.1 \\\n",
    "-o $outname\" >> $job_list_name\n",
    "done"
   ]
  },
  {
   "cell_type": "markdown",
   "metadata": {},
   "source": [
    "##### Inspect and submit our `parallel` job file"
   ]
  },
  {
   "cell_type": "code",
   "execution_count": null,
   "metadata": {},
   "outputs": [],
   "source": [
    "conda activate gemma"
   ]
  },
  {
   "cell_type": "code",
   "execution_count": null,
   "metadata": {},
   "outputs": [],
   "source": [
    "wc -l $job_list_name"
   ]
  },
  {
   "cell_type": "code",
   "execution_count": null,
   "metadata": {},
   "outputs": [],
   "source": [
    "parallel --results output -a $job_list_name"
   ]
  }
 ],
 "metadata": {
  "kernelspec": {
   "display_name": "Bash",
   "language": "bash",
   "name": "bash"
  },
  "language_info": {
   "codemirror_mode": "shell",
   "file_extension": ".sh",
   "mimetype": "text/x-sh",
   "name": "bash"
  },
  "toc-showcode": false
 },
 "nbformat": 4,
 "nbformat_minor": 4
}
