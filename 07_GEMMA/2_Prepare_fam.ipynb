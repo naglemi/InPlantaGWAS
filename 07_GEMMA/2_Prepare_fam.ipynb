{
 "cells": [
  {
   "cell_type": "markdown",
   "metadata": {},
   "source": [
    "# Modify `.fam` file so that we can build kinship matrix that includes all genotypes in SNP set"
   ]
  },
  {
   "cell_type": "markdown",
   "metadata": {},
   "source": [
    "The rationale for this is explained at the end of notebook 3 in this folder. This must be done before we can build a kinship matrix."
   ]
  },
  {
   "cell_type": "markdown",
   "metadata": {},
   "source": [
    "Let's first make a backup of the original, unmodified `.fam` file before we change it."
   ]
  },
  {
   "cell_type": "markdown",
   "metadata": {},
   "source": [
    "## For MAF threshold of 5% and default missing rates"
   ]
  },
  {
   "cell_type": "code",
   "execution_count": null,
   "metadata": {},
   "outputs": [],
   "source": [
    "file.copy(\"../01_SNP_format_conversions/1323_cohort_maf0.05_defaultmissingrates.snp.pass.fam\",\n",
    "         \"../01_SNP_format_conversions/1323_cohort_maf0.05_defaultmissingrates.snp.pass.fam_backup\")"
   ]
  },
  {
   "cell_type": "code",
   "execution_count": null,
   "metadata": {},
   "outputs": [],
   "source": [
    "data_in <- read.csv(\"../01_SNP_format_conversions/1323_cohort_maf0.05_defaultmissingrates.snp.pass.fam\",\n",
    "                    sep = \" \",\n",
    "                    header = FALSE)"
   ]
  },
  {
   "cell_type": "code",
   "execution_count": null,
   "metadata": {},
   "outputs": [],
   "source": [
    "head(data_in)"
   ]
  },
  {
   "cell_type": "code",
   "execution_count": null,
   "metadata": {},
   "outputs": [],
   "source": [
    "data_in$V6 <- 1"
   ]
  },
  {
   "cell_type": "code",
   "execution_count": null,
   "metadata": {},
   "outputs": [],
   "source": [
    "?write.table"
   ]
  },
  {
   "cell_type": "code",
   "execution_count": null,
   "metadata": {},
   "outputs": [],
   "source": [
    "write.table(data_in,\n",
    "            \"../01_SNP_format_conversions/1323_cohort_maf0.05_defaultmissingrates.snp.pass.fam\",\n",
    "            col.names = FALSE,\n",
    "            row.names = FALSE,\n",
    "            quote = FALSE)"
   ]
  },
  {
   "cell_type": "markdown",
   "metadata": {},
   "source": [
    "## For MAF threshold of 1% and geno rate of 10%"
   ]
  },
  {
   "cell_type": "code",
   "execution_count": null,
   "metadata": {},
   "outputs": [],
   "source": [
    "file.copy(\"../01_SNP_format_conversions/1323_cohort_maf01_geno10.snp.pass.fam\",\n",
    "         \"../01_SNP_format_conversions/1323_cohort_maf01_geno10.snp.pass.fam_backup\")"
   ]
  },
  {
   "cell_type": "code",
   "execution_count": null,
   "metadata": {},
   "outputs": [],
   "source": [
    "data_in <- read.csv(\"../01_SNP_format_conversions/1323_cohort_maf01_geno10.snp.pass.fam\",\n",
    "                    sep = \" \",\n",
    "                    header = FALSE)"
   ]
  },
  {
   "cell_type": "code",
   "execution_count": null,
   "metadata": {},
   "outputs": [],
   "source": [
    "data_in$V6 <- 1"
   ]
  },
  {
   "cell_type": "code",
   "execution_count": null,
   "metadata": {},
   "outputs": [],
   "source": [
    "write.table(data_in,\n",
    "            \"../01_SNP_format_conversions/1323_cohort_maf01_geno10.snp.pass.fam\",\n",
    "            col.names = FALSE,\n",
    "            row.names = FALSE,\n",
    "            quote = FALSE)"
   ]
  },
  {
   "cell_type": "code",
   "execution_count": null,
   "metadata": {},
   "outputs": [],
   "source": []
  }
 ],
 "metadata": {
  "kernelspec": {
   "display_name": "R",
   "language": "R",
   "name": "ir"
  },
  "language_info": {
   "codemirror_mode": "r",
   "file_extension": ".r",
   "mimetype": "text/x-r-source",
   "name": "R",
   "pygments_lexer": "r",
   "version": "4.1.3"
  }
 },
 "nbformat": 4,
 "nbformat_minor": 4
}
