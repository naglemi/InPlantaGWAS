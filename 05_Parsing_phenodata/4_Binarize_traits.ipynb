{
 "cells": [
  {
   "cell_type": "markdown",
   "metadata": {},
   "source": [
    "# Binarize continuous (and ordinal) phenotypes"
   ]
  },
  {
   "cell_type": "code",
   "execution_count": null,
   "metadata": {},
   "outputs": [],
   "source": [
    "library(data.table)"
   ]
  },
  {
   "cell_type": "markdown",
   "metadata": {},
   "source": [
    "Prepare a list of all our phenotype files"
   ]
  },
  {
   "cell_type": "code",
   "execution_count": null,
   "metadata": {},
   "outputs": [],
   "source": [
    "files <- list.files(\"pheno_files\", recursive = TRUE, pattern = \"\\\\.header\", full.names = TRUE)"
   ]
  },
  {
   "cell_type": "markdown",
   "metadata": {},
   "source": [
    "Remove files for PCs and all boxcox-transformed traits (which have had 0 values dropped before transformation)"
   ]
  },
  {
   "cell_type": "code",
   "execution_count": null,
   "metadata": {},
   "outputs": [],
   "source": [
    "files <- files[!grepl(\"boxcox\", files)]\n",
    "files <- files[!grepl(\"PC\", files)]\n",
    "files <- files[!grepl(\"copies\", files)]\n",
    "files <- files[!grepl(\"binar\", files)]\n",
    "files <- files[!grepl(\"trans\", files)]"
   ]
  },
  {
   "cell_type": "code",
   "execution_count": null,
   "metadata": {},
   "outputs": [],
   "source": [
    "for(file in files){\n",
    "    file_in <- fread(file)\n",
    "    \n",
    "    print(\"Before binarizing:\")\n",
    "    print(head(file_in))\n",
    "    \n",
    "    file_in[,3][which(file_in[, 3] < 0)] <- 0\n",
    "    file_in[,3][which(file_in[, 3] > 0)] <- 1\n",
    "    \n",
    "    print(\"After binarizing:\")\n",
    "    print(head(file_in))\n",
    "    \n",
    "    outfile <- gsub(\"\\\\.header\", \"_binarized.header\", file)\n",
    "    \n",
    "    fwrite(file_in,\n",
    "           outfile,\n",
    "           sep=\"\\t\",\n",
    "           row.names = FALSE,\n",
    "           quote =FALSE,\n",
    "           col.names = FALSE,\n",
    "           na = \"NA\")\n",
    "    \n",
    "    print(paste(\"Saving\", outfile))\n",
    "}"
   ]
  },
  {
   "cell_type": "code",
   "execution_count": null,
   "metadata": {},
   "outputs": [],
   "source": []
  }
 ],
 "metadata": {
  "kernelspec": {
   "display_name": "R",
   "language": "R",
   "name": "ir"
  },
  "language_info": {
   "codemirror_mode": "r",
   "file_extension": ".r",
   "mimetype": "text/x-r-source",
   "name": "R",
   "pygments_lexer": "r",
   "version": "4.1.3"
  }
 },
 "nbformat": 4,
 "nbformat_minor": 4
}
