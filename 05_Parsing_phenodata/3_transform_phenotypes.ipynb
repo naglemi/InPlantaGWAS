{
 "cells": [
  {
   "cell_type": "markdown",
   "metadata": {},
   "source": [
    "# Check distributions of phenotypes"
   ]
  },
  {
   "cell_type": "markdown",
   "metadata": {},
   "source": [
    "We will make qq plots and histograms of all traits before and after transformation, to assess violations of normality assumptions."
   ]
  },
  {
   "cell_type": "markdown",
   "metadata": {},
   "source": [
    "<div class=\"alert alert-block alert-info\"> In this version of the notebook, functions are broken up and cleaned, as well as being finalized. We try box-cox transformation, but first provide options to threshold, remove duplicates, and remove outliers. We also write statistics out to a table. </div>\n"
   ]
  },
  {
   "cell_type": "markdown",
   "metadata": {},
   "source": [
    "## Load libraries and phenotype data"
   ]
  },
  {
   "cell_type": "markdown",
   "metadata": {},
   "source": [
    "### Libraries"
   ]
  },
  {
   "cell_type": "code",
   "execution_count": null,
   "metadata": {},
   "outputs": [],
   "source": [
    "library(curl)\n",
    "library(foreach)\n",
    "library(data.table)\n",
    "library(ggplot2)\n",
    "library(ggpubr) # For combining  multiple ggplot objects into a figure\n",
    "library(tools)\n",
    "library(dplyr)\n",
    "library(RNOmni)"
   ]
  },
  {
   "cell_type": "markdown",
   "metadata": {},
   "source": [
    "### Prepare lists of files"
   ]
  },
  {
   "cell_type": "code",
   "execution_count": null,
   "metadata": {},
   "outputs": [],
   "source": [
    "files_in <- list.files(\"pheno_files\",\n",
    "                       pattern=\"noheader.pheno\",\n",
    "                       full.names = TRUE,\n",
    "                       recursive = TRUE)\n",
    "\n",
    "files_in <- files_in[!grepl(\"trans\", files_in)]\n",
    "files_in <- files_in[!grepl(\"Covariates\", files_in)]\n",
    "files_in <- files_in[!grepl(\"copies\", files_in)]\n",
    "files_in <- files_in[!grepl(\"boxcox\", files_in)]\n",
    "#files_in <- files_in[!grepl(\"PC\", files_in)]\n",
    "files_in <- files_in[!grepl(\"epicormic\", files_in)]\n",
    "files_in <- files_in[!grepl(\"time\", files_in)]\n",
    "files_in <- files_in[!grepl(\"binarized\", files_in)]\n",
    "files_in <- files_in[!grepl(\"threshold\", files_in)]\n",
    "\n",
    "#files_in_sans_PC <- files_in[!grepl(\"PC\", files_in)]\n",
    "files_in_PC_only <- files_in[grepl(\"PC\", files_in)]"
   ]
  },
  {
   "cell_type": "markdown",
   "metadata": {},
   "source": [
    "### Provide functions"
   ]
  },
  {
   "cell_type": "markdown",
   "metadata": {},
   "source": [
    "#### Function for making plots"
   ]
  },
  {
   "cell_type": "code",
   "execution_count": null,
   "metadata": {},
   "outputs": [],
   "source": [
    "plot_histogram_qq <- function(this_file_in, subtitle){\n",
    "  plot1 <- ggplot(na.omit(this_file_in), aes(sample = V3)) + stat_qq() +\n",
    "  geom_abline(intercept=mean(na.omit(this_file_in$V3)), slope = sd(na.omit(this_file_in$V3))) +\n",
    "  ylab(\"Trait values\") + \n",
    "  xlab(\"Theoretical quantiles\")\n",
    "\n",
    "\n",
    "  plot2 <-ggplot(data = na.omit(this_file_in)) + \n",
    "  geom_histogram(mapping = aes(x = V3, y = ..density..), fill=\"steelblue\", colour=\"black\") +\n",
    "  xlab(\"Trait values\") +\n",
    "  ylab(\"Density (PDF)\") +\n",
    "  stat_function(fun = dnorm, args = list(mean = mean(na.omit(this_file_in$V3)),\n",
    "                                         sd = sd(na.omit(this_file_in$V3)))  )\n",
    "\n",
    "  combo_plot <- ggarrange(plot1, plot2)\n",
    "  combo_plot <- annotate_figure(combo_plot, top = text_grob(subtitle, color = \"darkblue\"))\n",
    "  combo_plot\n",
    "}"
   ]
  },
  {
   "cell_type": "markdown",
   "metadata": {},
   "source": [
    "#### Functions for \"pre-treatments\" of duplicates/outlier removal, threshold-based filtering"
   ]
  },
  {
   "cell_type": "code",
   "execution_count": null,
   "metadata": {},
   "outputs": [],
   "source": [
    "remove_duplicates <- function(this_file_in, phenotype_file_path){\n",
    "  # For PC phenotypes, we want only unique values. Those with 0 for all root have\n",
    "  #  the same very low value, which will skew distributions even after Box-Cox.\n",
    "    \n",
    "  # Prepare a file that says which are duplicates (0) and which are not (1)\n",
    "  duplicate_indices <- which(duplicated(this_file_in$V3))\n",
    "  unique_indices <- which(!duplicated(this_file_in$V3))\n",
    "  na_indices <- which(is.na(this_file_in$V3))\n",
    "  this_file_in_binarized <- this_file_in\n",
    "  this_file_in_binarized[duplicate_indices, 3] <- 0\n",
    "  this_file_in_binarized[unique_indices, 3] <- 1\n",
    "  this_file_in_binarized[na_indices, 3] <- NA\n",
    "    \n",
    "  binarized_out_path <- gsub(\"\\\\.noheader\", \"_duplicates_binarized\\\\.binary.noheader\", phenotype_file_path)\n",
    "    \n",
    "  fwrite(this_file_in_binarized, binarized_out_path,\n",
    "         col.names = FALSE, row.names = FALSE,\n",
    "         sep=\"\\t\", quote = FALSE, na=\"NA\")\n",
    "    \n",
    "  #Write out before omitting NAs so we keep all genotypes, in desired order.\n",
    "  fwrite(this_file_in_binarized, binarized_out_path, col.names = FALSE, row.names = FALSE, sep=\"\\t\", quote = FALSE, na=\"NA\")\n",
    "    \n",
    "  # Write version with header\n",
    "  binarized_out_path_wheader <- gsub(\"noheader\", \"header\", binarized_out_path)\n",
    "  fwrite(this_file_in_binarized, binarized_out_path_wheader, col.names = TRUE, row.names = FALSE, sep=\"\\t\", quote = FALSE, na=\"NA\")\n",
    "    \n",
    "  # Remove duplicates and calculate statistics before and after\n",
    "  this_file_in$V3[duplicated(this_file_in$V3)] <- NA\n",
    "  n_duplicates <- length(this_file_in$V3[duplicated(this_file_in$V3,incomparables=NA)])\n",
    "\n",
    "  print(\"Finding S-W test for trait after duplicates dropped is...\")\n",
    "  print(paste0(\"Sample size is: \", length(na.omit(this_file_in$V3))))\n",
    "  pSW_sans_duplicates <- shapiro.test(this_file_in$V3)$p.value\n",
    "  Pearson_CC_sans_duplicates <- find_pearson_cc(this_file_in)\n",
    "\n",
    "  stats_to_append <- c(n_duplicates, pSW_sans_duplicates, Pearson_CC_sans_duplicates, binarized_out_path)\n",
    "  names(stats_to_append) <- c(\"n_duplicates\", \"pval_SW_sans_duplicates\", \"Pearson_CC_sans_duplicates\", \"duplicate_binarized_out_path\")\n",
    "  return(list(\"this_file_in\" = this_file_in,\n",
    "              \"stats_to_append\" = stats_to_append))\n",
    "}"
   ]
  },
  {
   "cell_type": "code",
   "execution_count": null,
   "metadata": {},
   "outputs": [],
   "source": [
    "find_elbow <- function(file_in){\n",
    "    density <- density(na.omit(file_in$V3))\n",
    "    deriv <- diff(density$y) / diff(density$x)\n",
    "    deriv2 <- diff(deriv) / diff(density$x[-1])\n",
    "    elbow <- density$x[which(deriv2 == max(deriv2)) + 2] # Need +2 because second derivate is computed only for points other than the first two points\n",
    "    elbow\n",
    "}"
   ]
  },
  {
   "cell_type": "code",
   "execution_count": null,
   "metadata": {},
   "outputs": [],
   "source": [
    "threshold <- function(this_file_in, threshold, phenotype_file_path){\n",
    "    this_file_in_binarized <- this_file_in\n",
    "    \n",
    "    n_values_below_threshold <- \n",
    "    length(this_file_in_binarized$V3[which(this_file_in_binarized$V3 < threshold)])\n",
    "    \n",
    "    this_file_in_binarized$V3[which(this_file_in$V3 < threshold)] <- 0\n",
    "    this_file_in_binarized$V3[which(this_file_in$V3 >= threshold)] <- 1\n",
    "    \n",
    "    this_file_in$V3[which(this_file_in$V3 < threshold)] <- NA # so we can acheive normality...\n",
    "    # these ones won't be included in our transformed file, only the binarized one.\n",
    "    \n",
    "    pSW_thresholded <- shapiro.test(this_file_in$V3)$p.value\n",
    "    PearsonCC_thresholded <- find_pearson_cc(this_file_in)\n",
    "    \n",
    "    binarized_out_path <- gsub(\"\\\\.noheader\",\n",
    "                               paste0(\"_threshold\", threshold, \"\\\\.binary.noheader\"),\n",
    "                               phenotype_file_path)\n",
    "    \n",
    "    fwrite(this_file_in_binarized, binarized_out_path,\n",
    "           col.names = FALSE, row.names = FALSE,\n",
    "           sep=\"\\t\", quote = FALSE, na=\"NA\")\n",
    "\n",
    "    # Write version with header\n",
    "    binarized_out_path_wheader <- gsub(\"noheader\", \"header\", binarized_out_path)\n",
    "    \n",
    "    fwrite(this_file_in_binarized, binarized_out_path_wheader,\n",
    "           col.names = FALSE, row.names = FALSE,\n",
    "           sep=\"\\t\", quote = FALSE, na=\"NA\")\n",
    "\n",
    "    stats_to_append <- c(threshold, n_values_below_threshold,\n",
    "                         pSW_thresholded, PearsonCC_thresholded, binarized_out_path)\n",
    "    names(stats_to_append) <- c(\"threshold\", \"n_values_below_threshold\",\n",
    "                                \"pSW_thresholded\", \"PearsonCC_thresholded\", \"binarized_out_path\")\n",
    "    \n",
    "    return(list(\"this_file_in\" = this_file_in,\n",
    "                \"stats_to_append\" = stats_to_append))\n",
    "}"
   ]
  },
  {
   "cell_type": "code",
   "execution_count": null,
   "metadata": {},
   "outputs": [],
   "source": [
    "remove_outliers <- function(this_file_in){\n",
    "  Q <- quantile(this_file_in$V3,\n",
    "            probs=c(.25, .75),\n",
    "            na.rm = TRUE)\n",
    "\n",
    "  iqr <- IQR(this_file_in$V3, na.rm = TRUE)\n",
    "\n",
    "  up <-  Q[2]+1.5*iqr\n",
    "  low <- Q[1]-1.5*iqr\n",
    "\n",
    "  # How many outliers are there? Let's keep track of this\n",
    "  n_outliers <- \n",
    "  length(this_file_in$V3[which(this_file_in$V3 > up)]) + \n",
    "  length(this_file_in$V3[which(this_file_in$V3 < low)])\n",
    "\n",
    "  this_file_in$V3[which(this_file_in$V3 > up)] <- NA\n",
    "  this_file_in$V3[which(this_file_in$V3 < low)] <- NA\n",
    "\n",
    "  print(\"Finding S-W test for trait after duplicates dropped and outliers removed is...\")\n",
    "  print(paste0(\"Sample size is: \", length(na.omit(this_file_in$V3))))\n",
    "\n",
    "  pval_SW_sans_outliers <- shapiro.test(this_file_in$V3)$p.value\n",
    "  PearsonCC_sans_outliers <- find_pearson_cc(this_file_in)\n",
    "    \n",
    "  stats_to_append <- c(n_outliers, pval_SW_sans_outliers, PearsonCC_sans_outliers)\n",
    "  names(stats_to_append) <- c(\"n_outliers\", \"pval_SW_sans_outliers\", \"PearsonCC_sans_outliers\")\n",
    "    \n",
    "  return(list(\"this_file_in\" = this_file_in,\n",
    "              \"stats_to_append\" = stats_to_append))\n",
    "}"
   ]
  },
  {
   "cell_type": "markdown",
   "metadata": {},
   "source": [
    "#### Function to produce Pearson CC of trait against normal distribution"
   ]
  },
  {
   "cell_type": "code",
   "execution_count": null,
   "metadata": {},
   "outputs": [],
   "source": [
    "find_pearson_cc <- function(this_file_in){\n",
    "\n",
    "  this_qq <- qqnorm(as.numeric(as.character(na.omit(this_file_in$V3))),\n",
    "              plot.it = FALSE)\n",
    "\n",
    "  pearson_cc <- cor(na.omit(this_qq$x), na.omit(this_qq$y))\n",
    "\n",
    "  pearson_cc\n",
    "}"
   ]
  },
  {
   "cell_type": "markdown",
   "metadata": {},
   "source": [
    "#### Function for Box-Cox transformation, with option for scaling to bring minimum value > 0"
   ]
  },
  {
   "cell_type": "code",
   "execution_count": null,
   "metadata": {},
   "outputs": [],
   "source": [
    "boxcox <- function(this_file_in, phenotype_file_path, exclude_negative_if = \"growth\"){\n",
    "  minimum <- min(na.omit(this_file_in$V3))\n",
    "  print(paste(\"Minimum for this phenotype is\", minimum))\n",
    "  # Prior to Box-Cox, we will scale by a constant alpha to bring everything above zero.\n",
    "  if (minimum < 0){\n",
    "      if(grepl(exclude_negative_if, phenotype_file_path)){\n",
    "          # For growth phenotypes, we will simply discard observations with negative \"growth\"\n",
    "          this_file_in$V3[which(this_file_in$V3 < 0)] <- NA\n",
    "          alpha <- 0\n",
    "      } else{\n",
    "\n",
    "          alpha <- (-1 * min(na.omit(this_file_in$V3)) ) + 1e-8 # scale to min > 0\n",
    "          this_file_in$V3 <- this_file_in$V3 + alpha\n",
    "          print(paste(\"Minimum after scaling: \", min(na.omit(this_file_in$V3))))\n",
    "      }\n",
    "  } else {\n",
    "      alpha <- 0\n",
    "  }\n",
    "\n",
    "  # Since we wish to write this out later, and want to keep all genotypes in order, change\n",
    "  #   =0 to NA and do not drop NA\n",
    "  this_file_in$V3[which(this_file_in$V3 == 0)] <- NA\n",
    "\n",
    "  pTobject <- car::powerTransform(this_file_in$V3, family = \"bcPower\")\n",
    "  lambda <- pTobject$roundlam\n",
    "\n",
    "  print(paste(\"Lambda is: \", lambda))\n",
    "\n",
    "  if (lambda == 0){\n",
    "      this_file_in$V3 <- log(this_file_in$V3)\n",
    "  }\n",
    "\n",
    "  if (lambda != 0){\n",
    "        this_file_in$V3 <- ((this_file_in$V3 ^ lambda) - 1) / lambda\n",
    "  }\n",
    "\n",
    "  return(list(\"this_file_in\" = this_file_in,\n",
    "              \"lambda\" = lambda,\n",
    "              \"alpha\" = alpha))\n",
    "\n",
    "}"
   ]
  },
  {
   "cell_type": "markdown",
   "metadata": {},
   "source": [
    "#### Function with workflow for pre-treatments"
   ]
  },
  {
   "cell_type": "code",
   "execution_count": null,
   "metadata": {},
   "outputs": [],
   "source": [
    "preprocess_trait <- function(this_file_in, trait_path,\n",
    "                             duplicate_rm = FALSE, outlier_rm = FALSE, threshold = FALSE){\n",
    "  pSW_raw <- shapiro.test(this_file_in$V3)$p.value\n",
    "  pearson_cc_raw <- find_pearson_cc(this_file_in)\n",
    "  n_non_NA <- nrow(na.omit(this_file_in))\n",
    "  n_gt_0 <- nrow(na.omit(this_file_in[which(this_file_in$V3 > 0)], ))\n",
    "  stats <- c(trait_path, pSW_raw, pearson_cc_raw, n_non_NA, n_gt_0)\n",
    "  names(stats) <- c(\"trait_raw\", \"pval_SW_raw\",\n",
    "                    \"PearsonCC_raw\",\n",
    "                    \"n_non_NA\", \"n_gt_0\")\n",
    "  \n",
    "    \n",
    "   pearson_cc_before_pretreatment <- find_pearson_cc(this_file_in)\n",
    "  if (threshold == TRUE){\n",
    "      elbow <- find_elbow(this_file_in)\n",
    "      out <- threshold(this_file_in,\n",
    "                       threshold = elbow,\n",
    "                       phenotype_file_path = trait_path)\n",
    "      this_file_in <- out$this_file_in\n",
    "      stats_to_append <- out$stats_to_append\n",
    "      \n",
    "      trait_path <- gsub(\"\\\\.noheader\", paste0(\"_threshold\",\n",
    "                                               elbow,\n",
    "                                               \"_\\\\.noheader\"), trait_path)\n",
    "      \n",
    "      subtitle_pt2 <- paste0(\"\\nRemoved \", stats_to_append[\"n_values_below_threshold\"],\n",
    "                             \" values below threshold \", round(elbow, digits = 3))\n",
    "      \n",
    "  }\n",
    "    \n",
    "  if (threshold == FALSE){\n",
    "      stats_to_append <- rep(\"no_threshold\", 5)\n",
    "      names(stats_to_append) <- c(\"threshold\", \"n_values_below_threshold\",\n",
    "                                  \"pval_SW_thresholded\", \"PearsonCC_thresholded\",\n",
    "                                  \"binarized_out_path\")\n",
    "      \n",
    "      trait_path <- gsub(\"\\\\.noheader\", \"_nothreshold\\\\.noheader\", trait_path)\n",
    "\n",
    "      subtitle_pt2 <- \"\\nNo thresholding\"\n",
    "  }\n",
    "    \n",
    "  stats <- c(stats, stats_to_append)\n",
    "    \n",
    "  if (duplicate_rm == TRUE){\n",
    "      out <- remove_duplicates(this_file_in, phenotype_file_path = trait_path)\n",
    "\n",
    "      this_file_in <- out$this_file_in\n",
    "      stats_to_append <- out$stats_to_append\n",
    "\n",
    "      trait_path <- gsub(\"\\\\.noheader\", \"_unique\\\\.noheader\", trait_path)\n",
    "\n",
    "      subtitle_pt3 <- paste0(\"\\n\", stats_to_append[\"n_duplicates\"], \" duplicates removed\")\n",
    "  }\n",
    "\n",
    "  if (duplicate_rm == FALSE){\n",
    "      stats_to_append <- rep(\"dup_not_removed\", 4)\n",
    "      names(stats_to_append) <- c(\"n_duplicates\", \"pval_SW_sans_duplicates\", \"PearsonCC_sans_duplicates\", \"duplicate_binarized_out_path\")\n",
    "\n",
    "      trait_path <- gsub(\"\\\\.noheader\", \"_nodupfilter\\\\.noheader\", trait_path)\n",
    "\n",
    "      subtitle_pt3 <- \"\\nDuplicates not removed\"\n",
    "  }\n",
    "    \n",
    "  stats <- c(stats, stats_to_append)\n",
    "\n",
    "  # Remove outliers by IQR method (https://www.r-bloggers.com/2020/01/how-to-remove-outliers-in-r/)\n",
    "  if (outlier_rm == TRUE){\n",
    "      out <- remove_outliers(this_file_in)\n",
    "\n",
    "      this_file_in <- out$this_file_in\n",
    "      stats_to_append <- out$stats_to_append\n",
    "\n",
    "      trait_path <- gsub(\"\\\\.noheader\", \"_rmoutliers_boxcox\\\\.noheader\", trait_path)\n",
    "\n",
    "      subtitle_pt4 <- paste0(\"\\n\", stats_to_append[\"n_outliers\"], \" outliers removed\")\n",
    "  }\n",
    "\n",
    "  if(outlier_rm == FALSE){\n",
    "\n",
    "      stats_to_append <- rep(\"outliers_not_removed\", 3)\n",
    "      names(stats_to_append) <- c(\"n_outliers\", \"pval_SW_sans_outliers\", \"PearsonCC_sans_outliers\")\n",
    "\n",
    "      trait_path <- gsub(\"\\\\.noheader\", \"_keepoutliers_boxcox\\\\.noheader\", trait_path)\n",
    "\n",
    "      subtitle_pt4 <- \"\\nOutliers not removed\"\n",
    "  }\n",
    "    \n",
    "  subtitle_pt2 <- paste0(subtitle_pt2, subtitle_pt3, subtitle_pt4)\n",
    "    \n",
    "  stats <- c(stats, stats_to_append)\n",
    "    \n",
    "  return(list(\"this_file_in\" = this_file_in,\n",
    "              \"out_path\" = trait_path,\n",
    "              \"subtitle_pt2\" = subtitle_pt2,\n",
    "              \"stats_to_append\" = stats))\n",
    "}"
   ]
  },
  {
   "cell_type": "markdown",
   "metadata": {},
   "source": [
    "#### Function with complete workflow encompassing pre-treatments and Box-Cox transformation"
   ]
  },
  {
   "cell_type": "code",
   "execution_count": null,
   "metadata": {},
   "outputs": [],
   "source": [
    "transform_trait <- function(phenotype_file_path, duplicate_rm, outlier_rm,\n",
    "                            threshold, transformation = \"boxcox\"){\n",
    "  print(paste(\"Reading file\", basename(phenotype_file_path)))\n",
    "  this_file_in <- fread(phenotype_file_path, header=FALSE)\n",
    "    \n",
    "  plot_path <- gsub(\"pheno_files\", \"pheno_plots\", phenotype_file_path)\n",
    "    \n",
    "  out <- preprocess_trait(this_file_in = this_file_in,\n",
    "                          threshold = threshold,\n",
    "                          duplicate_rm = duplicate_rm,\n",
    "                          outlier_rm = outlier_rm,\n",
    "                          trait_path = phenotype_file_path)\n",
    "  this_file_in <- out$this_file_in\n",
    "  out_path <- out$out_path\n",
    "  subtitle_pt2 <- out$subtitle_pt2\n",
    "  my_stats <- out$stats_to_append\n",
    "    \n",
    "  phenotype_name <- basename(tools::file_path_sans_ext(tools::file_path_sans_ext(out_path)))\n",
    "  plot_path <- gsub(\".noheader.pheno\", \".png\", out_path)\n",
    "    \n",
    "  title <- basename(file_path_sans_ext(phenotype_file_path))\n",
    "  title <- gsub(\".noheader\", \"\", title)\n",
    "  title <- gsub(\"trans\", \"\", title)\n",
    "  title <- paste(\"Phenotype file:\", title, \"\\n\",\n",
    "                 \"Number of genotypes: \", my_stats[\"n_non_NA\"], \"\\n\",\n",
    "                 \"Number of genotypes with trait value > 0: \", my_stats[\"n_gt_0\"])\n",
    "  \n",
    "  pearson_cc_pre_boxcox <- find_pearson_cc(this_file_in)\n",
    "    \n",
    "  subtitle <- paste(\"Without transformation\",\n",
    "                    subtitle_pt2,\n",
    "                    \"\\nPearson CC: \",\n",
    "                    round(pearson_cc_pre_boxcox, digits=3))\n",
    "\n",
    "  combo_plot_1 <- plot_histogram_qq(this_file_in = this_file_in,\n",
    "                                    subtitle = subtitle)\n",
    "\n",
    "  if(transformation == \"boxcox\"){\n",
    "    out <- boxcox(this_file_in = this_file_in,\n",
    "            phenotype_file_path = phenotype_file_path,\n",
    "            exclude_negative_if = \"growth\")\n",
    "    this_file_in <- out$this_file_in\n",
    "    lambda <- out$lambda\n",
    "    alpha <- out$alpha\n",
    "  }\n",
    "  if(transformation == \"rbinv\"){\n",
    "      out_path <- gsub(\"boxcox\", \"rbinv\", out_path)\n",
    "      \n",
    "      # Since we need to exclude observations with missing measurements\n",
    "      #   let's keep track of which ones are missing\n",
    "      this_file_in_no_missing <- na.omit(this_file_in)\n",
    "      \n",
    "      this_file_in_no_missing$V3 <-\n",
    "      RNOmni::RankNorm(this_file_in_no_missing$V3)\n",
    "      \n",
    "      this_file_in <- merge(this_file_in[,1:2],\n",
    "                            this_file_in_no_missing,\n",
    "                            by = c(\"V1\", \"V2\"),\n",
    "                            all.x = TRUE)\n",
    "      \n",
    "      lambda <- \"no_box_cox\"\n",
    "      alpha <- \"no_box_cox\"\n",
    "  }\n",
    "    \n",
    "  pSW_boxcox <- shapiro.test(this_file_in$V3)$p.value\n",
    "    \n",
    "  #Write out before omitting NAs so we keep all genotypes, in desired order.\n",
    "  fwrite(this_file_in, out_path, col.names = FALSE, row.names = FALSE, sep=\"\\t\", quote = FALSE, na=\"NA\")\n",
    "\n",
    "  # Write version with header\n",
    "  out_path_wheader <- gsub(\"noheader\", \"header\", out_path)\n",
    "  fwrite(this_file_in, out_path_wheader, col.names = TRUE, row.names = FALSE, sep=\"\\t\", quote = FALSE, na=\"NA\")\n",
    "\n",
    "  plot_path <- gsub(\".header.pheno\", \".png\", out_path_wheader)\n",
    "  plot_path <- gsub(\"pheno_files\", \"pheno_plots\", plot_path)\n",
    "  \n",
    "  this_file_in <- na.omit(this_file_in) # Remove NAs before Box-Cox transformation so it works\n",
    "\n",
    "  pearson_cc_post_boxcox <- find_pearson_cc(this_file_in)\n",
    "  #print(paste(\"PCC: \", pearson_cc_post_boxcox))\n",
    "    \n",
    "    \n",
    "  if(transformation == \"boxcox\"){\n",
    "    subtitle <- paste0(\"After Box-Cox transformation \\n\",\n",
    "                \"(\\u03BB = \", lambda, \"; \\u03B1 = \", alpha, \")\\n\",\n",
    "                \"Pearson CC: \", round(pearson_cc_post_boxcox, digits = 3))\n",
    "  }\n",
    "  if(transformation == \"rbinv\"){\n",
    "    subtitle <- paste0(\"After rank-based inverse normal transformation\\n\",\n",
    "                 \"Pearson CC: \", round(pearson_cc_post_boxcox, digits = 3))\n",
    "  }\n",
    "    \n",
    "  combo_plot_2 <- plot_histogram_qq(this_file_in = this_file_in,\n",
    "                                    subtitle = subtitle)\n",
    "    \n",
    "  combo_plot_all <- ggarrange(combo_plot_1, combo_plot_2, nrow = 2)\n",
    "  combo_plot_all <- annotate_figure(combo_plot_all, top = text_grob(title, face = \"bold\"))\n",
    "  plot(combo_plot_all)\n",
    "\n",
    "  ggsave(plot_path, combo_plot_all)\n",
    "    \n",
    "  stats_to_append <- c(pearson_cc_pre_boxcox, pearson_cc_post_boxcox,\n",
    "                       pSW_boxcox,  lambda, alpha,\n",
    "                       #phenotype_name,\n",
    "                       out_path, plot_path)\n",
    "  names(stats_to_append) <- c(\"PearsonCC_before_transform\", \"PearsonCC_after_transform\",\n",
    "                              \"pSW_transformed\", \"lambda\", \"alpha\",\n",
    "                              #\"phenotype_name\",\n",
    "                              \"out_sansheader\", \"plot\")\n",
    "  my_stats <- c(my_stats, stats_to_append)  \n",
    "    \n",
    "  return(my_stats)\n",
    "}"
   ]
  },
  {
   "cell_type": "markdown",
   "metadata": {},
   "source": [
    "## Run data"
   ]
  },
  {
   "cell_type": "markdown",
   "metadata": {},
   "source": [
    "### Run all traits first without dropping duplicates or removing outliers"
   ]
  },
  {
   "cell_type": "code",
   "execution_count": null,
   "metadata": {},
   "outputs": [],
   "source": [
    "stat_table <- foreach(file=files_in, .combine=rbind)%do%{\n",
    "#for(file in files_in){\n",
    "    my_stats <- transform_trait(file, duplicate_rm = FALSE, outlier_rm = FALSE, threshold = FALSE)\n",
    "    my_stats\n",
    "}"
   ]
  },
  {
   "cell_type": "markdown",
   "metadata": {
    "heading_collapsed": "true"
   },
   "source": [
    "### Run all PC traits, while removing duplicates "
   ]
  },
  {
   "cell_type": "code",
   "execution_count": null,
   "metadata": {},
   "outputs": [],
   "source": [
    "stat_table2 <- foreach(file=files_in_PC_only, .combine=rbind)%do%{\n",
    "#for(file in files_in_PC_only){\n",
    "    my_stats <- transform_trait(file, duplicate_rm = TRUE, outlier_rm = FALSE, threshold = FALSE)\n",
    "    my_stats\n",
    "}"
   ]
  },
  {
   "cell_type": "markdown",
   "metadata": {
    "heading_collapsed": "true"
   },
   "source": [
    "### Run all PC traits, while removing duplicates and outliers"
   ]
  },
  {
   "cell_type": "code",
   "execution_count": null,
   "metadata": {},
   "outputs": [],
   "source": [
    "stat_table3 <- foreach(file=files_in_PC_only, .combine=rbind)%do%{\n",
    "#for(file in files_in_PC_only){\n",
    "    my_stats <- transform_trait(file, duplicate_rm = TRUE, outlier_rm = TRUE, threshold = FALSE)\n",
    "    my_stats\n",
    "}"
   ]
  },
  {
   "cell_type": "code",
   "execution_count": null,
   "metadata": {},
   "outputs": [],
   "source": [
    "getwd()"
   ]
  },
  {
   "cell_type": "code",
   "execution_count": null,
   "metadata": {},
   "outputs": [],
   "source": [
    "#dir.create(\"spreadsheets\")"
   ]
  },
  {
   "cell_type": "markdown",
   "metadata": {
    "heading_collapsed": "true"
   },
   "source": [
    "### Run all traits while removing duplicates"
   ]
  },
  {
   "cell_type": "code",
   "execution_count": null,
   "metadata": {},
   "outputs": [],
   "source": [
    "stat_table4 <- foreach(file=files_in, .combine=rbind)%do%{\n",
    "#for(file in files_in_PC_only){\n",
    "    my_stats <- transform_trait(file, duplicate_rm = TRUE, outlier_rm = FALSE, threshold = FALSE)\n",
    "    my_stats\n",
    "}"
   ]
  },
  {
   "cell_type": "markdown",
   "metadata": {
    "heading_collapsed": "true"
   },
   "source": [
    "### Run all traits while removing duplicates and outliers"
   ]
  },
  {
   "cell_type": "code",
   "execution_count": null,
   "metadata": {},
   "outputs": [],
   "source": [
    "stat_table5 <- foreach(file=files_in, .combine=rbind)%do%{\n",
    "#for(file in files_in_PC_only){\n",
    "    my_stats <- transform_trait(file, duplicate_rm = TRUE, outlier_rm = TRUE, threshold = FALSE)\n",
    "    my_stats\n",
    "}"
   ]
  },
  {
   "cell_type": "markdown",
   "metadata": {},
   "source": [
    "### Threshold at position where derivative of density curve is maximum"
   ]
  },
  {
   "cell_type": "markdown",
   "metadata": {},
   "source": [
    "#### Functionalize"
   ]
  },
  {
   "cell_type": "markdown",
   "metadata": {},
   "source": [
    "#### Build list of files we wish to employ the threshold approach for"
   ]
  },
  {
   "cell_type": "code",
   "execution_count": null,
   "metadata": {},
   "outputs": [],
   "source": [
    "to_threshold <- c(\"pheno_files/root/LRL_PC2.noheader.pheno\",\n",
    "                  \"pheno_files/root/root_area_PC2.noheader.pheno\",\n",
    "                  \"pheno_files/stem_regen/CallusShoot_PC2.noheader.pheno\",\n",
    "                  \"pheno_files/stem_regen/Shoot_PC2.noheader.pheno\",\n",
    "                  \"pheno_files/stem_regen/Shoot_PC3.noheader.pheno\",\n",
    "                  \"pheno_files/stem_regen/Shoot_PC4.noheader.pheno\")"
   ]
  },
  {
   "cell_type": "code",
   "execution_count": null,
   "metadata": {},
   "outputs": [],
   "source": [
    "stat_table6 <- foreach(file=to_threshold, .combine=rbind)%do%{\n",
    "#for(file in to_threshold){\n",
    "    my_stats <- transform_trait(file, duplicate_rm = TRUE, outlier_rm = TRUE, threshold = TRUE)\n",
    "    my_stats\n",
    "}"
   ]
  },
  {
   "cell_type": "markdown",
   "metadata": {},
   "source": [
    "### Try running everything through rank-based inverse normal transformation"
   ]
  },
  {
   "cell_type": "code",
   "execution_count": null,
   "metadata": {},
   "outputs": [],
   "source": [
    "library(RNOmni)"
   ]
  },
  {
   "cell_type": "code",
   "execution_count": null,
   "metadata": {},
   "outputs": [],
   "source": [
    "stat_table7 <- foreach(file=files_in, .combine=rbind)%do%{\n",
    "#for(file in files_in){\n",
    "    my_stats <- transform_trait(file, duplicate_rm = TRUE,\n",
    "                                outlier_rm = FALSE, threshold = FALSE,\n",
    "                                transformation = \"rbinv\")\n",
    "    my_stats\n",
    "}"
   ]
  },
  {
   "cell_type": "code",
   "execution_count": null,
   "metadata": {},
   "outputs": [],
   "source": [
    "head(stat_table7)"
   ]
  },
  {
   "cell_type": "markdown",
   "metadata": {},
   "source": [
    "### Save spreadsheets of results"
   ]
  },
  {
   "cell_type": "code",
   "execution_count": null,
   "metadata": {},
   "outputs": [],
   "source": [
    "fwrite(stat_table, \"spreadsheets/all_traits_no_preprocessing_just_boxcox.csv\")\n",
    "fwrite(stat_table2, \"spreadsheets/PC_traits_remove_duplicates_before_boxcox.csv\")\n",
    "fwrite(stat_table3, \"spreadsheets/PC_traits_remove_duplicates_outliers_before_boxcox.csv\")\n",
    "fwrite(stat_table4, \"spreadsheets/all_traits_remove_duplicates_before_boxcox.csv\")\n",
    "fwrite(stat_table5, \"spreadsheets/all_traits_remove_duplicates_outliers_before_boxcox.csv\")\n",
    "fwrite(stat_table6, \"spreadsheets/select_traits_remove_duplicates_outliers_then_thresdhold_before_boxcox.csv\")\n",
    "fwrite(stat_table7, \"spreadsheets/all_traits_remove_duplicates_before_rbinv.csv\")"
   ]
  },
  {
   "cell_type": "code",
   "execution_count": null,
   "metadata": {},
   "outputs": [],
   "source": []
  }
 ],
 "metadata": {
  "kernelspec": {
   "display_name": "R",
   "language": "R",
   "name": "ir"
  },
  "language_info": {
   "codemirror_mode": "r",
   "file_extension": ".r",
   "mimetype": "text/x-r-source",
   "name": "R",
   "pygments_lexer": "r",
   "version": "4.1.3"
  },
  "toc-autonumbering": true
 },
 "nbformat": 4,
 "nbformat_minor": 4
}
