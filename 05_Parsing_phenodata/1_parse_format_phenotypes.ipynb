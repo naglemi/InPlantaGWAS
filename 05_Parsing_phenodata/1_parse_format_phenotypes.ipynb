{
 "cells": [
  {
   "cell_type": "markdown",
   "metadata": {},
   "source": [
    "# Parse phenotype data for stem regeneration GWAS"
   ]
  },
  {
   "cell_type": "markdown",
   "metadata": {},
   "source": [
    "In this workbook, we parse out machine vision phenotypes and the diameter covariate (measured manually)"
   ]
  },
  {
   "cell_type": "code",
   "execution_count": null,
   "metadata": {},
   "outputs": [],
   "source": [
    "# install.packages(\"readxl\")"
   ]
  },
  {
   "cell_type": "code",
   "execution_count": null,
   "metadata": {},
   "outputs": [],
   "source": [
    "library(readxl)\n",
    "library(data.table)"
   ]
  },
  {
   "cell_type": "markdown",
   "metadata": {},
   "source": [
    "## Read and inspect phenotype data"
   ]
  },
  {
   "cell_type": "markdown",
   "metadata": {},
   "source": [
    "### Read data into a master data frame"
   ]
  },
  {
   "cell_type": "markdown",
   "metadata": {},
   "source": [
    "Data is in many files, one for each phase x timepoint combination. We will combined them all into a master dataframe."
   ]
  },
  {
   "cell_type": "code",
   "execution_count": null,
   "metadata": {},
   "outputs": [],
   "source": [
    "files <- list.files(\"/mnt/data/NSF_GWAS/phenodata/final_training/\", full.names=TRUE, pattern=\".xlsx\")"
   ]
  },
  {
   "cell_type": "code",
   "execution_count": null,
   "metadata": {},
   "outputs": [],
   "source": [
    "files_combined <- read_excel(files[1])"
   ]
  },
  {
   "cell_type": "code",
   "execution_count": null,
   "metadata": {},
   "outputs": [],
   "source": [
    "for(file in files[2:length(files)]){\n",
    "    file_in <- read_excel(file)\n",
    "    files_combined <- rbind(files_combined, file_in)\n",
    "}"
   ]
  },
  {
   "cell_type": "markdown",
   "metadata": {},
   "source": [
    "<div class=\"alert alert-block alert-info\"> Now observe the data for stem regeneration. There should be six columns – one for row ID, one for Folder_name, one for file_name, one for each of 3 tissues </div> "
   ]
  },
  {
   "cell_type": "markdown",
   "metadata": {},
   "source": [
    "### Inspect phenotype data data frame"
   ]
  },
  {
   "cell_type": "code",
   "execution_count": null,
   "metadata": {},
   "outputs": [],
   "source": [
    "head(files_combined)"
   ]
  },
  {
   "cell_type": "code",
   "execution_count": null,
   "metadata": {},
   "outputs": [],
   "source": [
    "nrow(files_combined)"
   ]
  },
  {
   "cell_type": "code",
   "execution_count": null,
   "metadata": {},
   "outputs": [],
   "source": [
    "# levels(factor(files_combined$Folder_name))"
   ]
  },
  {
   "cell_type": "markdown",
   "metadata": {},
   "source": [
    "Notes from observing data: \n",
    "<div class=\"alert alert-block alert-info\"> 1. Phase 4 timepoint 2 has two underscores between genotypes and TDZ concentration<br>2. Later timepoints have a '_' delimited number that is not relevant<br>3. Genotypes sometimes have _ instead of -<br>4. Genotype numbers sometimes have .0 at end </div>\n"
   ]
  },
  {
   "cell_type": "markdown",
   "metadata": {},
   "source": [
    "## Parse and clean phenotype data"
   ]
  },
  {
   "cell_type": "markdown",
   "metadata": {},
   "source": [
    "### Load functions and libraries needed for parsing"
   ]
  },
  {
   "cell_type": "markdown",
   "metadata": {},
   "source": [
    "stringr needed for all kinds of parsing"
   ]
  },
  {
   "cell_type": "code",
   "execution_count": null,
   "metadata": {},
   "outputs": [],
   "source": [
    "library(stringr)"
   ]
  },
  {
   "cell_type": "markdown",
   "metadata": {},
   "source": [
    "Define the inverse of the %in% operator, to enable writing of clean and easy parsing code."
   ]
  },
  {
   "cell_type": "code",
   "execution_count": null,
   "metadata": {},
   "outputs": [],
   "source": [
    "'%ni%' <- Negate('%in%')"
   ]
  },
  {
   "cell_type": "markdown",
   "metadata": {},
   "source": [
    "<div class=\"alert alert-block alert-info\"> Parse out TDZ concentration into a column, and then split out the filenames to prepare for parsing the genotype IDs from them. </div> "
   ]
  },
  {
   "cell_type": "markdown",
   "metadata": {},
   "source": [
    "### Parse [TDZ] from file path"
   ]
  },
  {
   "cell_type": "code",
   "execution_count": null,
   "metadata": {},
   "outputs": [],
   "source": [
    "files_combined$TDZ <- str_split_fixed(files_combined$file_name, \"_\", 4)[,3]"
   ]
  },
  {
   "cell_type": "code",
   "execution_count": null,
   "metadata": {},
   "outputs": [],
   "source": [
    "# genotype_split <- str_split_fixed(files_combined$file_name, \"_\", 4)[,1:2] # We don't do this here because we need to parse names differently for different phases"
   ]
  },
  {
   "cell_type": "markdown",
   "metadata": {},
   "source": [
    "### Parse genotype from file path"
   ]
  },
  {
   "cell_type": "markdown",
   "metadata": {},
   "source": [
    "#### Split according to subsets that are formatted differently"
   ]
  },
  {
   "cell_type": "markdown",
   "metadata": {},
   "source": [
    "This is a first step to making formatting consistent."
   ]
  },
  {
   "cell_type": "markdown",
   "metadata": {},
   "source": [
    "Split data into three parts, for pre-4.2, 4.2 and post-4.2 (because of the inconsitency described in section 1.1)"
   ]
  },
  {
   "cell_type": "markdown",
   "metadata": {},
   "source": [
    "##### Clean up the Phase ID variable so that we can split by it"
   ]
  },
  {
   "cell_type": "code",
   "execution_count": null,
   "metadata": {},
   "outputs": [],
   "source": [
    "files_combined$Folder_name <- gsub(\"GWAS_Phase\", \"\", files_combined$Folder_name)\n",
    "colnames(files_combined)[2] <- \"Phase\"\n",
    "files_combined$Phase <- as.numeric(as.character(files_combined$Phase))"
   ]
  },
  {
   "cell_type": "markdown",
   "metadata": {},
   "source": [
    "Observe the resulting data file with cleaned Phase IDs, and look at a list of unique Phase IDs that exist."
   ]
  },
  {
   "cell_type": "code",
   "execution_count": null,
   "metadata": {},
   "outputs": [],
   "source": [
    "head(files_combined)\n",
    "levels(factor(files_combined$Phase))"
   ]
  },
  {
   "cell_type": "markdown",
   "metadata": {},
   "source": [
    "Note on Phase ID: As stored currently, the two numbers delimited by '.' represent the Phase ID and the week timepoint. This will later be split to keep Phase ID in the desired column while creating a new column for timepoint."
   ]
  },
  {
   "cell_type": "markdown",
   "metadata": {},
   "source": [
    "##### Split the data into: before phase 4.2, phase 4.2 and after phase 4.2"
   ]
  },
  {
   "cell_type": "code",
   "execution_count": null,
   "metadata": {},
   "outputs": [],
   "source": [
    "data_pre4.2 <- files_combined[which(files_combined$Phase < 4.2),]\n",
    "data_4.2 <- files_combined[which(files_combined$Phase == 4.2),]\n",
    "data_post4.2 <- files_combined[which(files_combined$Phase > 4.2),]"
   ]
  },
  {
   "cell_type": "markdown",
   "metadata": {},
   "source": [
    "##### Observe the result. Does it make sense?"
   ]
  },
  {
   "cell_type": "markdown",
   "metadata": {},
   "source": [
    "How many samples (each corresponding to an image) are there in each subset?"
   ]
  },
  {
   "cell_type": "code",
   "execution_count": null,
   "metadata": {},
   "outputs": [],
   "source": [
    "nrow(data_pre4.2)\n",
    "nrow(data_4.2)\n",
    "nrow(data_post4.2)"
   ]
  },
  {
   "cell_type": "markdown",
   "metadata": {},
   "source": [
    "Look at each phase independently"
   ]
  },
  {
   "cell_type": "code",
   "execution_count": null,
   "metadata": {},
   "outputs": [],
   "source": [
    "for(phase in levels(factor(files_combined$Phase))){\n",
    "    print(head(files_combined[which(files_combined$Phase == phase),], n=1))\n",
    "}"
   ]
  },
  {
   "cell_type": "markdown",
   "metadata": {},
   "source": [
    "#### Parse out genotype IDs"
   ]
  },
  {
   "cell_type": "markdown",
   "metadata": {},
   "source": [
    "Since filenames are formatted slightly differently in the three phase subsets (describe above), the genotype IDs contained in filenames must be parsed out independently for each group. We will recombine them afterward."
   ]
  },
  {
   "cell_type": "markdown",
   "metadata": {},
   "source": [
    "##### First for data before Phase 4 timepoint 2"
   ]
  },
  {
   "cell_type": "code",
   "execution_count": null,
   "metadata": {},
   "outputs": [],
   "source": [
    "genotype_split <- str_split_fixed(data_pre4.2$file_name, '_', 3)[,1:2]"
   ]
  },
  {
   "cell_type": "code",
   "execution_count": null,
   "metadata": {},
   "outputs": [],
   "source": [
    "data_pre4.2$Genotype <- paste0(genotype_split[,1], \"-\", genotype_split[,2])"
   ]
  },
  {
   "cell_type": "markdown",
   "metadata": {},
   "source": [
    "Skim the resulting genotype IDs and make sure nothing looks out of place."
   ]
  },
  {
   "cell_type": "code",
   "execution_count": null,
   "metadata": {},
   "outputs": [],
   "source": [
    "# levels(factor(data_pre4.2$Genotype))"
   ]
  },
  {
   "cell_type": "markdown",
   "metadata": {},
   "source": [
    "Take a look at the genotype_split table. This sholud have two columns, one for each part of the genotype ID previously separated by a delimiter."
   ]
  },
  {
   "cell_type": "code",
   "execution_count": null,
   "metadata": {},
   "outputs": [],
   "source": [
    "head(genotype_split)"
   ]
  },
  {
   "cell_type": "markdown",
   "metadata": {},
   "source": [
    "##### Now for data in Phase 4 timepoint 2"
   ]
  },
  {
   "cell_type": "code",
   "execution_count": null,
   "metadata": {},
   "outputs": [],
   "source": [
    "data_4.2$Genotype <- str_split_fixed(data_4.2$file_name, '_', 3)[,1]"
   ]
  },
  {
   "cell_type": "markdown",
   "metadata": {},
   "source": [
    "Again, skim the resulting genotype IDs and make sure nothing looks out of place."
   ]
  },
  {
   "cell_type": "code",
   "execution_count": null,
   "metadata": {},
   "outputs": [],
   "source": [
    "# levels(factor(data_4.2$Genotype))"
   ]
  },
  {
   "cell_type": "markdown",
   "metadata": {},
   "source": [
    "##### ...and data after Phase 4 timepoint 2"
   ]
  },
  {
   "cell_type": "code",
   "execution_count": null,
   "metadata": {},
   "outputs": [],
   "source": [
    "data_post4.2$Genotype <- str_split_fixed(data_post4.2$file_name, '_', 3)[,1]"
   ]
  },
  {
   "cell_type": "markdown",
   "metadata": {},
   "source": [
    "Once again, skim the resulting genotype IDs and make sure nothing looks out of place."
   ]
  },
  {
   "cell_type": "code",
   "execution_count": null,
   "metadata": {},
   "outputs": [],
   "source": [
    "# levels(factor(data_post4.2$Genotype))"
   ]
  },
  {
   "cell_type": "markdown",
   "metadata": {},
   "source": [
    "### Recombine and fix inconsistencies"
   ]
  },
  {
   "cell_type": "markdown",
   "metadata": {},
   "source": [
    "#### Recombine and examine result"
   ]
  },
  {
   "cell_type": "code",
   "execution_count": null,
   "metadata": {},
   "outputs": [],
   "source": [
    "data_combined <- rbind(data_pre4.2, data_4.2, data_post4.2)"
   ]
  },
  {
   "cell_type": "code",
   "execution_count": null,
   "metadata": {},
   "outputs": [],
   "source": [
    "head(data_combined)"
   ]
  },
  {
   "cell_type": "markdown",
   "metadata": {},
   "source": [
    "#### Deal with the .0 added to the end of some genotype IDs"
   ]
  },
  {
   "cell_type": "markdown",
   "metadata": {},
   "source": [
    "This is the presumably an artifact of data entry in Excel with the genotype ID as a numeric column."
   ]
  },
  {
   "cell_type": "code",
   "execution_count": null,
   "metadata": {},
   "outputs": [],
   "source": [
    "data_combined$Genotype <- gsub(\" \", \"\", data_combined$Genotype)\n",
    "data_combined$Genotype <- gsub(\"\\\\.0\", \"\", data_combined$Genotype)"
   ]
  },
  {
   "cell_type": "markdown",
   "metadata": {},
   "source": [
    "#### Cross-reference genotype IDs with the master inventory\n",
    "Here, we aim to resolve cases in which a genotype was listed as studied but we do not have image data for (or vice versa). In some cases, this is due to a naming inconsistency, typing error, etc. We will use this information to correct any inconsistencies in filenames."
   ]
  },
  {
   "cell_type": "code",
   "execution_count": null,
   "metadata": {},
   "outputs": [],
   "source": [
    "master_inventory <- fread(\"master_inventory.csv\")"
   ]
  },
  {
   "cell_type": "markdown",
   "metadata": {},
   "source": [
    "<div class=\"alert alert-block alert-warning\"> Need to check these two lists, look at them alongside one another alphabetically and identify any cases where a genotype's ID is formatted in two ways. (e.g.  'SLMD-28-03' vs  'SLMD-28-3)' </div>"
   ]
  },
  {
   "cell_type": "markdown",
   "metadata": {},
   "source": [
    "##### What genotypes are in the master inventory but were not studied?"
   ]
  },
  {
   "cell_type": "code",
   "execution_count": null,
   "metadata": {},
   "outputs": [],
   "source": [
    "length(setdiff(master_inventory$`ALL GENOTYPES`,\n",
    "       levels(factor(data_combined$Genotype))))"
   ]
  },
  {
   "cell_type": "code",
   "execution_count": null,
   "metadata": {},
   "outputs": [],
   "source": [
    "setdiff(master_inventory$`ALL GENOTYPES`,\n",
    "       levels(factor(data_combined$Genotype)))"
   ]
  },
  {
   "cell_type": "markdown",
   "metadata": {},
   "source": [
    "##### What genotypes are in the phenotype data but not the master inventory?"
   ]
  },
  {
   "cell_type": "code",
   "execution_count": null,
   "metadata": {},
   "outputs": [],
   "source": [
    "mystery_genotypes <- setdiff(levels(factor(data_combined$Genotype)),\n",
    "                             master_inventory$`ALL GENOTYPES`)"
   ]
  },
  {
   "cell_type": "code",
   "execution_count": null,
   "metadata": {},
   "outputs": [],
   "source": [
    "mystery_genotypes # First just looking at IDs of mystery genotypes themseslves"
   ]
  },
  {
   "cell_type": "code",
   "execution_count": null,
   "metadata": {},
   "outputs": [],
   "source": [
    "data_combined[which(data_combined$Genotype %in% mystery_genotypes),] # Now looking at all the data for all the mystery genotypes"
   ]
  },
  {
   "cell_type": "code",
   "execution_count": null,
   "metadata": {},
   "outputs": [],
   "source": [
    "if (!dir.exists(\"stem_regen_parsing_midway\")) dir.create(\"stem_regen_parsing_midway\")"
   ]
  },
  {
   "cell_type": "code",
   "execution_count": null,
   "metadata": {},
   "outputs": [],
   "source": [
    "fwrite(data_combined[which(data_combined$Genotype %in% mystery_genotypes),],\n",
    "       \"stem_regen_parsing_midway/mystery_genotypes_with_data.csv\")"
   ]
  },
  {
   "cell_type": "markdown",
   "metadata": {},
   "source": [
    "<div class=\"alert alert-block alert-danger\">\n",
    "Note: There is an extra \"0\" at end of genotypes in Phase 3, timepoint wk1. Timepoint wk1 data is not used in our analysis. This error will not be corrected since the data is not being analyzed.\n",
    "\n",
    "The other errors are corrected below.\n",
    "</div>"
   ]
  },
  {
   "cell_type": "markdown",
   "metadata": {},
   "source": [
    "##### Correct some inconsistencies"
   ]
  },
  {
   "cell_type": "code",
   "execution_count": null,
   "metadata": {},
   "outputs": [],
   "source": [
    "data_combined <- data_combined[-which(data_combined$Phase == \"3.1\"), ]"
   ]
  },
  {
   "cell_type": "code",
   "execution_count": null,
   "metadata": {},
   "outputs": [],
   "source": [
    "data_combined$Genotype <- gsub(\"BLGC\", \"BLCG\", data_combined$Genotype)\n",
    "data_combined$Genotype <- gsub(\"BLCG-20\", \"BLCG-28\", data_combined$Genotype)\n",
    "data_combined$Genotype <- gsub(\"SKWF-24-2\", \"SKWE-24-2\", data_combined$Genotype)\n",
    "data_combined$Genotype <- gsub(\"SLMD-28-03\", \"SLMD-28-3\", data_combined$Genotype)\n",
    "data_combined$Genotype <- gsub(\"BESC _331\",  \"BESC_331\", \n",
    "                                                  data_combined$Genotype)\n",
    "\n",
    "data_combined$Genotype <- gsub(\"GW _\",  \"GW_\", \n",
    "                                                  data_combined$Genotype)"
   ]
  },
  {
   "cell_type": "markdown",
   "metadata": {},
   "source": [
    "#### Cross-referencing genotype IDs with ORNL-provided ID list.\n",
    "The ORNL-provided genotype list contains a list of genotypes in the SNP set.\n",
    "We will cross-referencce with this as another way of verifying genotype IDs."
   ]
  },
  {
   "cell_type": "markdown",
   "metadata": {},
   "source": [
    "First let's read in that list of IDs for genotypes in the SNP data."
   ]
  },
  {
   "cell_type": "markdown",
   "metadata": {},
   "source": [
    "<div class=\"alert alert-block alert-info\">Use choice of ID lists for desired SNP set</div>"
   ]
  },
  {
   "cell_type": "code",
   "execution_count": null,
   "metadata": {},
   "outputs": [],
   "source": [
    "# id_order <- fread(\"/scratch2/NSF_GWAS/Scripts/format_pheno_EMMAX/id_list_NewpubSNPs.txt\") # 882-genotype SNP set\n",
    "\n",
    "id_order <- fread(\"id_list_1323geno.txt\") # 1323-genotype SNP sest"
   ]
  },
  {
   "cell_type": "markdown",
   "metadata": {},
   "source": [
    "A little formatting of the id list file"
   ]
  },
  {
   "cell_type": "code",
   "execution_count": null,
   "metadata": {},
   "outputs": [],
   "source": [
    "id_order <- colnames(id_order)[-(1:9)]"
   ]
  },
  {
   "cell_type": "markdown",
   "metadata": {},
   "source": [
    "##### Match names to dictionary"
   ]
  },
  {
   "cell_type": "markdown",
   "metadata": {},
   "source": [
    "<div class=\"alert alert-block alert-info\">Only if using 882-genotype SNP set that requires dictionary due to genotypes being coded as FID_IID instead of genotype ID as in 1323-genotype SNP set...\n",
    "Read in the dictionary, which we need to translate the FID_IID codes in the SNP metadata to the genotype IDs found in our phenotype data. We need this to match them up to each other.\n",
    "For which genotypes do we have phenotype data but are not in dictionary? Vice versa?</div> "
   ]
  },
  {
   "cell_type": "code",
   "execution_count": null,
   "metadata": {},
   "outputs": [],
   "source": [
    "#dictionary <- fread(\"/scratch2/NSF_GWAS/Scripts/format_pheno_EMMAX/uc_id_to_names.txt\")\n",
    "#colnames(dictionary) <- c(\"IID\", \"Name\", \"ID\")\n",
    "\n",
    "#length(setdiff(data_combined$Genotype, dictionary$Name)) # Genotypes in phenodata but not dict\n",
    "#length(setdiff(dictionary$Name, data_combined$Genotype)) # Genotypes in dictionary but not phenotype data\n",
    "\n",
    "#setdiff(dictionary$Name, data_combined$Genotype) # Genotypes in dictionary but not phenotype data\n",
    "\n",
    "#dictionary_gotSNPs <- dictionary[which(dictionary$ID %in% id_order),] # Subset dictionary to genotypes which we have SNP data for\n",
    "\n",
    "#setdiff(data_combined$Genotype, dictionary_gotSNPs$Name)\n",
    "#length(setdiff(data_combined$Genotype, dictionary_gotSNPs$Name)) # Genotypes for which we have phenotype data but no genotype data (in the selected SNP set)\n",
    "\n",
    "### Where are these 7 genotypes? Need to export and take a closer look in Excel.\n",
    "\n",
    "#data_combined$found_in <- rep(NA, nrow(data_combined))\n",
    "\n",
    "#data_combined$found_in[which(data_combined$Genotype %in% dictionary$Name)] <- \"in_dictionary\"\n",
    "#data_combined$found_in[which(data_combined$Genotype %in% dictionary_882$Name)] <- \"in_dictionary_and_population\"\n",
    "\n",
    "#fwrite(data_combined, \"/scratch2/NSF_GWAS/phenodata/final_training/partially_parsed_phenodata.csv\")\n",
    "\n",
    "##### After checking data in Excel, by ctrl-F for specific genotype prefixes among those above 8, see there is NOTHING mislabeled that should be one of these. Good."
   ]
  },
  {
   "cell_type": "markdown",
   "metadata": {},
   "source": [
    "<div class=\"alert alert-block alert-info\">Only if using 882-genotype SNP set....</div> "
   ]
  },
  {
   "cell_type": "markdown",
   "metadata": {},
   "source": [
    "<div class=\"alert alert-block alert-info\">If using 882-genotype SNP set, use this version of code that merges by dictionary because of genotypes being listed by FID_IID. Otherwise, we want to simply merge all genotype ids using the got_genos variable farther down..</div> "
   ]
  },
  {
   "cell_type": "code",
   "execution_count": null,
   "metadata": {},
   "outputs": [],
   "source": [
    "# phenos_w_names_IDs <- merge(data_combined, dictionary, by.x = \"Genotype\", by.y = \"Name\", all.x = FALSE, all.y = TRUE)\n",
    "# phenos_w_names_IDs <- merge(as.data.table(id_order), phenos_w_names_IDs, by.x = \"id_order\", by.y = \"ID\", all.x = TRUE, all.y = FALSE)"
   ]
  },
  {
   "cell_type": "markdown",
   "metadata": {},
   "source": [
    "Otherwise, we will sort the phenos_w_names_IDs by the vector of ordered IDs"
   ]
  },
  {
   "cell_type": "markdown",
   "metadata": {},
   "source": [
    "##### Perform cross-referencing"
   ]
  },
  {
   "cell_type": "code",
   "execution_count": null,
   "metadata": {},
   "outputs": [],
   "source": [
    "length(levels(factor(data_combined$Genotype))) # total N genotypes in our phenotype dataset"
   ]
  },
  {
   "cell_type": "code",
   "execution_count": null,
   "metadata": {},
   "outputs": [],
   "source": [
    "got_pheno <- levels(factor(data_combined$Genotype))"
   ]
  },
  {
   "cell_type": "code",
   "execution_count": null,
   "metadata": {},
   "outputs": [],
   "source": [
    "length(setdiff(data_combined$Genotype, id_order)) # Genotypes in phenodata but not dict"
   ]
  },
  {
   "cell_type": "code",
   "execution_count": null,
   "metadata": {},
   "outputs": [],
   "source": [
    "got_pheno_no_geno <- setdiff(data_combined$Genotype, id_order)"
   ]
  },
  {
   "cell_type": "code",
   "execution_count": null,
   "metadata": {},
   "outputs": [],
   "source": [
    "got_geno_no_pheno <- setdiff(id_order, data_combined$Genotype)"
   ]
  },
  {
   "cell_type": "markdown",
   "metadata": {},
   "source": [
    "For which genotypes do we have both phenotype and genotype data? Using this knowledge, we will make a subset of the dictionary that contains all these genotypes in the correct order, listed by both FID_IID and genotype name identifiers. This will next be merged with intermediately-parsed phenotype files to produce the final sorted and parsed phenotype files for GEMMA/EMMAX"
   ]
  },
  {
   "cell_type": "code",
   "execution_count": null,
   "metadata": {},
   "outputs": [],
   "source": [
    "got_geno_and_pheno <- intersect(id_order, data_combined$Genotype)"
   ]
  },
  {
   "cell_type": "code",
   "execution_count": null,
   "metadata": {},
   "outputs": [],
   "source": [
    "fwrite(as.data.table(got_pheno), \"stem_regen_parsing_midway/got_pheno.txt\")"
   ]
  },
  {
   "cell_type": "code",
   "execution_count": null,
   "metadata": {},
   "outputs": [],
   "source": [
    "fwrite(as.data.table(got_pheno_no_geno), \"stem_regen_parsing_midway/got_pheno_no_geno_in_1323.txt\")"
   ]
  },
  {
   "cell_type": "code",
   "execution_count": null,
   "metadata": {},
   "outputs": [],
   "source": [
    "fwrite(as.data.table(got_geno_no_pheno), \"stem_regen_parsing_midway/got_geno_no_pheno_in_1323.txt\")"
   ]
  },
  {
   "cell_type": "code",
   "execution_count": null,
   "metadata": {},
   "outputs": [],
   "source": [
    "fwrite(as.data.table(got_geno_and_pheno), \"stem_regen_parsing_midway/got_geno_and_pheno.txt\")"
   ]
  },
  {
   "cell_type": "code",
   "execution_count": null,
   "metadata": {},
   "outputs": [],
   "source": [
    "fwrite(data_combined, \"stem_regen_parsing_midway/stem_regen_phenos_mid_parsing.csv\")"
   ]
  },
  {
   "cell_type": "markdown",
   "metadata": {},
   "source": [
    "### Formatting steps"
   ]
  },
  {
   "cell_type": "markdown",
   "metadata": {},
   "source": [
    "We will convert phenotypes into EMMAX and PLINK formats with an adaptation of old code"
   ]
  },
  {
   "cell_type": "markdown",
   "metadata": {},
   "source": [
    "Working with the 1323-genotype SNP set, which has genotypes indexed by genotypes ID and NOT FID_IID..."
   ]
  },
  {
   "cell_type": "markdown",
   "metadata": {},
   "source": [
    "#### Subset to phenotype data for which we have genotype data"
   ]
  },
  {
   "cell_type": "code",
   "execution_count": null,
   "metadata": {},
   "outputs": [],
   "source": [
    "got_geno <- as.data.table(id_order)\n",
    "colnames(got_geno)[1] <- \"Genotype\""
   ]
  },
  {
   "cell_type": "code",
   "execution_count": null,
   "metadata": {},
   "outputs": [],
   "source": [
    "phenos_w_names_IDs <- merge(data_combined, got_geno, by=\"Genotype\")"
   ]
  },
  {
   "cell_type": "code",
   "execution_count": null,
   "metadata": {},
   "outputs": [],
   "source": [
    "phenos_w_names_IDs <- phenos_w_names_IDs[which(phenos_w_names_IDs$TDZ==0.5),]"
   ]
  },
  {
   "cell_type": "markdown",
   "metadata": {},
   "source": [
    "#### Scale callus/shoot data and remove stem data"
   ]
  },
  {
   "cell_type": "code",
   "execution_count": null,
   "metadata": {},
   "outputs": [],
   "source": [
    "phenos_w_names_IDs$callus <- phenos_w_names_IDs$callus/100\n",
    "phenos_w_names_IDs$shoot <- phenos_w_names_IDs$shoot/100\n",
    "phenos_w_names_IDs$stem <- NULL"
   ]
  },
  {
   "cell_type": "markdown",
   "metadata": {},
   "source": [
    "#### Add a column for timepoint"
   ]
  },
  {
   "cell_type": "code",
   "execution_count": null,
   "metadata": {},
   "outputs": [],
   "source": [
    "split_phase_timepoint <- str_split_fixed(phenos_w_names_IDs$Phase, \"\\\\.\", \"2\")"
   ]
  },
  {
   "cell_type": "markdown",
   "metadata": {},
   "source": [
    "#### Reorganize/inspect phase/timepoint data"
   ]
  },
  {
   "cell_type": "markdown",
   "metadata": {},
   "source": [
    "We will do a bit of reorganizing since previously, Phase.timepoint info was labeled as \"Phase\". Let's set the record straight while retaining all information (with redundancy)"
   ]
  },
  {
   "cell_type": "code",
   "execution_count": null,
   "metadata": {},
   "outputs": [],
   "source": [
    "phenos_w_names_IDs$Phase.timepoint <- phenos_w_names_IDs$Phase\n",
    "phenos_w_names_IDs$timepoint <- split_phase_timepoint[,2]\n",
    "phenos_w_names_IDs$Phase <- split_phase_timepoint[,1]"
   ]
  },
  {
   "cell_type": "code",
   "execution_count": null,
   "metadata": {},
   "outputs": [],
   "source": [
    "levels(factor(phenos_w_names_IDs$timepoint))"
   ]
  },
  {
   "cell_type": "markdown",
   "metadata": {},
   "source": [
    "<div class=\"alert alert-block alert-warning\"> What is the factor ''? </div>\n"
   ]
  },
  {
   "cell_type": "code",
   "execution_count": null,
   "metadata": {},
   "outputs": [],
   "source": [
    "# phenos_w_names_IDs[which(phenos_w_names_IDs$timepoint == ''),]"
   ]
  },
  {
   "cell_type": "markdown",
   "metadata": {},
   "source": [
    "Are they all levels one and two? Think someone forgot to put timepoint of 1 for those phases..."
   ]
  },
  {
   "cell_type": "code",
   "execution_count": null,
   "metadata": {},
   "outputs": [],
   "source": [
    "levels(factor(phenos_w_names_IDs[which(phenos_w_names_IDs$timepoint == ''),]$Phase))"
   ]
  },
  {
   "cell_type": "markdown",
   "metadata": {},
   "source": [
    "Ok. Let's make sure using table."
   ]
  },
  {
   "cell_type": "code",
   "execution_count": null,
   "metadata": {},
   "outputs": [],
   "source": [
    "table(phenos_w_names_IDs$timepoint, phenos_w_names_IDs$Phase)"
   ]
  },
  {
   "cell_type": "markdown",
   "metadata": {},
   "source": [
    "These are week 1 data, which were only collected during phases 1 and 2.\n",
    "<div class=\"alert alert-block alert-success\"> We will not run GWAS on week 1 data because of extremely low rates of regeneration, as previously noted in red box above. We previously dumped only what was needed to get genotypes to match up (due to the issue of extra 0 on Phase 3 wk 1) but will now get rid of EVERYTHING for wk1, in all phases. </div>"
   ]
  },
  {
   "cell_type": "code",
   "execution_count": null,
   "metadata": {},
   "outputs": [],
   "source": [
    "phenos_w_names_IDs <- phenos_w_names_IDs[which(phenos_w_names_IDs$timepoint != ''),]"
   ]
  },
  {
   "cell_type": "markdown",
   "metadata": {},
   "source": [
    "#### Now to pre-format data and run our old code to parse into files for EMMAX and PLINK formats at each timepoint"
   ]
  },
  {
   "cell_type": "markdown",
   "metadata": {},
   "source": [
    "#### Keep last observation(s) when genotypes are studied in multiple phases"
   ]
  },
  {
   "cell_type": "markdown",
   "metadata": {},
   "source": [
    "We decided in cases where a genotype was studied twice (in two phases) to data data for the second time, rather than taking the average."
   ]
  },
  {
   "cell_type": "markdown",
   "metadata": {},
   "source": [
    "##### What genotypes appear in what phases?"
   ]
  },
  {
   "cell_type": "markdown",
   "metadata": {},
   "source": [
    "Let's subset data to timepoint 3 because this is a timepoint for which we have data in every phase (unlike timepoints 1, 2 and 5)"
   ]
  },
  {
   "cell_type": "code",
   "execution_count": null,
   "metadata": {},
   "outputs": [],
   "source": [
    "head(phenos_w_names_IDs)"
   ]
  },
  {
   "cell_type": "code",
   "execution_count": null,
   "metadata": {},
   "outputs": [],
   "source": [
    "dim(phenos_w_names_IDs)"
   ]
  },
  {
   "cell_type": "code",
   "execution_count": null,
   "metadata": {},
   "outputs": [],
   "source": [
    "levels(factor(phenos_w_names_IDs$timepoint))"
   ]
  },
  {
   "cell_type": "markdown",
   "metadata": {},
   "source": [
    "##### Why do some genotypes appear twice in Phase 7 and 8?"
   ]
  },
  {
   "cell_type": "markdown",
   "metadata": {},
   "source": [
    "Because they are replicates. In later phases (5 onward?) we began to do replicates instead of one with and one without TDZ."
   ]
  },
  {
   "cell_type": "markdown",
   "metadata": {},
   "source": [
    "A quick way to know if genotypes were studied in an earlier phase AND a later phase..."
   ]
  },
  {
   "cell_type": "markdown",
   "metadata": {},
   "source": [
    "Look at the contingency table."
   ]
  },
  {
   "cell_type": "code",
   "execution_count": null,
   "metadata": {},
   "outputs": [],
   "source": [
    "genotypes_phases <- table(phenos_w_names_IDs$Phase, phenos_w_names_IDs$timepoint)"
   ]
  },
  {
   "cell_type": "code",
   "execution_count": null,
   "metadata": {},
   "outputs": [],
   "source": [
    "genotypes_phases"
   ]
  },
  {
   "cell_type": "markdown",
   "metadata": {},
   "source": [
    "Week 3 is a timepoint that was included in EVERY phase. This provides us a convenient means of counting how many times each genotype was studied, and seeing in which phases they were studied. Note, there are a few exceptions in which we do not have wk3 data for a genotype due to contamination or another factor; these cases will be handled individually afterward."
   ]
  },
  {
   "cell_type": "code",
   "execution_count": null,
   "metadata": {},
   "outputs": [],
   "source": [
    "phenos_w_names_IDs_week3_only <- phenos_w_names_IDs[which(phenos_w_names_IDs$timepoint == '3'),]"
   ]
  },
  {
   "cell_type": "markdown",
   "metadata": {},
   "source": [
    "Now convert contingency table to data frame and calculate 1) the total number of times a genotype was studied (with TDZ=0.5) and the number of phases a genotype was studied in."
   ]
  },
  {
   "cell_type": "code",
   "execution_count": null,
   "metadata": {},
   "outputs": [],
   "source": [
    "genotypes_phases <- table(phenos_w_names_IDs_week3_only$Genotype,\n",
    "                          phenos_w_names_IDs_week3_only$Phase)"
   ]
  },
  {
   "cell_type": "code",
   "execution_count": null,
   "metadata": {},
   "outputs": [],
   "source": [
    "genotypes_phases_w_sums <- as.data.frame.matrix(genotypes_phases)"
   ]
  },
  {
   "cell_type": "code",
   "execution_count": null,
   "metadata": {},
   "outputs": [],
   "source": [
    "genotypes_phases_w_sums$sum_total <- unlist(rowSums(genotypes_phases_w_sums))\n",
    "\n",
    "genotypes_phases_binarized <- as.data.frame.matrix(genotypes_phases)\n",
    "genotypes_phases_binarized[genotypes_phases_binarized > 1] <- 1\n",
    "genotypes_phases_w_sums$phases_studied_in <- unlist(rowSums(genotypes_phases_binarized))"
   ]
  },
  {
   "cell_type": "code",
   "execution_count": null,
   "metadata": {},
   "outputs": [],
   "source": [
    "head(genotypes_phases_w_sums)"
   ]
  },
  {
   "cell_type": "markdown",
   "metadata": {},
   "source": [
    "##### Of genotypes that appear in multiple phases, what are the phases they appear in?"
   ]
  },
  {
   "cell_type": "code",
   "execution_count": null,
   "metadata": {},
   "outputs": [],
   "source": [
    "genotypes_studied_in_multiple_phases <- genotypes_phases_w_sums[which(genotypes_phases_w_sums$phases_studied_in>1),]"
   ]
  },
  {
   "cell_type": "code",
   "execution_count": null,
   "metadata": {},
   "outputs": [],
   "source": [
    "nrow(genotypes_studied_in_multiple_phases) # Number of genotypes appearing in multiple phases"
   ]
  },
  {
   "cell_type": "code",
   "execution_count": null,
   "metadata": {},
   "outputs": [],
   "source": [
    "head(genotypes_studied_in_multiple_phases)"
   ]
  },
  {
   "cell_type": "code",
   "execution_count": null,
   "metadata": {},
   "outputs": [],
   "source": [
    "max(genotypes_studied_in_multiple_phases$phases_studied_in) # What is the maximum number of phases any genotype was studied in?"
   ]
  },
  {
   "cell_type": "markdown",
   "metadata": {},
   "source": [
    "##### What is the last phase every genotype appears in?"
   ]
  },
  {
   "cell_type": "code",
   "execution_count": null,
   "metadata": {},
   "outputs": [],
   "source": [
    "genotypes_phases_2 <- as.data.frame.matrix(genotypes_phases)"
   ]
  },
  {
   "cell_type": "code",
   "execution_count": null,
   "metadata": {},
   "outputs": [],
   "source": [
    "nrow(genotypes_phases_2)"
   ]
  },
  {
   "cell_type": "code",
   "execution_count": null,
   "metadata": {},
   "outputs": [],
   "source": [
    "genotypes_phases_2 <- as.data.frame.matrix(genotypes_phases)\n",
    "genotypes_phases_2$final_phase_studied_in <- rep(0, nrow(genotypes_phases_2))"
   ]
  },
  {
   "cell_type": "code",
   "execution_count": null,
   "metadata": {},
   "outputs": [],
   "source": [
    "genotypes_studied_in_multiple_phases_nosums <- genotypes_studied_in_multiple_phases\n",
    "genotypes_studied_in_multiple_phases_nosums$sum_total <- NULL\n",
    "genotypes_studied_in_multiple_phases_nosums$phases_studied_in <- NULL"
   ]
  },
  {
   "cell_type": "markdown",
   "metadata": {},
   "source": [
    "Make sure what we're about to do inside a loop works"
   ]
  },
  {
   "cell_type": "code",
   "execution_count": null,
   "metadata": {},
   "outputs": [],
   "source": [
    "genotypes_studied_in_multiple_phases_nosums[1,]"
   ]
  },
  {
   "cell_type": "code",
   "execution_count": null,
   "metadata": {},
   "outputs": [],
   "source": [
    "which(genotypes_studied_in_multiple_phases_nosums[1,] != 0) # What phases are a genotype studied in?"
   ]
  },
  {
   "cell_type": "markdown",
   "metadata": {},
   "source": [
    "##### Prepare `data.frame` of which genotypes are in which phases"
   ]
  },
  {
   "cell_type": "code",
   "execution_count": null,
   "metadata": {},
   "outputs": [],
   "source": [
    "head(rownames(genotypes_phases))"
   ]
  },
  {
   "cell_type": "code",
   "execution_count": null,
   "metadata": {},
   "outputs": [],
   "source": [
    "rownames(genotypes_phases)[1]"
   ]
  },
  {
   "cell_type": "code",
   "execution_count": null,
   "metadata": {},
   "outputs": [],
   "source": [
    "df <- data.frame(matrix(NA, ncol=4, nrow=nrow(genotypes_studied_in_multiple_phases_nosums)))\n",
    "colnames(df) <- c(\"Genotype\", \"Final_phase\", \"Earlier_phase1\", \"Earlier_phase2\")"
   ]
  },
  {
   "cell_type": "code",
   "execution_count": null,
   "metadata": {},
   "outputs": [],
   "source": [
    "for(i in 1:nrow(genotypes_studied_in_multiple_phases_nosums)){\n",
    "    #print(i)\n",
    "    #print(paste0('This genotype is: ', rownames(genotypes_studied_in_multiple_phases_nosums)[i]))\n",
    "    df$Genotype[i] <- rownames(genotypes_studied_in_multiple_phases_nosums)[i]\n",
    "    #print(\"Win\")\n",
    "    # We need the column names for which the value of df in the ith row is nonzero\n",
    "    Phases_appeared_in <- which(genotypes_studied_in_multiple_phases_nosums[i,] != 0)\n",
    "    max <- max(Phases_appeared_in)\n",
    "    min <- min(Phases_appeared_in)\n",
    "    if(length(Phases_appeared_in)==3){\n",
    "        med <- median(Phases_appeared_in)\n",
    "    }\n",
    "    if(length(Phases_appeared_in)<3){\n",
    "        med <- NA\n",
    "    }\n",
    "    df$Final_phase[i] <- max\n",
    "    df$Earlier_phase1[i] <- min\n",
    "    df$Earlier_phase2[i] <- med\n",
    "    #print(head(df))\n",
    "}"
   ]
  },
  {
   "cell_type": "markdown",
   "metadata": {},
   "source": [
    "In addition to removing these genotypes from phenotype data, let's remove them from diameter (covariate) data"
   ]
  },
  {
   "cell_type": "markdown",
   "metadata": {},
   "source": [
    "## Parse and clean covariate data"
   ]
  },
  {
   "cell_type": "markdown",
   "metadata": {},
   "source": [
    "Note: The diameter data is stored in a strange way. The first file contains diameter data for the first two phases. In the second file, there is diameter data for all phases except the first two, for which diameter is left blank."
   ]
  },
  {
   "cell_type": "markdown",
   "metadata": {},
   "source": [
    "### Load"
   ]
  },
  {
   "cell_type": "markdown",
   "metadata": {},
   "source": [
    "Data for phases 1 is in different file than for the rest"
   ]
  },
  {
   "cell_type": "code",
   "execution_count": null,
   "metadata": {},
   "outputs": [],
   "source": [
    "diameter.1 <- read_excel(\"/mnt/data/NSF_GWAS/phenodata/raw_manual_score_covariates/GWAS_Data_Phase_1_2.xlsx\")"
   ]
  },
  {
   "cell_type": "code",
   "execution_count": null,
   "metadata": {},
   "outputs": [],
   "source": [
    "diameter.2 <- data.table::fread(\"/mnt/data/NSF_GWAS/phenodata/Master GWAS results RESCORE_10.10.19_stem_and callus scoring_AG - Copy.csv\")"
   ]
  },
  {
   "cell_type": "markdown",
   "metadata": {},
   "source": [
    "Evaluate these datasets and the differences between them."
   ]
  },
  {
   "cell_type": "code",
   "execution_count": null,
   "metadata": {},
   "outputs": [],
   "source": [
    "colnames(diameter.1)\n",
    "colnames(diameter.2)\n",
    "\n",
    "head(diameter.1$T_quant...4)\n",
    "head(diameter.2$Treatment)"
   ]
  },
  {
   "cell_type": "markdown",
   "metadata": {},
   "source": [
    "### Parse and clean"
   ]
  },
  {
   "cell_type": "markdown",
   "metadata": {},
   "source": [
    "#### Add phase column to df for phase 1"
   ]
  },
  {
   "cell_type": "markdown",
   "metadata": {},
   "source": [
    "Add a phase column for the first datasheet. Consider everything in the first datasheet is for phase 1. Note that sheet is titled \"GWAS Data All Phases\" and \"GWAS_Data_1_2\" and neither of these names are accurate since it only has phase 1 data."
   ]
  },
  {
   "cell_type": "code",
   "execution_count": null,
   "metadata": {},
   "outputs": [],
   "source": [
    "diameter.1$Phase <- 1"
   ]
  },
  {
   "cell_type": "code",
   "execution_count": null,
   "metadata": {},
   "outputs": [],
   "source": [
    "# head(diameter.1)"
   ]
  },
  {
   "cell_type": "markdown",
   "metadata": {},
   "source": [
    "#### Clean up the columns\n",
    "We will clean names for TDZ, diameter and drop all columns except for diameter and those for index, genotype, treatment and phase.... then combine both datasets into a single table."
   ]
  },
  {
   "cell_type": "markdown",
   "metadata": {},
   "source": [
    "##### [TDZ]"
   ]
  },
  {
   "cell_type": "code",
   "execution_count": null,
   "metadata": {},
   "outputs": [],
   "source": [
    "colnames(diameter.1)[4] <- \"TDZ_conc\"\n",
    "colnames(diameter.2)[3] <- \"TDZ_conc\""
   ]
  },
  {
   "cell_type": "markdown",
   "metadata": {},
   "source": [
    "##### Diameter"
   ]
  },
  {
   "cell_type": "code",
   "execution_count": null,
   "metadata": {},
   "outputs": [],
   "source": [
    "colnames(diameter.1)[which(colnames(diameter.1) == 'Final Diameter  (mm)')] <- \"diameter_mm\"\n",
    "colnames(diameter.2)[which(colnames(diameter.2) ==  'Final Stem Diameter (mm)')] <- \"diameter_mm\""
   ]
  },
  {
   "cell_type": "markdown",
   "metadata": {},
   "source": [
    "Did it work?"
   ]
  },
  {
   "cell_type": "code",
   "execution_count": null,
   "metadata": {},
   "outputs": [],
   "source": [
    "colnames(diameter.1)"
   ]
  },
  {
   "cell_type": "markdown",
   "metadata": {},
   "source": [
    "##### Drop extra columns"
   ]
  },
  {
   "cell_type": "code",
   "execution_count": null,
   "metadata": {},
   "outputs": [],
   "source": [
    "diameter.1 <- as.data.table(cbind(diameter.1$Index,\n",
    "                                  diameter.1$Genotype,\n",
    "                                  diameter.1$TDZ_conc,\n",
    "                                  diameter.1$Phase,\n",
    "                                  diameter.1$diameter_mm))\n",
    "\n",
    "diameter.2 <- as.data.table(cbind(diameter.2$Index,\n",
    "                                  diameter.2$Genotype,\n",
    "                                  diameter.2$TDZ_conc,\n",
    "                                  diameter.2$Phase,\n",
    "                                  diameter.2$diameter_mm))\n",
    "\n",
    "diameter <- rbind(diameter.1,\n",
    "                  diameter.2[which(as.numeric(as.character(diameter.2$V4)) != 1), ])"
   ]
  },
  {
   "cell_type": "code",
   "execution_count": null,
   "metadata": {},
   "outputs": [],
   "source": [
    "colnames(diameter) <- c(\"Index\",\n",
    "                        \"Genotype\",\n",
    "                        \"TDZ_conc\",\n",
    "                        \"Phase\",\n",
    "                        \"diameter_mm\")"
   ]
  },
  {
   "cell_type": "markdown",
   "metadata": {},
   "source": [
    "#### Clean genotype names"
   ]
  },
  {
   "cell_type": "markdown",
   "metadata": {},
   "source": [
    "##### First get rid of spaces in genotype names"
   ]
  },
  {
   "cell_type": "code",
   "execution_count": null,
   "metadata": {},
   "outputs": [],
   "source": [
    "diameter$Genotype <- gsub(\" \", \"-\", diameter$Genotype)"
   ]
  },
  {
   "cell_type": "markdown",
   "metadata": {},
   "source": [
    "##### Correct naming inconsistencies"
   ]
  },
  {
   "cell_type": "markdown",
   "metadata": {},
   "source": [
    "These are the same as corrections for phenotype files."
   ]
  },
  {
   "cell_type": "code",
   "execution_count": null,
   "metadata": {},
   "outputs": [],
   "source": [
    "diameter$Genotype <- gsub(\"BLGC\", \"BLCG\", diameter$Genotype)\n",
    "diameter$Genotype <- gsub(\"BLCG-20\", \"BLCG-28\", diameter$Genotype)\n",
    "diameter$Genotype <- gsub(\"SKWF-24-2\", \"SKWE-24-2\", diameter$Genotype)\n",
    "diameter$Genotype <- gsub(\"SLMD-28-03\", \"SLMD-28-3\", diameter$Genotype)\n",
    "diameter$Genotype <- gsub(\"BESC _331\",  \"BESC_331\", \n",
    "                                                  diameter$Genotype)\n",
    "\n",
    "diameter$Genotype <- gsub(\"GW _\",  \"GW_\", \n",
    "                                                  diameter$Genotype)"
   ]
  },
  {
   "cell_type": "code",
   "execution_count": null,
   "metadata": {},
   "outputs": [],
   "source": [
    "fwrite(diameter, \"stem_regen_parsing_midway/diameter_midway.csv\")"
   ]
  },
  {
   "cell_type": "markdown",
   "metadata": {},
   "source": [
    "## Remove the first observation when a genotype was studied in multiple phases"
   ]
  },
  {
   "cell_type": "markdown",
   "metadata": {},
   "source": [
    "We will do this for both diameter data and phenotype data"
   ]
  },
  {
   "cell_type": "code",
   "execution_count": null,
   "metadata": {},
   "outputs": [],
   "source": [
    "for(i in 1:nrow(genotypes_studied_in_multiple_phases_nosums)){\n",
    "    # Delete data from earlier phases – first by replacing Phase # with NA for those we wish to remove\n",
    "    # for certain genotypes\n",
    "    diameter$Phase[which(diameter$Genotype==df$Genotype[i] & diameter$Phase != df$Final_phase[i])] <- NA\n",
    "    phenos_w_names_IDs$Phase[which(phenos_w_names_IDs$Genotype==df$Genotype[i] & phenos_w_names_IDs$Phase != df$Final_phase[i])] <- NA\n",
    "}"
   ]
  },
  {
   "cell_type": "markdown",
   "metadata": {},
   "source": [
    "Now remove NA to drop the entries for earlier phases when genotypes were studied in multiple phases"
   ]
  },
  {
   "cell_type": "code",
   "execution_count": null,
   "metadata": {},
   "outputs": [],
   "source": [
    "nrow(phenos_w_names_IDs) #for 882-genotype SNP set, 6296; for 1323 set, 9253\n",
    "phenos_w_names_IDs <- na.omit(phenos_w_names_IDs)\n",
    "nrow(phenos_w_names_IDs) #for 88s-genotype SNP set, 4895; for 1323 set, 7647"
   ]
  },
  {
   "cell_type": "code",
   "execution_count": null,
   "metadata": {},
   "outputs": [],
   "source": [
    "nrow(diameter) #for 1323 set, 3148\n",
    "diameter <- na.omit(diameter)\n",
    "nrow(diameter) #for 1323 set, 2523"
   ]
  },
  {
   "cell_type": "markdown",
   "metadata": {},
   "source": [
    "Did it work? For which genotypes do we still have data at multiple phases?"
   ]
  },
  {
   "cell_type": "code",
   "execution_count": null,
   "metadata": {},
   "outputs": [],
   "source": [
    "for(genotype in levels(factor(phenos_w_names_IDs$Genotype))){\n",
    "    phases_studied_in <- unique(\n",
    "        phenos_w_names_IDs[which(phenos_w_names_IDs$Genotype == genotype),]$Phase)\n",
    "    n_phases_studied_in <- length(phases_studied_in)\n",
    "    if(n_phases_studied_in>1){\n",
    "        print(paste0(n_phases_studied_in,\n",
    "                    \" phases contain phenotype data for \",\n",
    "                    genotype))\n",
    "    }\n",
    "    \n",
    "    phases_studied_in <- unique(\n",
    "        diameter[which(diameter$Genotype == genotype),]$Phase)\n",
    "    n_phases_studied_in <- length(phases_studied_in)\n",
    "    if(n_phases_studied_in>1){\n",
    "        print(paste0(n_phases_studied_in,\n",
    "                    \" phases contain diameter data for \",\n",
    "                    genotype))\n",
    "    }\n",
    "}"
   ]
  },
  {
   "cell_type": "markdown",
   "metadata": {},
   "source": [
    "Look at data of genotypes for which we have data from multiple phases"
   ]
  },
  {
   "cell_type": "code",
   "execution_count": null,
   "metadata": {},
   "outputs": [],
   "source": [
    "phenos_w_names_IDs[which(phenos_w_names_IDs$Genotype == 'BESC-159'),]\n",
    "phenos_w_names_IDs[which(phenos_w_names_IDs$Genotype == 'BESC-16'),]\n",
    "phenos_w_names_IDs[which(phenos_w_names_IDs$Genotype == 'BESC-354'),]"
   ]
  },
  {
   "cell_type": "code",
   "execution_count": null,
   "metadata": {},
   "outputs": [],
   "source": [
    "phenos_w_names_IDs$Phase[which(phenos_w_names_IDs$Genotype == 'BESC-159' & phenos_w_names_IDs$Phase==1)] <- NA\n",
    "phenos_w_names_IDs$Phase[which(phenos_w_names_IDs$Genotype == 'BESC-16' & phenos_w_names_IDs$Phase==4)] <- NA\n",
    "phenos_w_names_IDs$Phase[which(phenos_w_names_IDs$Genotype == 'BESC-354' & phenos_w_names_IDs$Phase==2)] <- NA"
   ]
  },
  {
   "cell_type": "code",
   "execution_count": null,
   "metadata": {},
   "outputs": [],
   "source": [
    "diameter[which(diameter$Genotype == 'BESC-159'),]\n",
    "diameter[which(diameter$Genotype == 'BESC-354'),]"
   ]
  },
  {
   "cell_type": "code",
   "execution_count": null,
   "metadata": {},
   "outputs": [],
   "source": [
    "diameter$Phase[which(diameter$Genotype == 'BESC-159' & diameter$Phase==1)] <- NA\n",
    "diameter$Phase[which(diameter$Genotype == 'BESC-354' & diameter$Phase==2)] <- NA"
   ]
  },
  {
   "cell_type": "markdown",
   "metadata": {},
   "source": [
    "Now remove rows with NA to get rid of this data."
   ]
  },
  {
   "cell_type": "code",
   "execution_count": null,
   "metadata": {},
   "outputs": [],
   "source": [
    "nrow(phenos_w_names_IDs) #7647 for 1323 set (second filtering round)\n",
    "phenos_w_names_IDs <- na.omit(phenos_w_names_IDs)\n",
    "nrow(phenos_w_names_IDs) #7641 for 1323 set (second filtering round)"
   ]
  },
  {
   "cell_type": "code",
   "execution_count": null,
   "metadata": {},
   "outputs": [],
   "source": [
    "nrow(diameter) #2523 for 1323 set (second filtering round)\n",
    "diameter <- na.omit(diameter)\n",
    "nrow(diameter) #2519 for 1323 set (second filtering round)"
   ]
  },
  {
   "cell_type": "markdown",
   "metadata": {},
   "source": [
    "We will revisit phase data after printing phenotypes, once it is time to write out phase data."
   ]
  },
  {
   "cell_type": "markdown",
   "metadata": {},
   "source": [
    "## Write intermediate results with extra early replicates removed BEFORE aggregating"
   ]
  },
  {
   "cell_type": "markdown",
   "metadata": {},
   "source": [
    "This is being done for the annotation GUI paper, to make sure the replication structure is clear."
   ]
  },
  {
   "cell_type": "code",
   "execution_count": null,
   "metadata": {},
   "outputs": [],
   "source": [
    "fwrite(phenos_w_names_IDs, \"stem_regen_parsing_midway/stem_regen_phenos_mid_parsing_finalObservations.csv\")"
   ]
  },
  {
   "cell_type": "markdown",
   "metadata": {},
   "source": [
    "## Write duplicate-aggregated phenotype data into GWAS formats"
   ]
  },
  {
   "cell_type": "code",
   "execution_count": null,
   "metadata": {},
   "outputs": [],
   "source": [
    "if(!dir.exists(\"pheno_files/stem_regen\")) dir.create(\"pheno_files/stem_regen\")"
   ]
  },
  {
   "cell_type": "code",
   "execution_count": null,
   "metadata": {},
   "outputs": [],
   "source": [
    "setwd(\"pheno_files/stem_regen\")"
   ]
  },
  {
   "cell_type": "code",
   "execution_count": null,
   "metadata": {},
   "outputs": [],
   "source": [
    "levels(factor(phenos_w_names_IDs$timepoint))"
   ]
  },
  {
   "cell_type": "code",
   "execution_count": null,
   "metadata": {},
   "outputs": [],
   "source": [
    "phenos_w_names_IDs$timepoint <- as.numeric(as.character(phenos_w_names_IDs$timepoint))"
   ]
  },
  {
   "cell_type": "markdown",
   "metadata": {},
   "source": [
    "I believe I am finally ready to write the phenotype data...."
   ]
  },
  {
   "cell_type": "code",
   "execution_count": null,
   "metadata": {},
   "outputs": [],
   "source": [
    "getwd()"
   ]
  },
  {
   "cell_type": "code",
   "execution_count": null,
   "metadata": {},
   "outputs": [],
   "source": [
    "id_order_table <- as.data.table(id_order)\n",
    "colnames(id_order_table) <- c(\"Genotype\")"
   ]
  },
  {
   "cell_type": "code",
   "execution_count": null,
   "metadata": {},
   "outputs": [],
   "source": [
    "for (time in levels(factor(phenos_w_names_IDs$timepoint))){\n",
    "    print(paste0(\"Timepoint: week \", time))\n",
    "    ### Subset for this timepoint\n",
    "    phenos_w_names_IDs_subset <- phenos_w_names_IDs[which(phenos_w_names_IDs$timepoint==time),]\n",
    "    #print(head(phenos_w_names_IDs_subset))\n",
    "    print(paste0(\"nrow after subsetting phenotype data to this timepoint is \", nrow(phenos_w_names_IDs_subset)))\n",
    "    \n",
    "    \n",
    "    ### Callus\n",
    "    aggregate_callus <- aggregate(callus~Genotype, data=phenos_w_names_IDs_subset, FUN=mean)\n",
    "    callus_w_names_IDs.2 <- merge(id_order_table,\n",
    "                                  aggregate_callus,\n",
    "                                  by = \"Genotype\",\n",
    "                                  all.x = TRUE,\n",
    "                                  all.y = FALSE)\n",
    "    print(head(callus_w_names_IDs.2))\n",
    "    # If coded as FID_IID:\n",
    "    # callus_w_names_IDs <- merge(aggregate_callus, dictionary, by.x = \"Genotype\", by.y = \"Name\", all.x = FALSE, all.y = TRUE)\n",
    "    # callus_w_names_IDs.2 <- merge(as.data.table(id_order), callus_w_names_IDs, by.x = \"id_order\", by.y = \"ID\", all.x = TRUE, all.y = FALSE)\n",
    "    phenotype_name <- paste0(\"callus_\", time, \"w\")\n",
    "    print(paste0(\"Writing out phenotype data for phenotype \",\n",
    "                 phenotype_name,\n",
    "                 \" with # observations: \", nrow(na.omit(callus_w_names_IDs.2))))\n",
    "    \n",
    "    print(mean(na.omit(callus_w_names_IDs.2$callus)))\n",
    "    callus_w_names_IDs.2$callus <- format(callus_w_names_IDs.2$callus, digits = 5)\n",
    "    # If coded as FID_IID:\n",
    "    #callus_out <- as.data.table(cbind(str_split_fixed(callus_w_names_IDs.2$id_order, \"_\", 2),\n",
    "    #                           callus_w_names_IDs.2$callus))\n",
    "    callus_out <- as.data.table(cbind(callus_w_names_IDs.2$Genotype,\n",
    "                                      callus_w_names_IDs.2$Genotype,\n",
    "                                      callus_w_names_IDs.2$callus))\n",
    "\n",
    "\n",
    "    colnames(callus_out) <- c(\"FID\", \"IID\",\n",
    "                             phenotype_name)\n",
    "\n",
    "    print(head(callus_out))\n",
    "    fwrite(callus_out,\n",
    "           paste0(phenotype_name, \".noheader.pheno\"),\n",
    "           sep = \"\\t\", col.names = FALSE, row.names = FALSE, quote = FALSE, na = \"NA\")\n",
    "    fwrite(callus_out,\n",
    "           paste0(phenotype_name, \".header.pheno\"),\n",
    "           sep = \"\\t\", col.names = TRUE, row.names = FALSE, quote = FALSE, na = \"NA\")\n",
    "    cat(\"\\n\")\n",
    "    ### Shoot\n",
    "    aggregate_shoot <- aggregate(shoot~Genotype, data=phenos_w_names_IDs_subset, FUN=mean)\n",
    "    shoot_w_names_IDs.2 <- merge(id_order_table,\n",
    "                                 aggregate_shoot,\n",
    "                                 by = \"Genotype\",\n",
    "                                 all.x = TRUE,\n",
    "                                 all.y = FALSE)\n",
    "    # If coded as FID_IID:\n",
    "    # shoot_w_names_IDs <- merge(aggregate_shoot, dictionary, by.x = \"Genotype\", by.y = \"Name\", all.x = FALSE, all.y = TRUE)\n",
    "    # shoot_w_names_IDs.2 <- merge(as.data.table(id_order), shoot_w_names_IDs, by.x = \"id_order\", by.y = \"ID\", all.x = TRUE, all.y = FALSE)\n",
    "    phenotype_name <- paste0(\"shoot_\", time, \"w\")\n",
    "    print(paste0(\"Writing out phenotype data for phenotype \",\n",
    "                 phenotype_name,\n",
    "                 \" with # observations: \", nrow(na.omit(shoot_w_names_IDs.2))))\n",
    "    \n",
    "    shoot_w_names_IDs.2$shoot <- format(shoot_w_names_IDs.2$shoot, digits = 5)\n",
    "    # If coded as FID_IID:\n",
    "    # shoot_out <- as.data.table(cbind(str_split_fixed(shoot_w_names_IDs.2$id_order, \"_\", 2),\n",
    "    #                            shoot_w_names_IDs.2$shoot))\n",
    "    shoot_out <- as.data.table(cbind(shoot_w_names_IDs.2$Genotype,\n",
    "                                     shoot_w_names_IDs.2$Genotype,\n",
    "                                     shoot_w_names_IDs.2$shoot))\n",
    "\n",
    "    colnames(shoot_out) <- c(\"FID\", \"IID\",\n",
    "                             phenotype_name)\n",
    "\n",
    "    print(head(shoot_out))\n",
    "    cat(\"\\n\\n\")\n",
    "    fwrite(shoot_out,\n",
    "           paste0(phenotype_name, \".noheader.pheno\"),\n",
    "           sep = \"\\t\", col.names = FALSE, row.names = FALSE, quote = FALSE, na = \"NA\")\n",
    "    fwrite(shoot_out,\n",
    "           paste0(phenotype_name, \".header.pheno\"),\n",
    "           sep = \"\\t\", col.names = TRUE, row.names = FALSE, quote = FALSE, na = \"NA\")\n",
    "}"
   ]
  },
  {
   "cell_type": "markdown",
   "metadata": {},
   "source": [
    "## Check why there are fewer observations for Ph. 4"
   ]
  },
  {
   "cell_type": "markdown",
   "metadata": {},
   "source": [
    "<div class=\"alert alert-block alert-danger\">\n",
    "Note: We have fewer observations for week 4 because...\n",
    "</div>"
   ]
  },
  {
   "cell_type": "markdown",
   "metadata": {},
   "source": [
    "Let's investigate"
   ]
  },
  {
   "cell_type": "code",
   "execution_count": null,
   "metadata": {},
   "outputs": [],
   "source": [
    "callus_3w <- fread(\"callus_3w.header.pheno\")\n",
    "callus_4w <- fread(\"callus_4w.header.pheno\")\n",
    "callus_5w <- fread(\"callus_5w.header.pheno\")"
   ]
  },
  {
   "cell_type": "code",
   "execution_count": null,
   "metadata": {},
   "outputs": [],
   "source": [
    "geno_got_wk3_not_wk4 <- setdiff(na.omit(callus_3w)$FID,\n",
    "                                na.omit(callus_4w)$FID) "
   ]
  },
  {
   "cell_type": "code",
   "execution_count": null,
   "metadata": {},
   "outputs": [],
   "source": [
    "geno_got_wk3_not_wk5 <- setdiff(na.omit(callus_3w)$FID,\n",
    "                                na.omit(callus_5w)$FID) "
   ]
  },
  {
   "cell_type": "code",
   "execution_count": null,
   "metadata": {},
   "outputs": [],
   "source": [
    "geno_got_wk3_not_wk5 # These should all be cases that were studied in Phase 1."
   ]
  },
  {
   "cell_type": "code",
   "execution_count": null,
   "metadata": {},
   "outputs": [],
   "source": [
    "phenos_w_names_IDs[which(phenos_w_names_IDs$Genotype == \"BESC-124\"),]"
   ]
  },
  {
   "cell_type": "code",
   "execution_count": null,
   "metadata": {},
   "outputs": [],
   "source": [
    "for(genotype in geno_got_wk3_not_wk5){\n",
    "    pheno_subset <- phenos_w_names_IDs[which(phenos_w_names_IDs$Genotype == genotype), ]\n",
    "    phases_studied_in <- unique(pheno_subset$Phase)\n",
    "    if((length(phases_studied_in) > 1) | (phases_studied_in != 1)){\n",
    "        print(pheno_subset)\n",
    "        #stop()\n",
    "    }\n",
    "}"
   ]
  },
  {
   "cell_type": "markdown",
   "metadata": {},
   "source": [
    "All are phase 1 except for BESC-143 and BESC-26, which I guess must have gotten contaminated or otherwise damaged and therefore were not imaged at later timepoints."
   ]
  },
  {
   "cell_type": "code",
   "execution_count": null,
   "metadata": {},
   "outputs": [],
   "source": [
    "geno_got_wk5_not_wk4 <- setdiff(na.omit(callus_5w)$FID,\n",
    "                                na.omit(callus_4w)$FID) "
   ]
  },
  {
   "cell_type": "code",
   "execution_count": null,
   "metadata": {},
   "outputs": [],
   "source": [
    "geno_got_wk5_not_wk4 # Truly mysterious"
   ]
  },
  {
   "cell_type": "code",
   "execution_count": null,
   "metadata": {},
   "outputs": [],
   "source": [
    "phenos_w_names_IDs[which(phenos_w_names_IDs$Genotype == \"BESC-113\"),]"
   ]
  },
  {
   "cell_type": "code",
   "execution_count": null,
   "metadata": {},
   "outputs": [],
   "source": [
    "phenos_w_names_IDs[which(phenos_w_names_IDs$Genotype == \"BESC-117\"),]"
   ]
  },
  {
   "cell_type": "markdown",
   "metadata": {},
   "source": [
    "It seems the answer is that in Phase 3 we collected no wk4 data."
   ]
  },
  {
   "cell_type": "code",
   "execution_count": null,
   "metadata": {},
   "outputs": [],
   "source": [
    "for(genotype in geno_got_wk5_not_wk4){\n",
    "    #print(genotype)\n",
    "    pheno_subset <- phenos_w_names_IDs[which(phenos_w_names_IDs$Genotype == genotype), ]\n",
    "    phases_studied_in <- unique(pheno_subset$Phase)\n",
    "    if((length(phases_studied_in) > 1) | (phases_studied_in != 3)){\n",
    "        print(pheno_subset)\n",
    "        #stop()\n",
    "    }\n",
    "}"
   ]
  },
  {
   "cell_type": "markdown",
   "metadata": {},
   "source": [
    "<div class=\"alert alert-block alert-success\"> Success with writing phenotypes. Now to write phase and diameter data. </div>\n"
   ]
  },
  {
   "cell_type": "markdown",
   "metadata": {},
   "source": [
    "## Finish parsing covariate data, then write"
   ]
  },
  {
   "cell_type": "markdown",
   "metadata": {},
   "source": [
    "### Diameter"
   ]
  },
  {
   "cell_type": "markdown",
   "metadata": {},
   "source": [
    "Format diameter data and evaluate"
   ]
  },
  {
   "cell_type": "code",
   "execution_count": null,
   "metadata": {},
   "outputs": [],
   "source": [
    "colnames(diameter)\n",
    "colnames(diameter)[3] <- \"Treatment\""
   ]
  },
  {
   "cell_type": "code",
   "execution_count": null,
   "metadata": {},
   "outputs": [],
   "source": [
    "levels(factor(diameter$Treatment))"
   ]
  },
  {
   "cell_type": "code",
   "execution_count": null,
   "metadata": {},
   "outputs": [],
   "source": [
    "diameter.2 <- diameter[which(diameter$Treatment == '0.5'),]"
   ]
  },
  {
   "cell_type": "code",
   "execution_count": null,
   "metadata": {},
   "outputs": [],
   "source": [
    "diameter.2$diameter_mm <- as.numeric(as.character(diameter.2$diameter_mm))"
   ]
  },
  {
   "cell_type": "code",
   "execution_count": null,
   "metadata": {},
   "outputs": [],
   "source": [
    "head(diameter.2)"
   ]
  },
  {
   "cell_type": "markdown",
   "metadata": {},
   "source": [
    "#### Fix inconsistencies (as before... redundant)"
   ]
  },
  {
   "cell_type": "code",
   "execution_count": null,
   "metadata": {},
   "outputs": [],
   "source": [
    "diameter.2$Genotype <- gsub(\"\\\\ -\", \"-\", diameter.2$Genotype)\n",
    "diameter.2$Genotype <- gsub(\"--\", \"-\", diameter.2$Genotype)\n",
    "\n",
    "# Fixing more names 3.25.19\n",
    "diameter.2$Genotype <- gsub(\"BLGC\", \"BLCG\", diameter.2$Genotype)\n",
    "diameter.2$Genotype <- gsub(\"BLGC-20\", \"BLCG-28\", diameter.2$Genotype)\n",
    "diameter.2$Genotype <- gsub(\"SKWF-24-2\", \"SKWE-24-2\", diameter.2$Genotype)\n",
    "diameter.2$Genotype <- gsub(\"SLMD-28-03\", \"SLMD-28-3\", diameter.2$Genotype)\n",
    "diameter.2$Genotype <- gsub(\"BESC _331\",  \"BESC_331\", \n",
    "                                                  diameter.2$Genotype)\n",
    "\n",
    "diameter.2$Genotype <- gsub(\"GW _\",  \"GW_\", \n",
    "                                                  diameter.2$Genotype)"
   ]
  },
  {
   "cell_type": "markdown",
   "metadata": {},
   "source": [
    "#### Aggregate duplicates"
   ]
  },
  {
   "cell_type": "code",
   "execution_count": null,
   "metadata": {},
   "outputs": [],
   "source": [
    "aggregate_diameters <- aggregate(diameter_mm~Genotype, data=diameter.2, FUN=mean)\n",
    "#aggregate_diameters <- aggregate(`Final Stem Diameter (mm)`~Genotype, data=diameter.2, FUN=mean)"
   ]
  },
  {
   "cell_type": "code",
   "execution_count": null,
   "metadata": {},
   "outputs": [],
   "source": [
    "head(aggregate_diameters)"
   ]
  },
  {
   "cell_type": "markdown",
   "metadata": {},
   "source": [
    "#### Order according to ID list"
   ]
  },
  {
   "cell_type": "code",
   "execution_count": null,
   "metadata": {},
   "outputs": [],
   "source": [
    "diameter_w_names_IDs <- merge(id_order_table,\n",
    "                              aggregate_diameters,\n",
    "                              by = \"Genotype\",\n",
    "                              all.x = TRUE,\n",
    "                              all.y = FALSE)"
   ]
  },
  {
   "cell_type": "markdown",
   "metadata": {},
   "source": [
    "### Phase"
   ]
  },
  {
   "cell_type": "markdown",
   "metadata": {},
   "source": [
    "#### Final inspection"
   ]
  },
  {
   "cell_type": "markdown",
   "metadata": {},
   "source": [
    "First, let's make sure every genotype is only found in a single phase now."
   ]
  },
  {
   "cell_type": "code",
   "execution_count": null,
   "metadata": {},
   "outputs": [],
   "source": [
    "table <- table(phenos_w_names_IDs$Phase, phenos_w_names_IDs$Genotype)\n",
    "table[table>=1] <- 1\n",
    "table_sums <- colSums(table)\n",
    "print(max(table_sums)) # Max should be 1"
   ]
  },
  {
   "cell_type": "markdown",
   "metadata": {},
   "source": [
    "Now back to phenotype data, to find the phase of every genotype and format appropriately. (This is redundant with the above)"
   ]
  },
  {
   "cell_type": "code",
   "execution_count": null,
   "metadata": {},
   "outputs": [],
   "source": [
    "# First for phenotype data\n",
    "\n",
    "genotypes_phases <- table(phenos_w_names_IDs$Genotype,\n",
    "                          phenos_w_names_IDs$Phase)\n",
    "df <- as.data.frame.matrix(genotypes_phases)\n",
    "df[df>1] <- 1\n",
    "max(rowSums(df)) #Double check that nothing appears in more than one phase"
   ]
  },
  {
   "cell_type": "code",
   "execution_count": null,
   "metadata": {},
   "outputs": [],
   "source": [
    "df$Genotype <- rownames(df)"
   ]
  },
  {
   "cell_type": "code",
   "execution_count": null,
   "metadata": {},
   "outputs": [],
   "source": [
    "# If coded as FID_IID:\n",
    "#phase_w_names_IDs <- merge(df, dictionary, by.x = \"Genotype\", by.y = \"Name\", all.x = FALSE, all.y = TRUE)\n",
    "#phase_w_names_IDs <- merge(as.data.table(id_order), phase_w_names_IDs, by.x = \"id_order\", by.y = \"ID\", all.x = TRUE, all.y = FALSE)"
   ]
  },
  {
   "cell_type": "markdown",
   "metadata": {},
   "source": [
    "#### Order according to ID list"
   ]
  },
  {
   "cell_type": "code",
   "execution_count": null,
   "metadata": {},
   "outputs": [],
   "source": [
    "phase_w_names_IDs <- merge(id_order_table,\n",
    "                           df,\n",
    "                           by = \"Genotype\",\n",
    "                           all.x = TRUE,\n",
    "                           all.y = FALSE)"
   ]
  },
  {
   "cell_type": "code",
   "execution_count": null,
   "metadata": {},
   "outputs": [],
   "source": [
    "colnames(phase_w_names_IDs)"
   ]
  },
  {
   "cell_type": "code",
   "execution_count": null,
   "metadata": {},
   "outputs": [],
   "source": [
    "colnames(diameter_w_names_IDs)"
   ]
  },
  {
   "cell_type": "markdown",
   "metadata": {},
   "source": [
    "### Combine into a single covariate `data.frame`"
   ]
  },
  {
   "cell_type": "code",
   "execution_count": null,
   "metadata": {},
   "outputs": [],
   "source": [
    "covariates_out <- cbind(diameter_w_names_IDs$diameter_mm,\n",
    "                        phase_w_names_IDs[,2:9])"
   ]
  },
  {
   "cell_type": "code",
   "execution_count": null,
   "metadata": {},
   "outputs": [],
   "source": [
    "colnames(covariates_out) <- c(\"Stem_diam_mm\", \"Ph1\", \"Ph2\", \"Ph3\", \"Ph4\", \"Ph5\", \"Ph6\", \"Ph7\", \"Ph8\")"
   ]
  },
  {
   "cell_type": "code",
   "execution_count": null,
   "metadata": {},
   "outputs": [],
   "source": [
    "head(covariates_out)"
   ]
  },
  {
   "cell_type": "markdown",
   "metadata": {},
   "source": [
    "### Write"
   ]
  },
  {
   "cell_type": "code",
   "execution_count": null,
   "metadata": {},
   "outputs": [],
   "source": [
    "fwrite(covariates_out, \"../../covariate_files/stem_regen_covariates/Covariates_Stem_AllPhases.txt\",\n",
    "      row.names = FALSE, sep = \"\\t\")"
   ]
  }
 ],
 "metadata": {
  "kernelspec": {
   "display_name": "R",
   "language": "R",
   "name": "ir"
  },
  "language_info": {
   "codemirror_mode": "r",
   "file_extension": ".r",
   "mimetype": "text/x-r-source",
   "name": "R",
   "pygments_lexer": "r",
   "version": "4.1.3"
  },
  "toc-autonumbering": true
 },
 "nbformat": 4,
 "nbformat_minor": 4
}
