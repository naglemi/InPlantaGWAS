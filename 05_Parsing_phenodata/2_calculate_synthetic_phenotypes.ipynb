{
 "cells": [
  {
   "cell_type": "markdown",
   "metadata": {},
   "source": [
    "# Produce synthetic phenotypes"
   ]
  },
  {
   "cell_type": "markdown",
   "metadata": {},
   "source": [
    "Synthetic phenotypes include principal components, growth rates, and timepoint of first organ appearance. We will run GWAS over each of these synthetic phenotypes in addition to the raw traits used to calculate them. Later, we will also run multivariate GWAS over traits used to compute synthetic phenotypes, and see how these results compare."
   ]
  },
  {
   "cell_type": "code",
   "execution_count": null,
   "metadata": {},
   "outputs": [],
   "source": [
    "library(factoextra) # used to obtain eigenvectors from PCA"
   ]
  },
  {
   "cell_type": "code",
   "execution_count": null,
   "metadata": {},
   "outputs": [],
   "source": [
    "library(data.table)\n",
    "library(ggplot2) # For skree plot\n",
    "library(magrittr) # For clean code\n",
    "library(gplots) # For heat map"
   ]
  },
  {
   "cell_type": "markdown",
   "metadata": {},
   "source": [
    "## Callus and shoot phenotypes from stem regeneration GWAS"
   ]
  },
  {
   "cell_type": "markdown",
   "metadata": {},
   "source": [
    "### Load phenotypes and merge into a single dataframe"
   ]
  },
  {
   "cell_type": "code",
   "execution_count": null,
   "metadata": {},
   "outputs": [],
   "source": [
    "callus_2w <- read.csv(\"pheno_files/stem_regen/callus_2w.header.pheno\", sep = \"\\t\",\n",
    "                     colClasses=c(\"character\", \"character\", \"numeric\"))\n",
    "callus_3w <- read.csv(\"pheno_files/stem_regen/callus_3w.header.pheno\", sep = \"\\t\",\n",
    "                     colClasses=c(\"character\", \"character\", \"numeric\"))\n",
    "callus_4w <- read.csv(\"pheno_files/stem_regen/callus_4w.header.pheno\", sep = \"\\t\",\n",
    "                     colClasses=c(\"character\", \"character\", \"numeric\"))\n",
    "callus_5w <- read.csv(\"pheno_files/stem_regen/callus_5w.header.pheno\", sep = \"\\t\",\n",
    "                     colClasses=c(\"character\", \"character\", \"numeric\"))"
   ]
  },
  {
   "cell_type": "code",
   "execution_count": null,
   "metadata": {},
   "outputs": [],
   "source": [
    "shoot_2w <- read.csv(\"pheno_files/stem_regen/shoot_2w.header.pheno\", sep = \"\\t\",\n",
    "                     colClasses=c(\"character\", \"character\", \"numeric\"))\n",
    "shoot_3w <- read.csv(\"pheno_files/stem_regen/shoot_3w.header.pheno\", sep = \"\\t\",\n",
    "                     colClasses=c(\"character\", \"character\", \"numeric\"))\n",
    "shoot_4w <- read.csv(\"pheno_files/stem_regen/shoot_4w.header.pheno\", sep = \"\\t\",\n",
    "                     colClasses=c(\"character\", \"character\", \"numeric\"))\n",
    "shoot_5w <- read.csv(\"pheno_files/stem_regen/shoot_5w.header.pheno\", sep = \"\\t\",\n",
    "                     colClasses=c(\"character\", \"character\", \"numeric\"))"
   ]
  },
  {
   "cell_type": "code",
   "execution_count": null,
   "metadata": {},
   "outputs": [],
   "source": [
    "all_pheno <- cbind(callus_2w,\n",
    "                   callus_3w[,3],\n",
    "                   callus_4w[,3],\n",
    "                   callus_5w[,3],\n",
    "                   shoot_2w[,3],\n",
    "                   shoot_3w[,3],\n",
    "                   shoot_4w[,3],\n",
    "                   shoot_5w[,3])"
   ]
  },
  {
   "cell_type": "code",
   "execution_count": null,
   "metadata": {},
   "outputs": [],
   "source": [
    "colnames(all_pheno) <- gsub(\"\\\\[, 3\\\\]\", \"\", colnames(all_pheno))"
   ]
  },
  {
   "cell_type": "code",
   "execution_count": null,
   "metadata": {},
   "outputs": [],
   "source": [
    "head(all_pheno)"
   ]
  },
  {
   "cell_type": "markdown",
   "metadata": {},
   "source": [
    "### Calculate PCs"
   ]
  },
  {
   "cell_type": "markdown",
   "metadata": {},
   "source": [
    "We must first omit NAs since they can't go into `prcomp`, then record labels of samples that remain after NA is omitted. We will need these labels to add NAs back in and order genotypes properly after PCA (since phenotype files must have all genotypes, in a certain order)."
   ]
  },
  {
   "cell_type": "code",
   "execution_count": null,
   "metadata": {},
   "outputs": [],
   "source": [
    "all_pheno_no_NA <- na.omit(all_pheno)"
   ]
  },
  {
   "cell_type": "code",
   "execution_count": null,
   "metadata": {},
   "outputs": [],
   "source": [
    "labels <- all_pheno_no_NA[,1:2]"
   ]
  },
  {
   "cell_type": "markdown",
   "metadata": {},
   "source": [
    "#### Callus"
   ]
  },
  {
   "cell_type": "code",
   "execution_count": null,
   "metadata": {},
   "outputs": [],
   "source": [
    "pca_callus <- prcomp(all_pheno_no_NA[,3:6])"
   ]
  },
  {
   "cell_type": "code",
   "execution_count": null,
   "metadata": {},
   "outputs": [],
   "source": [
    "ind_callus <- get_pca_ind(pca_callus)$coord"
   ]
  },
  {
   "cell_type": "code",
   "execution_count": null,
   "metadata": {},
   "outputs": [],
   "source": [
    "head(pca_callus$rotation)"
   ]
  },
  {
   "cell_type": "code",
   "execution_count": null,
   "metadata": {},
   "outputs": [],
   "source": [
    "for(i in 1:4){ # Write out top 4 PCs\n",
    "    PC_pheno_callus <- cbind(labels, ind_callus[,i])\n",
    "    PC_pheno_callus <- merge(callus_2w, PC_pheno_callus, by=c(\"FID\", \"IID\"), all.x = TRUE)\n",
    "    PC_pheno_callus <- cbind(PC_pheno_callus[,c(1,2,4)])\n",
    "    colnames(PC_pheno_callus)[3] <- paste0(\"callus_PC\", i)\n",
    "    fwrite(PC_pheno_callus, paste0(\"pheno_files/stem_regen/Callus_PC\", i, \".header.pheno\"), sep=\"\\t\", row.names = FALSE, quote =FALSE, col.names = TRUE)\n",
    "    fwrite(PC_pheno_callus, paste0(\"pheno_files/stem_regen/Callus_PC\", i, \".noheader.pheno\"), sep=\"\\t\", row.names = FALSE, quote =FALSE, col.names = FALSE)\n",
    "}"
   ]
  },
  {
   "cell_type": "markdown",
   "metadata": {},
   "source": [
    "##### Provide a function for plotting PCA results, which we will use now and also later for other PC traits"
   ]
  },
  {
   "cell_type": "code",
   "execution_count": null,
   "metadata": {},
   "outputs": [],
   "source": [
    "library(RColorBrewer)"
   ]
  },
  {
   "cell_type": "code",
   "execution_count": null,
   "metadata": {},
   "outputs": [],
   "source": [
    "rev(brewer.pal(11,\"RdBu\"))[3:9]"
   ]
  },
  {
   "cell_type": "code",
   "execution_count": null,
   "metadata": {},
   "outputs": [],
   "source": [
    "par(mar=c(1,1,1,1))"
   ]
  },
  {
   "cell_type": "code",
   "execution_count": null,
   "metadata": {},
   "outputs": [],
   "source": [
    "plot_PC <- function(PC_object){\n",
    "    \n",
    "    heatmap.2(PC_object$rotation,\n",
    "              Rowv=FALSE,\n",
    "              Colv=FALSE,\n",
    "              cellnote = round(PC_object$rotation, digits = 3),\n",
    "              dendrogram = 'none',\n",
    "              notecol=\"black\",\n",
    "              trace='none',\n",
    "              key=TRUE,\n",
    "              col=rev(brewer.pal(11,\"RdBu\")[2:10]),\n",
    "              lwid = c(.01,.99),\n",
    "              lhei = c(.01,.99),\n",
    "              margins = c(5,15 ),\n",
    "              notecex = 1.4)\n",
    "\n",
    "    \n",
    "    var_explained_df <- data.frame(PC= paste0(\"PC\",1:length(PC_object$center)),\n",
    "                                   var_explained=(PC_object$sdev)^2/sum((PC_object$sdev)^2))\n",
    "    \n",
    "    var_explained_df %>%\n",
    "      ggplot(aes(x=PC,y=var_explained, group=1))+\n",
    "      geom_point(size=4)+\n",
    "      geom_line()+\n",
    "      labs(title=\"Scree plot: PCA on unscaled data\")+\n",
    "      ylab(\"Variance explained\") +\n",
    "      theme(text = element_text(size=20)) \n",
    "    \n",
    "    #screeplot(PC_object)\n",
    "    \n",
    "\n",
    "}\n",
    "\n"
   ]
  },
  {
   "cell_type": "code",
   "execution_count": null,
   "metadata": {},
   "outputs": [],
   "source": [
    "plot_PC(pca_callus)"
   ]
  },
  {
   "cell_type": "code",
   "execution_count": null,
   "metadata": {},
   "outputs": [],
   "source": [
    "library(data.table)"
   ]
  },
  {
   "cell_type": "markdown",
   "metadata": {},
   "source": [
    "#### Shoot"
   ]
  },
  {
   "cell_type": "code",
   "execution_count": null,
   "metadata": {},
   "outputs": [],
   "source": [
    "pca_shoot <- prcomp(all_pheno_no_NA[,7:10])\n",
    "ind_shoot <- get_pca_ind(pca_shoot)$coord"
   ]
  },
  {
   "cell_type": "code",
   "execution_count": null,
   "metadata": {},
   "outputs": [],
   "source": [
    "for(i in 1:4){ # Write out top 4 PCs\n",
    "    PC_pheno_shoot <- cbind(labels, ind_shoot[,i])\n",
    "    PC_pheno_shoot <- merge(callus_2w, PC_pheno_shoot, by=c(\"FID\", \"IID\"), all.x = TRUE)\n",
    "    PC_pheno_shoot <- cbind(PC_pheno_shoot[,c(1,2,4)])\n",
    "    colnames(PC_pheno_shoot)[3] <- paste0(\"shoot_PC\", i)\n",
    "    fwrite(PC_pheno_shoot, paste0(\"pheno_files/stem_regen/Shoot_PC\", i, \".header.pheno\"), sep=\"\\t\", row.names = FALSE, quote =FALSE, col.names = TRUE)\n",
    "    fwrite(PC_pheno_shoot, paste0(\"pheno_files/stem_regen/Shoot_PC\", i, \".noheader.pheno\"), sep=\"\\t\", row.names = FALSE, quote =FALSE, col.names = FALSE)\n",
    "}"
   ]
  },
  {
   "cell_type": "code",
   "execution_count": null,
   "metadata": {},
   "outputs": [],
   "source": [
    "plot_PC(pca_shoot)"
   ]
  },
  {
   "cell_type": "markdown",
   "metadata": {},
   "source": [
    "#### Callus *and* shoot"
   ]
  },
  {
   "cell_type": "code",
   "execution_count": null,
   "metadata": {},
   "outputs": [],
   "source": [
    "pca <- prcomp(all_pheno_no_NA[,3:10])\n",
    "ind <- get_pca_ind(pca)$coord"
   ]
  },
  {
   "cell_type": "code",
   "execution_count": null,
   "metadata": {},
   "outputs": [],
   "source": [
    "for(i in 1:4){ # Write out top 4 PCs\n",
    "    PC_pheno <- cbind(labels, ind[,i])\n",
    "    PC_pheno <- merge(callus_2w, PC_pheno, by=c(\"FID\", \"IID\"), all.x = TRUE)\n",
    "    PC_pheno <- cbind(PC_pheno[,c(1,2,4)])\n",
    "    colnames(PC_pheno)[3] <- paste0(\"CallusShoot_PC\", i)\n",
    "    fwrite(PC_pheno, paste0(\"pheno_files/stem_regen/CallusShoot_PC\", i, \".header.pheno\"), sep=\"\\t\", row.names = FALSE, quote =FALSE, col.names = TRUE)\n",
    "    fwrite(PC_pheno, paste0(\"pheno_files/stem_regen/CallusShoot_PC\", i, \".noheader.pheno\"), sep=\"\\t\", row.names = FALSE, quote =FALSE, col.names = FALSE)\n",
    "}"
   ]
  },
  {
   "cell_type": "code",
   "execution_count": null,
   "metadata": {},
   "outputs": [],
   "source": [
    "plot_PC(pca)"
   ]
  },
  {
   "cell_type": "markdown",
   "metadata": {},
   "source": [
    "### Calculate growth rate"
   ]
  },
  {
   "cell_type": "code",
   "execution_count": null,
   "metadata": {},
   "outputs": [],
   "source": [
    "callus_growth <- all_pheno$callus_5w - all_pheno$callus_2w\n",
    "shoot_growth <- all_pheno$shoot_5w - all_pheno$shoot_2w"
   ]
  },
  {
   "cell_type": "code",
   "execution_count": null,
   "metadata": {},
   "outputs": [],
   "source": [
    "callus_out <- cbind(all_pheno$FID, all_pheno$IID, callus_growth)\n",
    "shoot_out <- cbind(all_pheno$FID, all_pheno$IID, shoot_growth)"
   ]
  },
  {
   "cell_type": "code",
   "execution_count": null,
   "metadata": {},
   "outputs": [],
   "source": [
    "colnames(callus_out) <- c(\"FID\", \"IID\", \"callus_growth_wk2_wk5\")\n",
    "colnames(shoot_out) <- c(\"FID\", \"IID\", \"shoot_growth_wk2_wk5\")"
   ]
  },
  {
   "cell_type": "code",
   "execution_count": null,
   "metadata": {},
   "outputs": [],
   "source": [
    "fwrite(callus_out, paste0(\"pheno_files/stem_regen/callus_growth_wk2_wk5.header.pheno\"), sep=\"\\t\", row.names = FALSE, quote =FALSE, col.names = TRUE, na = \"NA\")\n",
    "fwrite(shoot_out, paste0(\"pheno_files/stem_regen/shoot_growth_wk2_wk5.header.pheno\"), sep=\"\\t\", row.names = FALSE, quote =FALSE, col.names = TRUE, na = \"NA\")\n",
    "\n",
    "fwrite(callus_out, paste0(\"pheno_files/stem_regen/callus_growth_wk2_wk5.noheader.pheno\"), sep=\"\\t\", row.names = FALSE, quote =FALSE, col.names = FALSE, na = \"NA\")\n",
    "fwrite(shoot_out, paste0(\"pheno_files/stem_regen/shoot_growth_wk2_wk5.noheader.pheno\"), sep=\"\\t\", row.names = FALSE, quote =FALSE, col.names = FALSE, na = \"NA\")"
   ]
  }
 ],
 "metadata": {
  "kernelspec": {
   "display_name": "R",
   "language": "R",
   "name": "ir"
  },
  "language_info": {
   "codemirror_mode": "r",
   "file_extension": ".r",
   "mimetype": "text/x-r-source",
   "name": "R",
   "pygments_lexer": "r",
   "version": "4.1.3"
  },
  "toc-autonumbering": true
 },
 "nbformat": 4,
 "nbformat_minor": 4
}
