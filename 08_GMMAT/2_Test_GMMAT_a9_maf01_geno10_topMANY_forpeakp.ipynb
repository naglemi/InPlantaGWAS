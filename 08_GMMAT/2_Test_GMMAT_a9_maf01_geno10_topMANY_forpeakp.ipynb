{
 "cells": [
  {
   "cell_type": "markdown",
   "metadata": {},
   "source": [
    "# Run GMMAT Wald test over top SNPs for traits with maf > 0.01"
   ]
  },
  {
   "cell_type": "code",
   "execution_count": null,
   "metadata": {},
   "outputs": [],
   "source": [
    "source(\"R/GMMAT_utils.R\")\n",
    "source(\"R/misc_utils.R\")"
   ]
  },
  {
   "cell_type": "code",
   "execution_count": null,
   "metadata": {},
   "outputs": [],
   "source": [
    "library(GMMAT)\n",
    "library(biclust)\n",
    "library(tools)\n",
    "library(data.table)\n",
    "library(CMplot)\n",
    "library(ggplot2)\n",
    "library(ggrepel)"
   ]
  },
  {
   "cell_type": "markdown",
   "metadata": {},
   "source": [
    "## Load our data"
   ]
  },
  {
   "cell_type": "markdown",
   "metadata": {},
   "source": [
    "### Set paths for kinship matrix and SNP matrix, which will be same for everything*"
   ]
  },
  {
   "cell_type": "code",
   "execution_count": null,
   "metadata": {},
   "outputs": [],
   "source": [
    "kinship_path <- \"../07_GEMMA/output/1323_cohort_maf01_geno10.cXX.txt\""
   ]
  },
  {
   "cell_type": "markdown",
   "metadata": {},
   "source": [
    "\\* Note we are performing missing rate filtering AFTER association mapping because we are using same file as for GEMMA with missing rate filter of 0.10. Later, make new file that is pre-filtered to save time running GMMAT and FarmCPU, which do not exclude SNPs based on missing rate."
   ]
  },
  {
   "cell_type": "code",
   "execution_count": null,
   "metadata": {},
   "outputs": [],
   "source": [
    "gds_path <- \"1323_cohort_maf01_geno10.snp.pass.gds\""
   ]
  },
  {
   "cell_type": "code",
   "execution_count": null,
   "metadata": {},
   "outputs": [],
   "source": [
    "ncores <- 22"
   ]
  },
  {
   "cell_type": "code",
   "execution_count": null,
   "metadata": {},
   "outputs": [],
   "source": [
    "outdir <- \"Results/maf01_geno10/\""
   ]
  },
  {
   "cell_type": "code",
   "execution_count": null,
   "metadata": {},
   "outputs": [],
   "source": [
    "if(!dir.exists(outdir)){\n",
    "    dir.create(outdir,\n",
    "              recursive = TRUE)\n",
    "}"
   ]
  },
  {
   "cell_type": "markdown",
   "metadata": {},
   "source": [
    "List of heritable traits"
   ]
  },
  {
   "cell_type": "code",
   "execution_count": null,
   "metadata": {},
   "outputs": [],
   "source": [
    "h2_table <- fread(\"/mnt/data/NSF_GWAS/notebooks/InPlantaGWAS/11_Data_mining/sorted_h2_table_with_raw_names_added.csv\")"
   ]
  },
  {
   "cell_type": "code",
   "execution_count": null,
   "metadata": {},
   "outputs": [],
   "source": [
    "heritable_traits <- h2_table$raw_trait_name[which(\n",
    "h2_table$h2 > 0.10)]"
   ]
  },
  {
   "cell_type": "markdown",
   "metadata": {},
   "source": [
    "## Timepoint 4 was not taken in Ph. 1 or Ph. 3"
   ]
  },
  {
   "cell_type": "code",
   "execution_count": null,
   "metadata": {},
   "outputs": [],
   "source": [
    "#covariate_path <- \"../07_GEMMA/covariates/Stem_regen_diam_and_phases_sansPh8.cov\"\n",
    "covariate_path <- \"../07_GEMMA/covariates/Stem_regen_diam_and_phases_sansPh1Ph3Ph8.cov\""
   ]
  },
  {
   "cell_type": "code",
   "execution_count": null,
   "metadata": {},
   "outputs": [],
   "source": [
    "phenotype_paths <- list.files(\"../05_Parsing_phenodata/pheno_files/stem_regen/\",\n",
    "                              pattern = \"4w_binarized\\\\.header\\\\.\",\n",
    "                              full.names = TRUE)"
   ]
  },
  {
   "cell_type": "code",
   "execution_count": null,
   "metadata": {},
   "outputs": [],
   "source": [
    "# for(phenotype in phenotype_paths[2]){\n",
    "#     GMMAT_workflow(phenotype_path = phenotype,\n",
    "#                    covariate_path = covariate_path,\n",
    "#                    kinship_path = kinship_path,\n",
    "#                    gds_path = gds_path,\n",
    "#                    ncores = ncores,\n",
    "#                    n_SNPs = 10000,\n",
    "#                    pthresh = 1e-4,\n",
    "#                    outdir = outdir)\n",
    "# }"
   ]
  },
  {
   "cell_type": "markdown",
   "metadata": {},
   "source": [
    "## PC traits only exist for genotypes studied in all timepoints"
   ]
  },
  {
   "cell_type": "code",
   "execution_count": null,
   "metadata": {},
   "outputs": [],
   "source": [
    "outdir <- \"Results/batch4_maf01_geno10/\""
   ]
  },
  {
   "cell_type": "markdown",
   "metadata": {},
   "source": [
    "Same covariate file we just used for timepoint 4..."
   ]
  },
  {
   "cell_type": "code",
   "execution_count": null,
   "metadata": {},
   "outputs": [],
   "source": [
    "covariate_path <- \"../07_GEMMA/covariates/Stem_regen_diam_and_phases_sansPh1Ph3Ph8.cov\""
   ]
  },
  {
   "cell_type": "code",
   "execution_count": null,
   "metadata": {},
   "outputs": [],
   "source": [
    "phenotype_paths <- list.files(\"../05_Parsing_phenodata/pheno_files/stem_regen\",\n",
    "                              pattern = \"\\\\.binary\\\\.header\",\n",
    "                              full.names = TRUE)\n",
    "\n",
    "length(phenotype_paths)"
   ]
  },
  {
   "cell_type": "code",
   "execution_count": null,
   "metadata": {},
   "outputs": [],
   "source": [
    "# for(phenotype in phenotype_paths){\n",
    "#     GMMAT_workflow(phenotype_path = phenotype,\n",
    "#                    covariate_path = covariate_path,\n",
    "#                    kinship_path = kinship_path,\n",
    "#                    gds_path = gds_path,\n",
    "#                    ncores = ncores)\n",
    "# }"
   ]
  },
  {
   "cell_type": "code",
   "execution_count": null,
   "metadata": {},
   "outputs": [],
   "source": [
    "phenotype_paths_subset <- phenotype_paths_subset[grepl(\"PC\", phenotype_paths_subset)]"
   ]
  },
  {
   "cell_type": "code",
   "execution_count": null,
   "metadata": {},
   "outputs": [],
   "source": [
    "phenotype_paths_subset <- phenotype_paths[grep(paste(desired_substrings, collapse = \"|\"),\n",
    "                                               phenotype_paths)]"
   ]
  },
  {
   "cell_type": "code",
   "execution_count": null,
   "metadata": {},
   "outputs": [],
   "source": [
    "length(phenotype_paths_subset)"
   ]
  },
  {
   "cell_type": "code",
   "execution_count": null,
   "metadata": {
    "tags": []
   },
   "outputs": [],
   "source": [
    "for(phenotype in phenotype_paths_subset){\n",
    "    GMMAT_workflow(phenotype_path = phenotype,\n",
    "                   covariate_path = covariate_path,\n",
    "                   kinship_path = kinship_path,\n",
    "                   gds_path = gds_path,\n",
    "                   ncores = ncores,\n",
    "                   n_SNPs = 1000,\n",
    "                   pthresh = 1e-4,\n",
    "                   outdir = outdir)\n",
    "}"
   ]
  },
  {
   "cell_type": "markdown",
   "metadata": {},
   "source": [
    "## Timepoint 5 was not taken in Ph. 1"
   ]
  },
  {
   "cell_type": "code",
   "execution_count": null,
   "metadata": {},
   "outputs": [],
   "source": [
    "#covariate_path <- \"../07_GEMMA/covariates/Stem_regen_diam_and_phases_sansPh8.cov\"\n",
    "covariate_path <- \"../07_GEMMA/covariates/Stem_regen_diam_and_phases_sansPh1Ph8.cov\""
   ]
  },
  {
   "cell_type": "code",
   "execution_count": null,
   "metadata": {},
   "outputs": [],
   "source": [
    "phenotype_paths <- list.files(\"../05_Parsing_phenodata/pheno_files/stem_regen/\",\n",
    "                              pattern = \"5w_binarized\\\\.header\\\\.\",\n",
    "                              full.names = TRUE)"
   ]
  },
  {
   "cell_type": "code",
   "execution_count": null,
   "metadata": {},
   "outputs": [],
   "source": [
    "# for(phenotype in phenotype_paths){\n",
    "#     GMMAT_workflow(phenotype_path = phenotype,\n",
    "#                    covariate_path = covariate_path,\n",
    "#                    kinship_path = kinship_path,\n",
    "#                    gds_path = gds_path,\n",
    "#                    ncores = ncores)\n",
    "# }"
   ]
  },
  {
   "cell_type": "markdown",
   "metadata": {},
   "source": [
    "## Timepoint 2 and 3 were taken for all phases."
   ]
  },
  {
   "cell_type": "markdown",
   "metadata": {},
   "source": [
    "However, note we still leave Ph. 8 out to avoid singular matrix. One phase must be assigned to intercept."
   ]
  },
  {
   "cell_type": "code",
   "execution_count": null,
   "metadata": {},
   "outputs": [],
   "source": [
    "covariate_path <- \"../07_GEMMA/covariates/Stem_regen_diam_and_phases_sansPh8.cov\""
   ]
  },
  {
   "cell_type": "code",
   "execution_count": null,
   "metadata": {},
   "outputs": [],
   "source": [
    "phenotype_paths <- c(list.files(\"../05_Parsing_phenodata/pheno_files/stem_regen/\",\n",
    "                                pattern = \"2w_binarized\\\\.header\\\\.\",\n",
    "                                full.names = TRUE),\n",
    "                     list.files(\"../05_Parsing_phenodata/pheno_files/stem_regen/\",\n",
    "                                pattern = \"3w_binarized\\\\.header\\\\.\",\n",
    "                                full.names = TRUE))"
   ]
  },
  {
   "cell_type": "code",
   "execution_count": null,
   "metadata": {},
   "outputs": [],
   "source": [
    "# THIS HAS ALREADY BEEN RUN but with n_SNPs = 100. Re-run last part with n_SNPs = 1000 later...\n",
    "# for(phenotype in phenotype_paths){\n",
    "#     GMMAT_workflow(phenotype_path = phenotype,\n",
    "#                    covariate_path = covariate_path,\n",
    "#                    kinship_path = kinship_path,\n",
    "#                    gds_path = gds_path,\n",
    "#                    ncores = ncores)\n",
    "# }"
   ]
  },
  {
   "cell_type": "code",
   "execution_count": null,
   "metadata": {},
   "outputs": [],
   "source": []
  }
 ],
 "metadata": {
  "kernelspec": {
   "display_name": "R",
   "language": "R",
   "name": "ir"
  },
  "language_info": {
   "codemirror_mode": "r",
   "file_extension": ".r",
   "mimetype": "text/x-r-source",
   "name": "R",
   "pygments_lexer": "r",
   "version": "4.1.3"
  },
  "toc-autonumbering": true,
  "toc-showcode": false
 },
 "nbformat": 4,
 "nbformat_minor": 4
}
