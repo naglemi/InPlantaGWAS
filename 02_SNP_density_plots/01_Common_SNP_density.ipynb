{
 "cells": [
  {
   "cell_type": "markdown",
   "metadata": {},
   "source": [
    "# Produce SNP density plots for ***common*** SNPs\n",
    "## for 1323-genotype SNP set filtered to all SNPs with MAF *above* 0.05"
   ]
  },
  {
   "cell_type": "markdown",
   "metadata": {},
   "source": [
    "##### We can make SNP density plots for \n",
    "###### 1) 1323-genotype SNP set \n",
    "###### -and- \n",
    "###### 2) 917-genotype SNP set \n",
    "###### -both with- \n",
    "###### A) minor allele frequency (MAF) lower threshold of 0.05 and \n",
    "###### B) maximum MAF of 0.05"
   ]
  },
  {
   "cell_type": "markdown",
   "metadata": {},
   "source": [
    "<div class=\"alert alert-block alert-info\"> Note: In this initial version of this notebook, the only SNP density plots produced are for 1A: the 1323-genotype SNP set filtered to SNPs of at least 0.05 MAF threshold. Upon inspection of this along with a complementary version of the notebook for analyzing rare SNPs, we will make a determination as to next steps.  </div>"
   ]
  },
  {
   "cell_type": "markdown",
   "metadata": {},
   "source": [
    "##### Let's also write an R function for identifying gaps between SNPs (at bottom of notebook, after making SNP density plots)"
   ]
  },
  {
   "cell_type": "markdown",
   "metadata": {},
   "source": [
    "Load data in PLINK binary format into `R` using `snpStats::read.plink` (available through Bioconductor repository)"
   ]
  },
  {
   "cell_type": "code",
   "execution_count": null,
   "metadata": {},
   "outputs": [],
   "source": [
    "install.packages(\"snpStats\") # install from CRAN for sake of simplicity"
   ]
  },
  {
   "cell_type": "code",
   "execution_count": null,
   "metadata": {},
   "outputs": [],
   "source": [
    "if (!require(\"BiocManager\", quietly = TRUE))\n",
    "    install.packages(\"BiocManager\")\n",
    "BiocManager::install(version = \"3.10\")"
   ]
  },
  {
   "cell_type": "code",
   "execution_count": null,
   "metadata": {
    "tags": []
   },
   "outputs": [],
   "source": [
    "BiocManager::install(\"snpStats\")"
   ]
  },
  {
   "cell_type": "markdown",
   "metadata": {},
   "source": [
    "#### 1A) 1323-genotype SNP set filtered with lower MAF threshold of 0.05"
   ]
  },
  {
   "cell_type": "code",
   "execution_count": null,
   "metadata": {},
   "outputs": [],
   "source": [
    "library(snpStats)"
   ]
  },
  {
   "cell_type": "code",
   "execution_count": null,
   "metadata": {},
   "outputs": [],
   "source": [
    "geno1323_maf05 <- read.plink(\"../00_SNP_format_conversions/1323_cohort_maf0.05_defaultmissingrates.snp.pass.bed\")"
   ]
  },
  {
   "cell_type": "markdown",
   "metadata": {},
   "source": [
    "This data is loaded in `snpMatrix` format, explained in the vignette documentation here http://www.bioconductor.org/packages//2.7/bioc/vignettes/snpMatrix/inst/doc/snpMatrix-vignette.pdf"
   ]
  },
  {
   "cell_type": "markdown",
   "metadata": {},
   "source": [
    "##### Let's inspect this data to determine what steps are needed to get it into the appropriate format for `CMplot`"
   ]
  },
  {
   "cell_type": "code",
   "execution_count": null,
   "metadata": {},
   "outputs": [],
   "source": [
    "# show(geno1323_maf05)"
   ]
  },
  {
   "cell_type": "markdown",
   "metadata": {},
   "source": [
    "The `map` attribute contains the SNPs themselves – this is the data we need to pass to `CMplot`"
   ]
  },
  {
   "cell_type": "code",
   "execution_count": null,
   "metadata": {},
   "outputs": [],
   "source": [
    "#install.packages(\"CMplot\")"
   ]
  },
  {
   "cell_type": "code",
   "execution_count": null,
   "metadata": {},
   "outputs": [],
   "source": [
    "library(CMplot)"
   ]
  },
  {
   "cell_type": "code",
   "execution_count": null,
   "metadata": {},
   "outputs": [],
   "source": [
    "#?CMplot"
   ]
  },
  {
   "cell_type": "markdown",
   "metadata": {},
   "source": [
    "The `CMplot` documentation notes a few important criteria for preparing our data in the appropriate format.<br>\n",
    "1. Data must be in a `dataframe` object.\n",
    "2. \"The first column is the name of SNP, the second column is the chromosome of SNP, the third column is the position of SNP, and the remaining columns are the P-value of each trait(Note:each trait a column)\""
   ]
  },
  {
   "cell_type": "markdown",
   "metadata": {},
   "source": [
    "<div class=\"alert alert-block alert-warning\"> How does the format of our existing data, read in from `read.plink` differ from what is required by `CMplot`? </div>\n"
   ]
  },
  {
   "cell_type": "code",
   "execution_count": null,
   "metadata": {},
   "outputs": [],
   "source": [
    "is.data.frame(geno1323_maf05$map)"
   ]
  },
  {
   "cell_type": "code",
   "execution_count": null,
   "metadata": {},
   "outputs": [],
   "source": [
    "#colnames(geno1323_maf05$map)"
   ]
  },
  {
   "cell_type": "code",
   "execution_count": null,
   "metadata": {},
   "outputs": [],
   "source": [
    "data_CMplot <- geno1323_maf05$map[, c(2, 1, 4, 3, 5, 6)] # Create a copy of the data and reorder first 4 columns as needed"
   ]
  },
  {
   "cell_type": "code",
   "execution_count": null,
   "metadata": {},
   "outputs": [],
   "source": [
    "data_CMplot <- data_CMplot[!grepl(\"scaffold\", # exclude unanchored scaffolds\n",
    "                                  data_CMplot$chromosome), ]"
   ]
  },
  {
   "cell_type": "code",
   "execution_count": null,
   "metadata": {},
   "outputs": [],
   "source": [
    "nrow(data_CMplot) # number of SNPs anchored to Chr in this filtered SNP set"
   ]
  },
  {
   "cell_type": "code",
   "execution_count": null,
   "metadata": {},
   "outputs": [],
   "source": [
    "#levels(factor(data_CMplot$chromosome)) # Make sure we only have contiguous, anchored scaffolds"
   ]
  },
  {
   "cell_type": "code",
   "execution_count": null,
   "metadata": {},
   "outputs": [],
   "source": [
    "CMplot(data_CMplot,\n",
    "       type = \"p\", # This parameter is shown in the example for making density plots with CMplot, but not explained in docs\n",
    "       plot.type = \"d\", # Make a SNP density plot\n",
    "       bin.size = 1e6,\n",
    "       chr.den.col = c(\"red\", \"orange\", \"yellow\", \"darkgreen\", \"blue\", \"purple\"), # Choose heat map color scale\n",
    "       # file=\"jpg\", # We want to make plots in Jupyter instead of saving to an output file\n",
    "       file.output = FALSE, # See above note\n",
    "       memo=\"\",\n",
    "       dpi = 300, # Nice high resolution\n",
    "       verbose = TRUE,\n",
    "       width = 9,\n",
    "       height = 6)"
   ]
  },
  {
   "cell_type": "markdown",
   "metadata": {},
   "source": [
    "Let's take a look with a smaller window size (1kb)"
   ]
  },
  {
   "cell_type": "code",
   "execution_count": null,
   "metadata": {},
   "outputs": [],
   "source": [
    "CMplot(data_CMplot,\n",
    "       type = \"p\", # This parameter is shown in the example for making density plots with CMplot, but not explained in docs\n",
    "       plot.type = \"d\", # Make a SNP density plot\n",
    "       bin.size = 1e3,\n",
    "       chr.den.col = c(\"darkgreen\", \"yellow\", \"red\"), # Choose heat map color scale\n",
    "       # file=\"jpg\", # We want to make plots in Jupyter instead of saving to an output file\n",
    "       file.output = FALSE, # See above note\n",
    "       memo=\"\",\n",
    "       dpi = 300, # Nice high resolution\n",
    "       verbose = TRUE,\n",
    "       width = 9,\n",
    "       height = 6)"
   ]
  },
  {
   "cell_type": "markdown",
   "metadata": {},
   "source": [
    "<div class=\"alert alert-block alert-warning\"> It is rather difficult to get much information from this SNP density plot with 1kb bins, since it appears most 1kb regions have a single SNP. However, we do not see any big white spots, indicative of long regions with no SNPs. </div>"
   ]
  },
  {
   "cell_type": "markdown",
   "metadata": {},
   "source": [
    "##### Once more with bin size of 10kb..."
   ]
  },
  {
   "cell_type": "code",
   "execution_count": null,
   "metadata": {},
   "outputs": [],
   "source": [
    "CMplot(data_CMplot,\n",
    "       type = \"p\", # This parameter is shown in the example for making density plots with CMplot, but not explained in docs\n",
    "       plot.type = \"d\", # Make a SNP density plot\n",
    "       bin.size = 1e4,\n",
    "       chr.den.col = c(\"darkgreen\", \"yellow\", \"red\"), # Choose heat map color scale\n",
    "       # file=\"jpg\", # We want to make plots in Jupyter instead of saving to an output file\n",
    "       file.output = FALSE, # See above note\n",
    "       memo=\"\",\n",
    "       dpi = 300, # Nice high resolution\n",
    "       verbose = TRUE,\n",
    "       width = 9,\n",
    "       height = 6)"
   ]
  },
  {
   "cell_type": "markdown",
   "metadata": {},
   "source": [
    "### Provide an R function for identifying gaps between SNPs"
   ]
  },
  {
   "cell_type": "code",
   "execution_count": null,
   "metadata": {},
   "outputs": [],
   "source": [
    "options(repr.plot.width=10, repr.plot.height=5)"
   ]
  },
  {
   "cell_type": "code",
   "execution_count": null,
   "metadata": {},
   "outputs": [],
   "source": [
    "SNP_gap_hist <- function(data,\n",
    "                         Chr,\n",
    "                         gap_min,\n",
    "                         bin_width,\n",
    "                         plot,\n",
    "                         output_dir){\n",
    "\n",
    "    data_this_Chr <- data[which(data$chromosome == Chr), ]\n",
    "\n",
    "    prior_adjacent_SNPs <- c(NA, # The first SNP on a given chromosome has no SNP before it\n",
    "                             data_this_Chr[-nrow(data_this_Chr), ]$position) # By excluding the final SNP and taking position... \n",
    "    # We obtain a vector of all SNP positions for a SNP prior to each given SNP.\n",
    "\n",
    "    SNP_gaps <- data_this_Chr$position - prior_adjacent_SNPs # Measure sizes of gaps between adjacent SNPs\n",
    "\n",
    "    print(paste0(\"Maximum length of any gap between two SNPs on Chromosome \",\n",
    "                 Chr,\n",
    "                 \" is \",\n",
    "                 max(na.omit(SNP_gaps))))\n",
    "\n",
    "    data_this_Chr$distance_from_last <- SNP_gaps\n",
    "\n",
    "    # Produce a table of all SNP data for SNPs with >1kb gaps, ordered from largest to smallest gap\n",
    "    data_this_Chr_gaps_over_Xbp <- data_this_Chr[which(data_this_Chr$distance_from_last > gap_min), ] \n",
    "\n",
    "    print(paste0(\"There exist \",\n",
    "                 nrow(data_this_Chr_gaps_over_Xbp),\n",
    "                 \" gaps between adjacent SNPs on Chromosome \",\n",
    "                 Chr,\n",
    "                 \" greater than \",\n",
    "                 gap_min,\n",
    "                 \" bp\"))\n",
    "\n",
    "    SNPS_w_gaps_gt_gap_min <- data_this_Chr_gaps_over_Xbp[order(data_this_Chr_gaps_over_Xbp$distance_from_last,\n",
    "                                                                 decreasing = TRUE), ]\n",
    "\n",
    "    if(plot == TRUE){\n",
    "        hist(SNPS_w_gaps_gt_gap_min$distance_from_last,\n",
    "             col = \"lightblue\",\n",
    "             main = paste0(\"Histogram of lengths of >\",\n",
    "                           gap_min/1e3,\n",
    "                           \"kb gaps between adjacent SNPs on Chr. \", Chr),\n",
    "             xlab = \"Distance (in base pairs) of a given SNP from previous SNP\",\n",
    "             breaks = seq(0,\n",
    "                          max(SNPS_w_gaps_gt_gap_min$distance_from_last) + bin_width,\n",
    "                          by = bin_width),\n",
    "             ylab = \"Number of SNPs in bin\")\n",
    "    }\n",
    "    \n",
    "    if(!dir.exists(output_dir)) dir.create(output_dir)\n",
    "    \n",
    "    fwrite(SNPS_w_gaps_gt_gap_min,\n",
    "           paste0(\"Chr\", Chr, \"_gt\", gap_min, \"bp_gaps.csv\"))\n",
    "    \n",
    "}\n"
   ]
  },
  {
   "cell_type": "code",
   "execution_count": null,
   "metadata": {},
   "outputs": [],
   "source": [
    "head(data_CMplot)"
   ]
  },
  {
   "cell_type": "code",
   "execution_count": null,
   "metadata": {},
   "outputs": [],
   "source": [
    "library(data.table)"
   ]
  },
  {
   "cell_type": "code",
   "execution_count": null,
   "metadata": {},
   "outputs": [],
   "source": [
    "for(Chr in sort(as.numeric(as.character(\n",
    "    levels(factor(data_CMplot$chromosome)))))){\n",
    "    SNP_gap_hist(data = data_CMplot,\n",
    "                 Chr = Chr,\n",
    "                 gap_min = 1e4,\n",
    "                 bin_width = 1e3,\n",
    "                 plot = TRUE,\n",
    "                 output_dir = 'Common_SNP_gaps_gt10kb')\n",
    "}"
   ]
  },
  {
   "cell_type": "code",
   "execution_count": null,
   "metadata": {},
   "outputs": [],
   "source": []
  },
  {
   "cell_type": "code",
   "execution_count": null,
   "metadata": {},
   "outputs": [],
   "source": []
  }
 ],
 "metadata": {
  "kernelspec": {
   "display_name": "R 4.1",
   "language": "R",
   "name": "ir41"
  },
  "language_info": {
   "codemirror_mode": "r",
   "file_extension": ".r",
   "mimetype": "text/x-r-source",
   "name": "R",
   "pygments_lexer": "r",
   "version": "4.1.3"
  }
 },
 "nbformat": 4,
 "nbformat_minor": 4
}
