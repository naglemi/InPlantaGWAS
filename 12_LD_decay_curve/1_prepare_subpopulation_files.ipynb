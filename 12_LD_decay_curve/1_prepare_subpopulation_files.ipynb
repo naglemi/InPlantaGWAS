{
 "cells": [
  {
   "cell_type": "markdown",
   "metadata": {},
   "source": [
    "# Prepare files for PLINK subsetting to subpopulation"
   ]
  },
  {
   "cell_type": "markdown",
   "metadata": {},
   "source": [
    "We need... \"a space/tab-delimited text file with family IDs in the first column and within-family IDs in the second column\""
   ]
  },
  {
   "cell_type": "markdown",
   "metadata": {},
   "source": [
    "We will make one for California subpopulation (2) and one for Oregon subpopulation (5) as determined by fastSTRUCTURE with k = 7"
   ]
  },
  {
   "cell_type": "code",
   "execution_count": null,
   "metadata": {},
   "outputs": [],
   "source": [
    "library(data.table)"
   ]
  },
  {
   "cell_type": "code",
   "execution_count": null,
   "metadata": {},
   "outputs": [],
   "source": [
    "subpop <- fread(\"../04_Phylogenetics/Evaluate_fastStructure_results/PCs_clusters_geography_both_specClust_and_fastStructure.csv\")"
   ]
  },
  {
   "cell_type": "code",
   "execution_count": null,
   "metadata": {},
   "outputs": [],
   "source": [
    "head(subpop)"
   ]
  },
  {
   "cell_type": "code",
   "execution_count": null,
   "metadata": {},
   "outputs": [],
   "source": [
    "subpop2 <- subpop$Genotype[which(subpop$k7_clusters == 2)]\n",
    "subpop2 <- cbind(subpop2, subpop2)\n",
    "fwrite(subpop2, \"subpop2_CA_list.tbt\", sep = \"\\t\", col.names = FALSE)"
   ]
  },
  {
   "cell_type": "code",
   "execution_count": null,
   "metadata": {},
   "outputs": [],
   "source": [
    "subpop5 <- subpop$Genotype[which(subpop$k7_clusters == 5)]\n",
    "subpop5 <- cbind(subpop5, subpop5)\n",
    "fwrite(subpop5, \"subpop5_OR_list.tbt\", sep = \"\\t\", col.names = FALSE)"
   ]
  },
  {
   "cell_type": "code",
   "execution_count": null,
   "metadata": {},
   "outputs": [],
   "source": []
  }
 ],
 "metadata": {
  "kernelspec": {
   "display_name": "R",
   "language": "R",
   "name": "ir"
  },
  "language_info": {
   "codemirror_mode": "r",
   "file_extension": ".r",
   "mimetype": "text/x-r-source",
   "name": "R",
   "pygments_lexer": "r",
   "version": "4.1.3"
  }
 },
 "nbformat": 4,
 "nbformat_minor": 4
}
