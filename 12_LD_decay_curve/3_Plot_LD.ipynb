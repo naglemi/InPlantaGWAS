{
 "cells": [
  {
   "cell_type": "markdown",
   "metadata": {},
   "source": [
    "# Plot LD"
   ]
  },
  {
   "cell_type": "code",
   "execution_count": null,
   "metadata": {},
   "outputs": [],
   "source": [
    "library(data.table)\n",
    "library(dplyr)\n",
    "library(stringr)\n",
    "library(ggplot2)"
   ]
  },
  {
   "cell_type": "markdown",
   "metadata": {
    "tags": []
   },
   "source": [
    "## Load and prepare data"
   ]
  },
  {
   "cell_type": "code",
   "execution_count": null,
   "metadata": {},
   "outputs": [],
   "source": [
    "data <- \"LDMAP_0.05maf_0.1geno_0.01thin.ld.summary\""
   ]
  },
  {
   "cell_type": "code",
   "execution_count": null,
   "metadata": {},
   "outputs": [],
   "source": [
    "dfr <- read.delim(data,sep=\"\",header=F,check.names=F,stringsAsFactors=F)\n",
    "colnames(dfr) <- c(\"dist\",\"rsq\")\n",
    "#dfr$dist <- dfr$dist/1000\n",
    "\n",
    "agg1 <- aggregate(rsq ~ dist, data=dfr, mean)\n",
    "\n",
    "agg1$dist <- as.double(agg1$dist) / 1000"
   ]
  },
  {
   "cell_type": "code",
   "execution_count": null,
   "metadata": {},
   "outputs": [],
   "source": [
    "data.2 <- \"LDMAP_0.05maf_0.1geno_0.01thin_subpop2CA.ld.summary\""
   ]
  },
  {
   "cell_type": "code",
   "execution_count": null,
   "metadata": {},
   "outputs": [],
   "source": [
    "dfr2 <- read.delim(data.2,sep=\"\",header=F,check.names=F,stringsAsFactors=F)\n",
    "colnames(dfr2) <- c(\"dist\",\"rsq\")\n",
    "\n",
    "agg2 <- aggregate(rsq ~ dist, data=dfr2, mean)\n",
    "\n",
    "agg2$dist <- as.double(agg2$dist) / 1000"
   ]
  },
  {
   "cell_type": "code",
   "execution_count": null,
   "metadata": {},
   "outputs": [],
   "source": [
    "data.3 <- \"LDMAP_0.05maf_0.1geno_0.01thin_subpop5OR.ld.summary\""
   ]
  },
  {
   "cell_type": "code",
   "execution_count": null,
   "metadata": {},
   "outputs": [],
   "source": [
    "dfr3 <- read.delim(data.3,sep=\"\",header=F,check.names=F,stringsAsFactors=F)\n",
    "colnames(dfr3) <- c(\"dist\",\"rsq\")\n",
    "\n",
    "agg3 <- aggregate(rsq ~ dist, data=dfr3, mean)\n",
    "\n",
    "agg3$dist <- as.double(agg3$dist) / 1000"
   ]
  },
  {
   "cell_type": "code",
   "execution_count": null,
   "metadata": {},
   "outputs": [],
   "source": [
    "dfr2$population <- \"CA\"\n",
    "dfr3$population <- \"OR\""
   ]
  },
  {
   "cell_type": "code",
   "execution_count": null,
   "metadata": {},
   "outputs": [],
   "source": [
    "CA_and_OR_complete <- rbind(dfr2, dfr3)"
   ]
  },
  {
   "cell_type": "markdown",
   "metadata": {
    "tags": []
   },
   "source": [
    "## Make plots"
   ]
  },
  {
   "cell_type": "code",
   "execution_count": null,
   "metadata": {},
   "outputs": [],
   "source": [
    "agg1$population <- \"All\"\n",
    "agg2$population <- \"CA\"\n",
    "agg3$population <- \"OR\"\n",
    "\n",
    "agg <- rbind(agg1, agg2, agg3)"
   ]
  },
  {
   "cell_type": "code",
   "execution_count": null,
   "metadata": {},
   "outputs": [],
   "source": [
    "# head(agg)"
   ]
  },
  {
   "cell_type": "code",
   "execution_count": null,
   "metadata": {},
   "outputs": [],
   "source": [
    "CA <- agg2\n",
    "OR <- agg3"
   ]
  },
  {
   "cell_type": "code",
   "execution_count": null,
   "metadata": {},
   "outputs": [],
   "source": [
    "# p1 <- ggplot(agg, aes(y=rsq, x=dist, color=population)) + \n",
    "# geom_point(shape=20,size=0.15,alpha=0.1)+\n",
    "# geom_smooth(method = 'lm', formula = y(x,2), se = TRUE)+ \n",
    "# xlim(0, 10) + \n",
    "# ylim(0, 0.7) + \n",
    "# labs(y = bquote('R'^2), x = \"Distance (kb)\") + \n",
    "# theme(text = element_text(size=20)) +\n",
    "# ggtitle(\"Whole population\")"
   ]
  },
  {
   "cell_type": "code",
   "execution_count": null,
   "metadata": {},
   "outputs": [],
   "source": [
    "# p1"
   ]
  },
  {
   "cell_type": "code",
   "execution_count": null,
   "metadata": {},
   "outputs": [],
   "source": [
    "# p2 <- ggplot(agg, aes(y=rsq, x=dist, color=population)) + \n",
    "# geom_point(shape=20,size=0.15,alpha=0.2)+\n",
    "# geom_smooth(se = TRUE)+ \n",
    "# xlim(0, 10) + \n",
    "# ylim(0, 0.7) + \n",
    "# labs(y = bquote('R'^2), x = \"Distance (kb)\") + \n",
    "# theme(text = element_text(size=20))"
   ]
  },
  {
   "cell_type": "code",
   "execution_count": null,
   "metadata": {},
   "outputs": [],
   "source": [
    "# p2"
   ]
  },
  {
   "cell_type": "code",
   "execution_count": null,
   "metadata": {},
   "outputs": [],
   "source": [
    "# p3 <- ggplot(agg, aes(y=rsq, x=dist, color=population)) + \n",
    "# geom_point(shape=20,size=0.15,alpha=0.3)+\n",
    "# geom_smooth(se = TRUE)+ \n",
    "# xlim(0, 10) + \n",
    "# ylim(0, 0.7) + \n",
    "# labs(y = bquote('R'^2), x = \"Distance (kb)\") + \n",
    "# theme(text = element_text(size=20))"
   ]
  },
  {
   "cell_type": "code",
   "execution_count": null,
   "metadata": {},
   "outputs": [],
   "source": [
    "# p3"
   ]
  },
  {
   "cell_type": "code",
   "execution_count": null,
   "metadata": {},
   "outputs": [],
   "source": [
    "# p5 <- ggplot(agg, aes(y=rsq, x=dist, color=population)) + \n",
    "# geom_point(shape=20,size=0.15,alpha=0.4)+\n",
    "# geom_smooth(method = 'lm', formula = y~poly(x,2), level = 0.95)+ \n",
    "# xlim(0, 10) + \n",
    "# ylim(0, 0.7) + \n",
    "# labs(y = bquote('R'^2), x = \"Distance (kb)\") + \n",
    "# theme(text = element_text(size=20)) +\n",
    "# ggtitle(\"Whole population\")"
   ]
  },
  {
   "cell_type": "code",
   "execution_count": null,
   "metadata": {},
   "outputs": [],
   "source": [
    "# p5 <- ggplot(agg, aes(y=rsq, x=dist, color=population)) + \n",
    "# geom_point(shape=20,size=0.15)+\n",
    "# geom_smooth(method = 'lm', formula = y~poly(x,2), level = 0.95)+ \n",
    "# xlim(0, 10) + \n",
    "# ylim(0, 0.7) + \n",
    "# labs(y = bquote('R'^2), x = \"Distance (kb)\") + \n",
    "# theme(text = element_text(size=20)) +\n",
    "# ggtitle(\"Whole population\")"
   ]
  },
  {
   "cell_type": "code",
   "execution_count": null,
   "metadata": {},
   "outputs": [],
   "source": [
    "# p5"
   ]
  },
  {
   "cell_type": "code",
   "execution_count": null,
   "metadata": {},
   "outputs": [],
   "source": [
    "# p4 <- ggplot(agg, aes(y=rsq, x=dist, color=population)) + \n",
    "# geom_point(shape=20,size=0.15,alpha=0.4)+\n",
    "# geom_smooth(se = TRUE)+ \n",
    "# xlim(0, 10) + \n",
    "# ylim(0, 0.7) + \n",
    "# labs(y = bquote('R'^2), x = \"Distance (kb)\") + \n",
    "# theme(text = element_text(size=20))"
   ]
  },
  {
   "cell_type": "code",
   "execution_count": null,
   "metadata": {},
   "outputs": [],
   "source": [
    "# p4"
   ]
  },
  {
   "cell_type": "code",
   "execution_count": null,
   "metadata": {},
   "outputs": [],
   "source": [
    "# p5 <- ggplot(agg, aes(y=rsq, x=dist, color=population)) + \n",
    "# geom_point(shape=20,size=0.15,alpha=0.5)+\n",
    "# geom_smooth(se = TRUE)+ \n",
    "# xlim(0, 10) + \n",
    "# ylim(0, 0.7) + \n",
    "# labs(y = bquote('R'^2), x = \"Distance (kb)\") + \n",
    "# theme(text = element_text(size=20))"
   ]
  },
  {
   "cell_type": "code",
   "execution_count": null,
   "metadata": {},
   "outputs": [],
   "source": [
    "# p5"
   ]
  },
  {
   "cell_type": "code",
   "execution_count": null,
   "metadata": {},
   "outputs": [],
   "source": [
    "# agg.2 <- agg[which(agg$population != \"All\"), ]"
   ]
  },
  {
   "cell_type": "code",
   "execution_count": null,
   "metadata": {},
   "outputs": [],
   "source": [
    "# p_exclude_ALL <- ggplot(agg.2, aes(y=rsq, x=dist, color=population)) + \n",
    "# geom_point(shape=20,size=0.15,alpha=0.5)+\n",
    "# geom_smooth(se = TRUE)+ \n",
    "# xlim(0, 10) + \n",
    "# ylim(0, 0.7) + \n",
    "# labs(y = bquote('R'^2), x = \"Distance (kb)\") + \n",
    "# theme(text = element_text(size=20))"
   ]
  },
  {
   "cell_type": "code",
   "execution_count": null,
   "metadata": {},
   "outputs": [],
   "source": [
    "# p_exclude_ALL"
   ]
  },
  {
   "cell_type": "code",
   "execution_count": null,
   "metadata": {},
   "outputs": [],
   "source": [
    "# agg.2 <- agg[which(agg$population == \"All\"), ]"
   ]
  },
  {
   "cell_type": "code",
   "execution_count": null,
   "metadata": {},
   "outputs": [],
   "source": [
    "# p_ALL <- ggplot(agg.2, aes(y=rsq, x=dist, color=population)) + \n",
    "# geom_point(shape=20,size=0.15,alpha=1)+\n",
    "# geom_smooth(method = 'lm', formula = y~poly(x,2), level = 0.95)+ \n",
    "# xlim(0, 10) + \n",
    "# ylim(0, 0.7) + \n",
    "# labs(y = bquote('R'^2), x = \"Distance (kb)\") + \n",
    "# theme(text = element_text(size=20))"
   ]
  },
  {
   "cell_type": "code",
   "execution_count": null,
   "metadata": {},
   "outputs": [],
   "source": [
    "# p_ALL"
   ]
  },
  {
   "cell_type": "markdown",
   "metadata": {},
   "source": [
    "## Make models"
   ]
  },
  {
   "cell_type": "markdown",
   "metadata": {},
   "source": [
    "### With all SNP relationships"
   ]
  },
  {
   "cell_type": "code",
   "execution_count": null,
   "metadata": {},
   "outputs": [],
   "source": [
    "head(CA_and_OR_complete)"
   ]
  },
  {
   "cell_type": "markdown",
   "metadata": {},
   "source": [
    "#### Polynomial for R2 over distance, indicator variable for subpop"
   ]
  },
  {
   "cell_type": "code",
   "execution_count": null,
   "metadata": {},
   "outputs": [],
   "source": [
    "library(splines)"
   ]
  },
  {
   "cell_type": "code",
   "execution_count": null,
   "metadata": {},
   "outputs": [],
   "source": [
    "CA_and_OR <- rbind(CA, OR)"
   ]
  },
  {
   "cell_type": "code",
   "execution_count": null,
   "metadata": {},
   "outputs": [],
   "source": [
    "model7 <- lm(rsq ~ ns(dist^2) + ns(dist^2):population,\n",
    "             data = CA_and_OR)"
   ]
  },
  {
   "cell_type": "code",
   "execution_count": null,
   "metadata": {},
   "outputs": [],
   "source": [
    "summary(model7)"
   ]
  },
  {
   "cell_type": "code",
   "execution_count": null,
   "metadata": {},
   "outputs": [],
   "source": [
    "fit_val <- fitted(model7)\n",
    "res_val <- resid(model7)"
   ]
  },
  {
   "cell_type": "code",
   "execution_count": null,
   "metadata": {},
   "outputs": [],
   "source": [
    "length(fit_val)"
   ]
  },
  {
   "cell_type": "code",
   "execution_count": null,
   "metadata": {},
   "outputs": [],
   "source": [
    "sampled_n <- sample(1:length(fit_val),\n",
    "                    1000000)"
   ]
  },
  {
   "cell_type": "code",
   "execution_count": null,
   "metadata": {},
   "outputs": [],
   "source": [
    "fit_val_sel <- fit_val[sampled_n]\n",
    "res_val_sel <- res_val[sampled_n]"
   ]
  },
  {
   "cell_type": "code",
   "execution_count": null,
   "metadata": {},
   "outputs": [],
   "source": [
    "min(res_val_sel)"
   ]
  },
  {
   "cell_type": "code",
   "execution_count": null,
   "metadata": {},
   "outputs": [],
   "source": [
    "hist(res_val_sel)"
   ]
  },
  {
   "cell_type": "code",
   "execution_count": null,
   "metadata": {},
   "outputs": [],
   "source": [
    "plot(fit_val_sel, res_val_sel)"
   ]
  },
  {
   "cell_type": "code",
   "execution_count": null,
   "metadata": {},
   "outputs": [],
   "source": [
    "plot(fit_val_sel, res_val_sel, xlab = \"Fitted\", ylab = \"Residuals\")"
   ]
  },
  {
   "cell_type": "markdown",
   "metadata": {},
   "source": [
    "##### With RBINV"
   ]
  },
  {
   "cell_type": "code",
   "execution_count": null,
   "metadata": {},
   "outputs": [],
   "source": [
    "hist(log(CA_and_OR$rsq, base = 20))"
   ]
  },
  {
   "cell_type": "code",
   "execution_count": null,
   "metadata": {},
   "outputs": [],
   "source": [
    "hist(sqrt(CA_and_OR$rsq))"
   ]
  },
  {
   "cell_type": "code",
   "execution_count": null,
   "metadata": {},
   "outputs": [],
   "source": [
    "library(RNOmni)"
   ]
  },
  {
   "cell_type": "code",
   "execution_count": null,
   "metadata": {},
   "outputs": [],
   "source": [
    "hist(RankNorm(CA_and_OR$rsq))"
   ]
  },
  {
   "cell_type": "code",
   "execution_count": null,
   "metadata": {},
   "outputs": [],
   "source": [
    "Sys.time()"
   ]
  },
  {
   "cell_type": "code",
   "execution_count": null,
   "metadata": {},
   "outputs": [],
   "source": [
    "model7 <- lm(rsq ~ ns(dist^2) + ns(dist^2):population,\n",
    "             data = CA_and_OR_complete)"
   ]
  },
  {
   "cell_type": "code",
   "execution_count": null,
   "metadata": {},
   "outputs": [],
   "source": [
    "summary(model7)"
   ]
  },
  {
   "cell_type": "code",
   "execution_count": null,
   "metadata": {},
   "outputs": [],
   "source": [
    "Sys.time()"
   ]
  },
  {
   "cell_type": "code",
   "execution_count": null,
   "metadata": {},
   "outputs": [],
   "source": [
    "fit_val <- fitted(model7)\n",
    "res_val <- resid(model7)"
   ]
  },
  {
   "cell_type": "code",
   "execution_count": null,
   "metadata": {},
   "outputs": [],
   "source": [
    "length(fit_val)"
   ]
  },
  {
   "cell_type": "code",
   "execution_count": null,
   "metadata": {},
   "outputs": [],
   "source": [
    "sampled_n <- sample(1:length(fit_val),\n",
    "                    1000000)"
   ]
  },
  {
   "cell_type": "code",
   "execution_count": null,
   "metadata": {},
   "outputs": [],
   "source": [
    "fit_val_sel <- fit_val[sampled_n]\n",
    "res_val_sel <- res_val[sampled_n]"
   ]
  },
  {
   "cell_type": "code",
   "execution_count": null,
   "metadata": {},
   "outputs": [],
   "source": [
    "min(res_val_sel)"
   ]
  },
  {
   "cell_type": "code",
   "execution_count": null,
   "metadata": {},
   "outputs": [],
   "source": [
    "hist(res_val_sel)"
   ]
  },
  {
   "cell_type": "code",
   "execution_count": null,
   "metadata": {},
   "outputs": [],
   "source": [
    "plot(fit_val_sel, res_val_sel)"
   ]
  },
  {
   "cell_type": "code",
   "execution_count": null,
   "metadata": {},
   "outputs": [],
   "source": [
    "plot(fit_val_sel, res_val_sel, xlab = \"Fitted\", ylab = \"Residuals\")"
   ]
  },
  {
   "cell_type": "code",
   "execution_count": null,
   "metadata": {},
   "outputs": [],
   "source": [
    "CA_and_OR_backup <- CA_and_OR"
   ]
  },
  {
   "cell_type": "code",
   "execution_count": null,
   "metadata": {},
   "outputs": [],
   "source": [
    "CA_and_OR$rsq <- RankNorm(CA_and_OR$rsq)"
   ]
  },
  {
   "cell_type": "code",
   "execution_count": null,
   "metadata": {},
   "outputs": [],
   "source": []
  },
  {
   "cell_type": "code",
   "execution_count": null,
   "metadata": {},
   "outputs": [],
   "source": [
    "model8 <- lm(rsq ~ ns(dist^2) + ns(dist^2):population,\n",
    "             data = CA_and_OR)"
   ]
  },
  {
   "cell_type": "code",
   "execution_count": null,
   "metadata": {},
   "outputs": [],
   "source": [
    "summary(model8)"
   ]
  },
  {
   "cell_type": "code",
   "execution_count": null,
   "metadata": {},
   "outputs": [],
   "source": [
    "fit_val <- fitted(model8)\n",
    "res_val <- resid(model8)"
   ]
  },
  {
   "cell_type": "code",
   "execution_count": null,
   "metadata": {},
   "outputs": [],
   "source": [
    "length(fit_val)"
   ]
  },
  {
   "cell_type": "code",
   "execution_count": null,
   "metadata": {},
   "outputs": [],
   "source": [
    "sampled_n <- sample(1:length(fit_val),\n",
    "                    1000000)"
   ]
  },
  {
   "cell_type": "code",
   "execution_count": null,
   "metadata": {},
   "outputs": [],
   "source": [
    "fit_val_sel <- fit_val[sampled_n]\n",
    "res_val_sel <- res_val[sampled_n]"
   ]
  },
  {
   "cell_type": "code",
   "execution_count": null,
   "metadata": {},
   "outputs": [],
   "source": [
    "min(res_val_sel)"
   ]
  },
  {
   "cell_type": "code",
   "execution_count": null,
   "metadata": {},
   "outputs": [],
   "source": [
    "hist(res_val_sel)"
   ]
  },
  {
   "cell_type": "code",
   "execution_count": null,
   "metadata": {},
   "outputs": [],
   "source": [
    "plot(fit_val_sel, res_val_sel)"
   ]
  },
  {
   "cell_type": "code",
   "execution_count": null,
   "metadata": {},
   "outputs": [],
   "source": [
    "plot(fit_val_sel, res_val_sel, xlab = \"Fitted\", ylab = \"Residuals\")"
   ]
  },
  {
   "cell_type": "code",
   "execution_count": null,
   "metadata": {},
   "outputs": [],
   "source": [
    "# pX <- ggplot(CA_and_OR, aes(y=rsq, x=dist, color=population)) + \n",
    "# geom_point(shape=20,size=0.15, alpha = 0.15)+\n",
    "# geom_smooth(method = 'lm', formula = y~poly(x,2), level = 0.95)+ \n",
    "# #xlim(0, 10) + \n",
    "# #ylim(0, 0.7) + \n",
    "# labs(y = bquote('R'^2), x = \"Distance (kb)\") + \n",
    "# theme(text = element_text(size=20)) +\n",
    "# ggtitle(\"LD decay curve with transformed data\")"
   ]
  },
  {
   "cell_type": "code",
   "execution_count": null,
   "metadata": {},
   "outputs": [],
   "source": [
    "# pX"
   ]
  },
  {
   "cell_type": "code",
   "execution_count": null,
   "metadata": {},
   "outputs": [],
   "source": [
    "#model <- lm(CA_and_OR$rsq ~ poly(CA_and_OR$dist, 2) + CA_and_OR$rsq:CA_and_OR$population)"
   ]
  },
  {
   "cell_type": "markdown",
   "metadata": {},
   "source": [
    "Try permutations"
   ]
  },
  {
   "cell_type": "code",
   "execution_count": null,
   "metadata": {},
   "outputs": [],
   "source": [
    "CA_and_OR <- CA_and_OR_backup"
   ]
  },
  {
   "cell_type": "code",
   "execution_count": null,
   "metadata": {},
   "outputs": [],
   "source": [
    "#install.packages(\"permutes\")"
   ]
  },
  {
   "cell_type": "code",
   "execution_count": null,
   "metadata": {},
   "outputs": [],
   "source": [
    "# install.packages(\"buildmer\")"
   ]
  },
  {
   "cell_type": "code",
   "execution_count": null,
   "metadata": {},
   "outputs": [],
   "source": [
    "library(permutes)"
   ]
  },
  {
   "cell_type": "code",
   "execution_count": null,
   "metadata": {},
   "outputs": [],
   "source": [
    "Sys.time()"
   ]
  },
  {
   "cell_type": "code",
   "execution_count": null,
   "metadata": {},
   "outputs": [],
   "source": [
    "formula <- as.formula(\"rsq ~ ns(dist^2) + ns(dist^2):population\")"
   ]
  },
  {
   "cell_type": "code",
   "execution_count": null,
   "metadata": {},
   "outputs": [],
   "source": [
    "formula <- as.formula(\"rsq ~ dist\")"
   ]
  },
  {
   "cell_type": "code",
   "execution_count": null,
   "metadata": {},
   "outputs": [],
   "source": [
    "head(CA_and_OR)"
   ]
  },
  {
   "cell_type": "code",
   "execution_count": null,
   "metadata": {},
   "outputs": [],
   "source": [
    "anova_perms <- perm.lm(formula = formula,\n",
    "                        data = CA_and_OR,\n",
    "                        nperm = 3,\n",
    "                        type = \"anova\",\n",
    "                        progress = TRUE)"
   ]
  },
  {
   "cell_type": "markdown",
   "metadata": {},
   "source": [
    "Started at 6:43 Nov 16"
   ]
  },
  {
   "cell_type": "code",
   "execution_count": null,
   "metadata": {},
   "outputs": [],
   "source": [
    "Sys.time()"
   ]
  },
  {
   "cell_type": "code",
   "execution_count": null,
   "metadata": {},
   "outputs": [],
   "source": []
  },
  {
   "cell_type": "code",
   "execution_count": null,
   "metadata": {},
   "outputs": [],
   "source": []
  },
  {
   "cell_type": "code",
   "execution_count": null,
   "metadata": {},
   "outputs": [],
   "source": []
  },
  {
   "cell_type": "code",
   "execution_count": null,
   "metadata": {},
   "outputs": [],
   "source": []
  },
  {
   "cell_type": "code",
   "execution_count": null,
   "metadata": {},
   "outputs": [],
   "source": []
  },
  {
   "cell_type": "code",
   "execution_count": null,
   "metadata": {},
   "outputs": [],
   "source": []
  },
  {
   "cell_type": "code",
   "execution_count": null,
   "metadata": {},
   "outputs": [],
   "source": []
  },
  {
   "cell_type": "code",
   "execution_count": null,
   "metadata": {},
   "outputs": [],
   "source": []
  },
  {
   "cell_type": "code",
   "execution_count": null,
   "metadata": {},
   "outputs": [],
   "source": []
  },
  {
   "cell_type": "code",
   "execution_count": null,
   "metadata": {},
   "outputs": [],
   "source": []
  },
  {
   "cell_type": "code",
   "execution_count": null,
   "metadata": {},
   "outputs": [],
   "source": []
  },
  {
   "cell_type": "code",
   "execution_count": null,
   "metadata": {},
   "outputs": [],
   "source": []
  },
  {
   "cell_type": "code",
   "execution_count": null,
   "metadata": {},
   "outputs": [],
   "source": [
    "Sys.time()"
   ]
  },
  {
   "cell_type": "markdown",
   "metadata": {},
   "source": [
    "#### No random effects"
   ]
  },
  {
   "cell_type": "code",
   "execution_count": null,
   "metadata": {},
   "outputs": [],
   "source": [
    "dim(CA_and_OR_complete)"
   ]
  },
  {
   "cell_type": "code",
   "execution_count": null,
   "metadata": {},
   "outputs": [],
   "source": [
    "dim(CA_and_OR)"
   ]
  },
  {
   "cell_type": "code",
   "execution_count": null,
   "metadata": {},
   "outputs": [],
   "source": [
    "model <- lm(CA_and_OR$rsq ~ poly(CA_and_OR$dist, 2) + CA_and_OR$rsq:CA_and_OR$population)"
   ]
  },
  {
   "cell_type": "markdown",
   "metadata": {},
   "source": [
    "### With means over SNPs of a given distance"
   ]
  },
  {
   "cell_type": "code",
   "execution_count": null,
   "metadata": {},
   "outputs": [],
   "source": [
    "CA_and_OR <- rbind(CA, OR)"
   ]
  },
  {
   "cell_type": "markdown",
   "metadata": {
    "tags": []
   },
   "source": [
    "#### Mixed models"
   ]
  },
  {
   "cell_type": "code",
   "execution_count": null,
   "metadata": {
    "tags": []
   },
   "outputs": [],
   "source": [
    "library(nlme)"
   ]
  },
  {
   "cell_type": "code",
   "execution_count": null,
   "metadata": {},
   "outputs": [],
   "source": [
    "mlma1 <- lme(rsq ~ ns(dist^2),\n",
    "             random = ~1|population,\n",
    "             data = CA_and_OR)"
   ]
  },
  {
   "cell_type": "code",
   "execution_count": null,
   "metadata": {},
   "outputs": [],
   "source": [
    "summary(mlma1)"
   ]
  },
  {
   "cell_type": "code",
   "execution_count": null,
   "metadata": {},
   "outputs": [],
   "source": [
    "lma1 <- lm(rsq ~ ns(dist^2),\n",
    "             data = CA_and_OR)"
   ]
  },
  {
   "cell_type": "code",
   "execution_count": null,
   "metadata": {},
   "outputs": [],
   "source": [
    "an <- anova(mlma1, lma1)"
   ]
  },
  {
   "cell_type": "code",
   "execution_count": null,
   "metadata": {},
   "outputs": [],
   "source": [
    "an"
   ]
  },
  {
   "cell_type": "code",
   "execution_count": null,
   "metadata": {},
   "outputs": [],
   "source": [
    "summary(an)"
   ]
  },
  {
   "cell_type": "code",
   "execution_count": null,
   "metadata": {},
   "outputs": [],
   "source": [
    "mlma1 <- lme(rsq ~ ns(dist^2),\n",
    "             random = ns(dist^2)*population,\n",
    "             data = CA_and_OR)"
   ]
  },
  {
   "cell_type": "code",
   "execution_count": null,
   "metadata": {},
   "outputs": [],
   "source": [
    "library(lme4)"
   ]
  },
  {
   "cell_type": "code",
   "execution_count": null,
   "metadata": {},
   "outputs": [],
   "source": [
    "mlm <- lmer(CA_and_OR$rsq ~ poly(CA_and_OR$dist, 2) + (1|CA_and_OR$population))"
   ]
  },
  {
   "cell_type": "code",
   "execution_count": null,
   "metadata": {
    "tags": []
   },
   "outputs": [],
   "source": [
    "summary(mlm)"
   ]
  },
  {
   "cell_type": "code",
   "execution_count": null,
   "metadata": {},
   "outputs": [],
   "source": [
    "mlma3 <- lme(rsq ~ poly(dist, 2),\n",
    "             random = ~1|population,\n",
    "             data = CA_and_OR)"
   ]
  },
  {
   "cell_type": "code",
   "execution_count": null,
   "metadata": {
    "tags": []
   },
   "outputs": [],
   "source": [
    "summary(mlma3)"
   ]
  },
  {
   "cell_type": "code",
   "execution_count": null,
   "metadata": {},
   "outputs": [],
   "source": [
    "#mlma2 <- lmer(rsq ~ (poly(dist, 2) | population), data = CA_and_OR)"
   ]
  },
  {
   "cell_type": "markdown",
   "metadata": {},
   "source": [
    "#### No random effects"
   ]
  },
  {
   "cell_type": "code",
   "execution_count": null,
   "metadata": {},
   "outputs": [],
   "source": [
    "model <- lm(CA_and_OR$rsq ~ poly(CA_and_OR$dist, 2) + CA_and_OR$rsq:CA_and_OR$population)"
   ]
  },
  {
   "cell_type": "code",
   "execution_count": null,
   "metadata": {},
   "outputs": [],
   "source": [
    "summary(model)"
   ]
  }
 ],
 "metadata": {
  "kernelspec": {
   "display_name": "R",
   "language": "R",
   "name": "ir"
  },
  "language_info": {
   "codemirror_mode": "r",
   "file_extension": ".r",
   "mimetype": "text/x-r-source",
   "name": "R",
   "pygments_lexer": "r",
   "version": "4.1.3"
  }
 },
 "nbformat": 4,
 "nbformat_minor": 4
}
