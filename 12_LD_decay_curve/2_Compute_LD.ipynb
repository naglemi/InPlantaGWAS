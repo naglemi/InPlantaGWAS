{
 "cells": [
  {
   "cell_type": "markdown",
   "metadata": {},
   "source": [
    "# Use PLINK to calcualte LD between pairs of SNPs from new SNP set"
   ]
  },
  {
   "cell_type": "markdown",
   "metadata": {},
   "source": [
    "## Make a thinned version of the SNP set"
   ]
  },
  {
   "cell_type": "markdown",
   "metadata": {},
   "source": [
    "### Whole population"
   ]
  },
  {
   "cell_type": "code",
   "execution_count": null,
   "metadata": {},
   "outputs": [],
   "source": [
    "plink \\\n",
    "--bfile ../01_SNP_format_conversions/1323_cohort_maf05_geno01_contiguous.snp.pass \\\n",
    "--allow-extra-chr \\\n",
    "--thin 0.01 \\\n",
    "--make-bed \\\n",
    "--out 1323_cohort_maf05_geno01_contiguous_thin01.snp.pass"
   ]
  },
  {
   "cell_type": "markdown",
   "metadata": {},
   "source": [
    "### Subpopulation 2 (CA)"
   ]
  },
  {
   "cell_type": "code",
   "execution_count": null,
   "metadata": {},
   "outputs": [],
   "source": [
    "plink \\\n",
    "--bfile ../01_SNP_format_conversions/1323_cohort_maf05_geno01_contiguous.snp.pass \\\n",
    "--keep ./subpop2_CA_list.tbt \\\n",
    "--allow-extra-chr \\\n",
    "--thin 0.01 \\\n",
    "--make-bed \\\n",
    "--out 1323_cohort_maf05_geno01_contiguous_thin01_subpop2CA.snp.pass"
   ]
  },
  {
   "cell_type": "markdown",
   "metadata": {
    "heading_collapsed": "true"
   },
   "source": [
    "### Subpopulation 5 (OR)"
   ]
  },
  {
   "cell_type": "code",
   "execution_count": null,
   "metadata": {},
   "outputs": [],
   "source": [
    "plink \\\n",
    "--bfile ../01_SNP_format_conversions/1323_cohort_maf05_geno01_contiguous.snp.pass \\\n",
    "--keep ./subpop5_OR_list.tbt \\\n",
    "--allow-extra-chr \\\n",
    "--thin 0.01 \\\n",
    "--make-bed \\\n",
    "--out 1323_cohort_maf05_geno01_contiguous_thin01_subpop5OR.snp.pass"
   ]
  },
  {
   "cell_type": "markdown",
   "metadata": {},
   "source": [
    "## Calculate LD for pairs of SNPs"
   ]
  },
  {
   "cell_type": "markdown",
   "metadata": {},
   "source": [
    "Let's follow instructions here:\n",
    "https://www.biostars.org/p/300381/"
   ]
  },
  {
   "cell_type": "markdown",
   "metadata": {},
   "source": [
    "### Whole population"
   ]
  },
  {
   "cell_type": "code",
   "execution_count": null,
   "metadata": {},
   "outputs": [],
   "source": [
    "plink \\\n",
    "--bfile 1323_cohort_maf05_geno01_contiguous_thin01.snp.pass \\\n",
    "--allow-extra-chr \\\n",
    "--r2 --ld-window-r2 0 \\\n",
    "--ld-window 999999 --ld-window-kb 50000 \\\n",
    "--out LDMAP_0.05maf_0.1geno_0.01thin"
   ]
  },
  {
   "cell_type": "markdown",
   "metadata": {},
   "source": [
    "### Subpopulation 2 (CA)"
   ]
  },
  {
   "cell_type": "code",
   "execution_count": null,
   "metadata": {},
   "outputs": [],
   "source": [
    "plink \\\n",
    "--bfile 1323_cohort_maf05_geno01_contiguous_thin01_subpop2CA.snp.pass \\\n",
    "--allow-extra-chr \\\n",
    "--r2 --ld-window-r2 0 \\\n",
    "--ld-window 999999 --ld-window-kb 50000 \\\n",
    "--out LDMAP_0.05maf_0.1geno_0.01thin_subpop2CA"
   ]
  },
  {
   "cell_type": "markdown",
   "metadata": {},
   "source": [
    "### Subpopulation 5 (OR)"
   ]
  },
  {
   "cell_type": "code",
   "execution_count": null,
   "metadata": {},
   "outputs": [],
   "source": [
    "plink \\\n",
    "--bfile 1323_cohort_maf05_geno01_contiguous_thin01_subpop5OR.snp.pass \\\n",
    "--allow-extra-chr \\\n",
    "--r2 --ld-window-r2 0 \\\n",
    "--ld-window 999999 --ld-window-kb 50000 \\\n",
    "--out LDMAP_0.05maf_0.1geno_0.01thin_subpop5OR"
   ]
  },
  {
   "cell_type": "markdown",
   "metadata": {},
   "source": [
    "## Try an alternative approach (from user \"rmf\")"
   ]
  },
  {
   "cell_type": "code",
   "execution_count": null,
   "metadata": {},
   "outputs": [],
   "source": [
    "plink --bfile \"1323_cohort_maf05_geno01_contiguous_thin01.snp.pass\"  \\\n",
    "--blocks --blocks-max-kb 200 --out \"1323_cohort_maf05_geno01_contiguous_thin01.snp.pass\""
   ]
  },
  {
   "cell_type": "code",
   "execution_count": null,
   "metadata": {},
   "outputs": [],
   "source": []
  }
 ],
 "metadata": {
  "kernelspec": {
   "display_name": "Bash",
   "language": "bash",
   "name": "bash"
  },
  "language_info": {
   "codemirror_mode": "shell",
   "file_extension": ".sh",
   "mimetype": "text/x-sh",
   "name": "bash"
  }
 },
 "nbformat": 4,
 "nbformat_minor": 4
}
