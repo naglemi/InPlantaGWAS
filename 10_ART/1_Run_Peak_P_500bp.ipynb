{
 "cells": [
  {
   "cell_type": "markdown",
   "metadata": {},
   "source": [
    "# Run method for calculating p-values of SNPs combined over peaks"
   ]
  },
  {
   "cell_type": "code",
   "execution_count": null,
   "metadata": {},
   "outputs": [],
   "source": [
    "setwd(\"../../InPlantaGWAS/11_Data_mining/QTLmineR/\")"
   ]
  },
  {
   "cell_type": "code",
   "execution_count": null,
   "metadata": {},
   "outputs": [],
   "source": [
    "source(\"ART.R\")\n",
    "\n",
    "library(data.table)"
   ]
  },
  {
   "cell_type": "code",
   "execution_count": null,
   "metadata": {},
   "outputs": [],
   "source": [
    "file_path <- \"shoot_4w_nothreshold_nodupfilter_keepoutliers_boxcox_outa3.assoc.txt\""
   ]
  },
  {
   "cell_type": "markdown",
   "metadata": {},
   "source": [
    "## Prepare and inspect data"
   ]
  },
  {
   "cell_type": "code",
   "execution_count": null,
   "metadata": {},
   "outputs": [],
   "source": [
    "result <-\n",
    "  fread(file_path,\n",
    "        header = TRUE)\n",
    "colnames(result)[12] <- \"P\"\n",
    "\n",
    "dir_snp_files <-\n",
    "  \"/media/helpdesk/Elements1/SLURMS_backup_6.3.21/oasis/naglemi/SKAT_testing/split_Chr_2to8parts/\""
   ]
  },
  {
   "cell_type": "markdown",
   "metadata": {},
   "source": [
    "## Load functions"
   ]
  },
  {
   "cell_type": "code",
   "execution_count": null,
   "metadata": {},
   "outputs": [],
   "source": [
    "find_peaks <- function(result, half_window_size, pvalue_threshold_peak,\n",
    "                       pvalue_threshold_window, number_pvalue_threshold)\n",
    "{\n",
    "  windows <- list()\n",
    "\n",
    "  peaks <- which(result$P < pvalue_threshold_peak)\n",
    "  chr_peaks <- result$chr[peaks]\n",
    "\n",
    "  # Only keep the peaks on chromesomes 1 to 19\n",
    "  peaks <- peaks[chr_peaks %in% (1 : 19)]\n",
    "  chr_peaks <- chr_peaks[chr_peaks %in% (1 : 19)]\n",
    "\n",
    "  k <- 0\n",
    "  for(chr in unique(chr_peaks))\n",
    "  {\n",
    "    peaks_chr <- peaks[chr_peaks == chr]\n",
    "    for(i in 1 : length(peaks_chr))\n",
    "    {\n",
    "      ps_peak <- result$ps[peaks_chr[i]]\n",
    "      ps_left <- ps_peak - half_window_size\n",
    "      ps_right <- ps_peak + half_window_size\n",
    "\n",
    "      window <- which(result$chr == chr & result$ps >= ps_left &\n",
    "                        result$ps <= ps_right)\n",
    "      #print(length(window))\n",
    "\n",
    "      #print(sum(result[window, ]$p_wald < pvalue_threshold_window))\n",
    "      if(sum(result[window, ]$P < pvalue_threshold_window,\n",
    "             na.rm = TRUE) >=\n",
    "         number_pvalue_threshold)\n",
    "      {\n",
    "        k <- k + 1\n",
    "        #cat(\"k =\", k, \"\\n\")\n",
    "        windows[[k]] <- result[window, ]\n",
    "      }\n",
    "    }\n",
    "  }\n",
    "    \n",
    "  cat(\"max k =\", k, \"\\n\")\n",
    "  return(windows)\n",
    "}"
   ]
  },
  {
   "cell_type": "code",
   "execution_count": null,
   "metadata": {},
   "outputs": [],
   "source": [
    "compute_window_pvalues <- function(windows, top_proportion = 0.5,\n",
    "                                   decorrelation = FALSE,\n",
    "                                   dir_snp_files = dir_snp_files)\n",
    "{\n",
    "  p_windows <- list()\n",
    "\n",
    "  for(i in 1 : length(windows))\n",
    "  {\n",
    "    #print(i)\n",
    "    window <- windows[[i]]\n",
    "    d <- data.frame(rs = window$rs, chr = window$chr, pos = window$ps,\n",
    "                    Z = window$beta/window$se)\n",
    "\n",
    "    if(!decorrelation)\n",
    "    {\n",
    "      Z <- d$Z\n",
    "      L <- length(Z)\n",
    "      x <- Z^2\n",
    "      k <- round(top_proportion * L)\n",
    "      px <- 1 - pchisq(x, df = 1)\n",
    "      P <- sort(px)\n",
    "      P_rtp <- RTP(sum(-log(P[1 : k])), k, L)\n",
    "      P_art <- ART(sum(log(P[1 : (k - 1)])), P[k], k, L)\n",
    "      P_arta <- ART.A(P, k, L)\n",
    "      #print(c(P_rtp, P_art, P_arta[1]))\n",
    "      p_windows[[i]] <- c(P_art, P_rtp, P_arta[1])\n",
    "    }\n",
    "    else\n",
    "    {\n",
    "      chr <- window$chr[1]\n",
    "      files_dir <- dir(dir_snp_files)\n",
    "      snp_file_name_front <- paste(\"1323_cohort_mincount1_defaultmissingrates_Chr\",\n",
    "                                   chr, sep = \"\")\n",
    "      nchar_snp_file_name_front <- nchar(snp_file_name_front)\n",
    "      is_snp_file_name_front <-\n",
    "        substr(files_dir, start = 1,\n",
    "               stop = nchar_snp_file_name_front) == snp_file_name_front\n",
    "      snp_files <- files_dir[is_snp_file_name_front]\n",
    "\n",
    "      for(j in 1 : length(snp_files))\n",
    "      {\n",
    "        snp_file <- snp_files[j]\n",
    "        #print(snp_file)\n",
    "        gc()\n",
    "        snp_data <- fread(paste(dir_snp_files, snp_file, sep = \"\"))\n",
    "        gc()\n",
    "        snp_data_pos_start <- snp_data$POS[1]\n",
    "        snp_data_pos_end <- snp_data$POS[nrow(snp_data)]\n",
    "        snp_window_pos_start <- window$ps[1]\n",
    "        snp_window_pos_end <- window$ps[nrow(window)]\n",
    "\n",
    "        if(snp_window_pos_start < snp_data_pos_start ||\n",
    "           snp_window_pos_end > snp_data_pos_end) {\n",
    "          #print(\"Wrong snp file!\")\n",
    "          break\n",
    "        }\n",
    "        else {\n",
    "          snps_window <- subset(snp_data, SNP %in% window$rs)\n",
    "          snps_window <- merge(window, snps_window, by.x = \"rs\", by.y = \"SNP\")\n",
    "\n",
    "          #print(dim(snps_window))\n",
    "\n",
    "          S <- cor(t(snps_window[, -(1 : 17)]), use = \"complete.obs\")\n",
    "\n",
    "          # png(filename = paste(\"LD_window\", i, \".png\", sep = \"\"), width = 480*2, height = 480*2)\n",
    "          # heatmap(S)\n",
    "          # dev.off()\n",
    "\n",
    "          ## the number of statistics\n",
    "          Z <- d$Z\n",
    "          L <- length(Z)\n",
    "          ## eigen decomposition of the LD matrix\n",
    "          ee <- eigen(S); eivec <- ee$vectors; eigva <- ee$values\n",
    "\n",
    "          # eigva[eigva <= 1e-5] <- 1e-5\n",
    "\n",
    "          pc <- eivec %*% diag(sqrt(1/eigva)) %*% t(eivec)\n",
    "          # #print(dim(pc))\n",
    "          ## calculate decorrelated statistics\n",
    "          x <- (Z %*% pc)^2\n",
    "          k <- round(top_proportion * L)\n",
    "          px <- 1 - pchisq(x, df=1)\n",
    "          P <- sort(px)\n",
    "          P_rtp <- RTP(sum(-log(P[1 : k])), k, L)\n",
    "          P_art <- ART(sum(log(P[1 : (k - 1)])), P[k], k, L)\n",
    "          P_arta <- ART.A(P, k, L)\n",
    "          #print(c(P_rtp, P_art, P_arta[1]))\n",
    "          p_windows[[i]] <- c(P_art, P_rtp, P_arta[1])\n",
    "        }\n",
    "      }\n",
    "    }\n",
    "  }\n",
    "  return(p_windows)\n",
    "}"
   ]
  },
  {
   "cell_type": "markdown",
   "metadata": {},
   "source": [
    "## Set parameters "
   ]
  },
  {
   "cell_type": "markdown",
   "metadata": {},
   "source": [
    "for finding findows"
   ]
  },
  {
   "cell_type": "code",
   "execution_count": null,
   "metadata": {},
   "outputs": [],
   "source": [
    "half_window_size <- 500\n",
    "pvalue_threshold_peak <- 1e-5\n",
    "pvalue_threshold_window <- 1e-4\n",
    "number_pvalue_threshold <- 5"
   ]
  },
  {
   "cell_type": "markdown",
   "metadata": {},
   "source": [
    "for calculating window p-values"
   ]
  },
  {
   "cell_type": "code",
   "execution_count": null,
   "metadata": {},
   "outputs": [],
   "source": [
    "top_proportion <- 0.5\n",
    "decorrelation <- FALSE"
   ]
  },
  {
   "cell_type": "code",
   "execution_count": null,
   "metadata": {},
   "outputs": [],
   "source": [
    "results_table <- fread(\"../../11_Data_mining/1_Table_results_by_method_a3_rmcrazygmmat.csv\", na.strings = \"\")\n",
    "#results_table <- fread(\"../11_Data_mining/1_Table_results_by_method_a3_rmcrazygmmat.csv\", na.strings = \"\")"
   ]
  },
  {
   "cell_type": "code",
   "execution_count": null,
   "metadata": {},
   "outputs": [],
   "source": [
    "outdir_base <- \"Results/PeakWindowP/\""
   ]
  },
  {
   "cell_type": "code",
   "execution_count": null,
   "metadata": {},
   "outputs": [],
   "source": [
    "library(tools)"
   ]
  },
  {
   "cell_type": "code",
   "execution_count": null,
   "metadata": {},
   "outputs": [],
   "source": [
    "setwd(\"/mnt/data/NSF_GWAS/notebooks/InPlantaGWAS/11_Data_mining/\")"
   ]
  },
  {
   "cell_type": "code",
   "execution_count": null,
   "metadata": {},
   "outputs": [],
   "source": [
    "df <- data.frame()"
   ]
  },
  {
   "cell_type": "code",
   "execution_count": null,
   "metadata": {},
   "outputs": [],
   "source": [
    "library(dplyr)"
   ]
  },
  {
   "cell_type": "code",
   "execution_count": null,
   "metadata": {},
   "outputs": [],
   "source": [
    "dim(results_table)"
   ]
  },
  {
   "cell_type": "code",
   "execution_count": null,
   "metadata": {},
   "outputs": [],
   "source": [
    "library(foreach)"
   ]
  },
  {
   "cell_type": "code",
   "execution_count": null,
   "metadata": {},
   "outputs": [],
   "source": [
    "#results_combined <- foreach(i=1:nrow(results_table), .combine = \"rbind\")%do%{\n",
    "for(h in c(1:nrow(results_table))){\n",
    "    print(h)\n",
    "    this_trait <- results_table[h, ]\n",
    "    \n",
    "    this_trait <- na.omit(unlist(this_trait))\n",
    "    this_raw_trait_name <- this_trait['raw_trait']\n",
    "    this_raw_trait_path <- this_trait['raw_trait_path']\n",
    "    these_results_this_trait <- this_trait[3:length(this_trait)]\n",
    "\n",
    "    trait_prefix <- basename(file_path_sans_ext(file_path_sans_ext(this_raw_trait_path)))\n",
    "\n",
    "    output_dir <- paste0(outdir_base,\n",
    "                         trait_prefix)\n",
    "    \n",
    "    if(!dir.exists(output_dir)) dir.create(output_dir, recursive = TRUE)\n",
    "    \n",
    "    if(length(na.omit(these_results_this_trait)) > 1){\n",
    "    \n",
    "        for(j in 1:length(these_results_this_trait)){\n",
    "\n",
    "            if (grepl(\"gmmat\", these_results_this_trait[j], ignore.case=TRUE)) method <- \"GMMAT\"\n",
    "            if (grepl(\"gemma\", these_results_this_trait[j], ignore.case=TRUE)) method <- \"GEMMA\"\n",
    "            if (grepl(\"skat\", these_results_this_trait[j], ignore.case=TRUE)) method <- \"MTMCSKAT\"\n",
    "            if (grepl(\"farm\", these_results_this_trait[j], ignore.case=TRUE)) method <- \"FarmCPUpp\"\n",
    "\n",
    "            print(these_results_this_trait[j])\n",
    "            print(method)\n",
    "            \n",
    "            batch <- names(these_results_this_trait[j])\n",
    "\n",
    "            this_result_file <- these_results_this_trait[j]\n",
    "\n",
    "            if(method == \"GEMMA\"){\n",
    "                result <- fread(this_result_file)\n",
    "                colnames(result)[12] <- \"P\"\n",
    "                #print(head(result))\n",
    "            }\n",
    "\n",
    "            if(method == \"GMMAT\"){\n",
    "                result <- fread(paste0(this_result_file, \".score.glmm\"))\n",
    "                colnames(result) <- c(\"rs\", \"chr\", \"ps\",\n",
    "                                      \"ref\", \"alt\", \"n\",\n",
    "                                      \"missrate\", \"af\",\n",
    "                                      \"beta\", \"var\", \"P\")\n",
    "                result$se <- sqrt(result$var)\n",
    "                #print(head(result))\n",
    "            }\n",
    "\n",
    "            if(method == \"MTMCSKAT\"){\n",
    "                next\n",
    "            }\n",
    "\n",
    "            if(method == \"FarmCPUpp\"){\n",
    "                next\n",
    "\n",
    "            }\n",
    "\n",
    "            windows <- try(find_peaks(result,\n",
    "                                half_window_size,\n",
    "                                pvalue_threshold_peak,\n",
    "                                pvalue_threshold_window,\n",
    "                                number_pvalue_threshold))\n",
    "\n",
    "            if(length(windows) >= 1){\n",
    "                pvalues_windows <- try(compute_window_pvalues(windows, top_proportion = top_proportion,\n",
    "                                                              decorrelation = decorrelation,\n",
    "                                                              dir_snp_files = dir_snp_files))\n",
    "\n",
    "                window_summary <- foreach(i = 1:length(windows), .combine = \"rbind\") %do% {\n",
    "                    window <- windows[[i]]\n",
    "                    window_center_p <- min(window$P)\n",
    "\n",
    "                    n_SNPs <- nrow(window)\n",
    "\n",
    "                    window_center <- (window$ps[which(window$P == window_center_p)])[1]\n",
    "                    window_center_chr <- as.character((window$chr[which(window$P == window_center_p)])[1])\n",
    "                    # Take first element to handle cases where two adjacent have same p-val, but we need a \n",
    "                    #   specific position to merge by later (when merging with QTL Utils results)\n",
    "\n",
    "                    window_pval <- pvalues_windows[[i]][3]\n",
    "\n",
    "                    out <- c(window_center_chr, window_center, n_SNPs, window_center_p, window_pval)\n",
    "\n",
    "                    out\n",
    "                }\n",
    "\n",
    "                if(length(windows) > 1){\n",
    "                    window_summary <- as.data.table(window_summary)\n",
    "                }\n",
    "\n",
    "                if(length(windows) == 1){\n",
    "                    window_summary.backup <- window_summary\n",
    "                    window_summary <- as.data.table(t(window_summary))\n",
    "                }\n",
    "\n",
    "                colnames(window_summary) <- c(\"window_center_chr\", \"window_center\", \"n_SNPs\", \"window_center_p\", \"window_pval\")\n",
    "\n",
    "                window_summary$file_path <- this_raw_trait_path\n",
    "                window_summary$batch <- batch\n",
    "                window_summary$method <- method\n",
    "                window_summary$raw_trait_name <- this_raw_trait_name\n",
    "                \n",
    "\n",
    "\n",
    "\n",
    "                df <- dplyr::bind_rows(df, window_summary)\n",
    "                #return(window_summary)\n",
    "            }\n",
    "            \n",
    "\n",
    "\n",
    "        } \n",
    "    } else {\n",
    "        message(paste0(\"No results for trait \", this_raw_trait_name))\n",
    "\n",
    "  }\n",
    "}"
   ]
  },
  {
   "cell_type": "code",
   "execution_count": null,
   "metadata": {},
   "outputs": [],
   "source": [
    "dim(df)"
   ]
  },
  {
   "cell_type": "code",
   "execution_count": null,
   "metadata": {},
   "outputs": [],
   "source": [
    "head(df)"
   ]
  },
  {
   "cell_type": "code",
   "execution_count": null,
   "metadata": {},
   "outputs": [],
   "source": [
    "levels(factor(df$raw_trait_name))"
   ]
  },
  {
   "cell_type": "code",
   "execution_count": null,
   "metadata": {},
   "outputs": [],
   "source": [
    "length(windows)"
   ]
  },
  {
   "cell_type": "code",
   "execution_count": null,
   "metadata": {},
   "outputs": [],
   "source": [
    "head(result)"
   ]
  },
  {
   "cell_type": "code",
   "execution_count": null,
   "metadata": {},
   "outputs": [],
   "source": [
    "fwrite(df, \"/mnt/data/NSF_GWAS/notebooks/InVitroRegenGWAS/06_Peak_pvals/3-OUT_Peak_P_a1_500bp_window.csv\")"
   ]
  },
  {
   "cell_type": "code",
   "execution_count": null,
   "metadata": {},
   "outputs": [],
   "source": [
    "Sys.time()"
   ]
  },
  {
   "cell_type": "code",
   "execution_count": null,
   "metadata": {},
   "outputs": [],
   "source": [
    "getwd()"
   ]
  },
  {
   "cell_type": "code",
   "execution_count": null,
   "metadata": {},
   "outputs": [],
   "source": [
    "head(df)"
   ]
  },
  {
   "cell_type": "code",
   "execution_count": null,
   "metadata": {},
   "outputs": [],
   "source": []
  }
 ],
 "metadata": {
  "kernelspec": {
   "display_name": "R",
   "language": "R",
   "name": "ir"
  },
  "language_info": {
   "codemirror_mode": "r",
   "file_extension": ".r",
   "mimetype": "text/x-r-source",
   "name": "R",
   "pygments_lexer": "r",
   "version": "4.1.3"
  }
 },
 "nbformat": 4,
 "nbformat_minor": 4
}
