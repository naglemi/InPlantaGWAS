{
 "cells": [
  {
   "cell_type": "markdown",
   "metadata": {},
   "source": [
    "# Use PLINK to convert all VCFs, for both SNP sets, into formats used for downstream GWAS"
   ]
  },
  {
   "cell_type": "markdown",
   "metadata": {},
   "source": [
    "#### `bed` used for GEMMA, GMMAT"
   ]
  },
  {
   "cell_type": "code",
   "execution_count": null,
   "metadata": {},
   "outputs": [],
   "source": [
    "plink --vcf ../SNPs/1323_VCF/gatk_filtering/1323_cohort.snp.pass.vcf.gz \\\n",
    "--maf 0.01 \\\n",
    "--geno 0.1 \\\n",
    "--allow-extra-chr \\\n",
    "--make-bed \\\n",
    "--set-missing-var-ids @:#_\\$1_\\$2 \\\n",
    "--output-missing-genotype 0 \\\n",
    "--out 1323_cohort_maf01_geno10.snp.pass"
   ]
  },
  {
   "cell_type": "markdown",
   "metadata": {},
   "source": [
    "`traw` used for SKAT"
   ]
  },
  {
   "cell_type": "code",
   "execution_count": null,
   "metadata": {},
   "outputs": [],
   "source": [
    "plink --vcf /scratch2/NSF_GWAS/notebooks/InPlantaGWAS/SNPs/1323_VCF/gatk_filtering/1323_cohort.snp.pass.vcf.gz \\\n",
    "--mac 1 \\\n",
    "--allow-extra-chr \\\n",
    "--recode A-transpose \\\n",
    "--set-missing-var-ids @:#_\\$1_\\$2 \\\n",
    "--output-missing-genotype 0 \\\n",
    "--out 1323_cohort_mincount1_defaultmissingrates.snp.pass"
   ]
  }
 ],
 "metadata": {
  "kernelspec": {
   "display_name": "Bash",
   "language": "bash",
   "name": "bash"
  },
  "language_info": {
   "codemirror_mode": "shell",
   "file_extension": ".sh",
   "mimetype": "text/x-sh",
   "name": "bash"
  }
 },
 "nbformat": 4,
 "nbformat_minor": 4
}
