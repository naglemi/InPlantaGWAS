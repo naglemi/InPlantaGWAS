{
 "cells": [
  {
   "cell_type": "markdown",
   "metadata": {},
   "source": [
    "# Split `.traw` SNP file into one for each chromosome"
   ]
  },
  {
   "cell_type": "code",
   "execution_count": null,
   "metadata": {},
   "outputs": [],
   "source": [
    "library(data.table)"
   ]
  },
  {
   "cell_type": "code",
   "execution_count": null,
   "metadata": {},
   "outputs": [],
   "source": [
    "traw_in_path <- \"1323_cohort_mincount1_defaultmissingrates.snp.pass.traw\""
   ]
  },
  {
   "cell_type": "code",
   "execution_count": null,
   "metadata": {},
   "outputs": [],
   "source": [
    "traw_in <- fread(traw_in_path)"
   ]
  },
  {
   "cell_type": "code",
   "execution_count": null,
   "metadata": {},
   "outputs": [],
   "source": [
    "for(i in 1:19){\n",
    "    print(paste(\"Starting for Chr.\", i))\n",
    "    traw_this_chr <- traw_in[which(traw_in$CHR == i), ]\n",
    "    traw_out_path <- gsub(\".snp.pass.traw\",\n",
    "                          paste0(\"_Chr\", i, \".snp.pass.traw.gz\"),\n",
    "                          traw_in_path)\n",
    "    print(paste(nrow(traw_this_chr), \"SNPs on Chr. \", i))\n",
    "    print(paste(\"Writing out\", traw_out_path))\n",
    "    fwrite(traw_this_chr,\n",
    "           traw_out_path,\n",
    "           row.names = FALSE,\n",
    "           quote = FALSE,\n",
    "           #header = TRUE,\n",
    "           sep = \"\\t\")\n",
    "}"
   ]
  }
 ],
 "metadata": {
  "kernelspec": {
   "display_name": "R",
   "language": "R",
   "name": "ir"
  },
  "language_info": {
   "codemirror_mode": "r",
   "file_extension": ".r",
   "mimetype": "text/x-r-source",
   "name": "R",
   "pygments_lexer": "r",
   "version": "4.1.3"
  }
 },
 "nbformat": 4,
 "nbformat_minor": 4
}
